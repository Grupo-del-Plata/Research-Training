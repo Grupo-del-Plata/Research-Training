{
 "cells": [
  {
   "cell_type": "markdown",
   "metadata": {},
   "source": [
    "**1. Introducción a Python**\n",
    "   + Instalación de Python y Jupyter Notebook con Anaconda.\n",
    "   + Conceptos elementales en Python.  \n",
    "\n",
    "**2. Probabilidad**\n",
    "   + Variable Aleatoria, Función de Distribución y Momentos de una Variable Aleatoria. \n",
    "   + Generación de Variables Aleatorias en Python.\n",
    "\n",
    "**3. Estadística Descriptiva**\n",
    "   + Tipos de Variables.\n",
    "   + Tablas y Gráficos.\n",
    "\n",
    "**4. Series de Tiempo**\n",
    "   + Precios vs. Retornos.\n",
    "   + Retornos Medios. Volatilidad. Sharpe Ratio.\n",
    "   + Covarianza y Correlaciones.\n",
    "   \n",
    "**5. Estadística Inferencial**\n",
    "   + Regresión Lineal.\n",
    "   + Intervalos de Confianza."
   ]
  },
  {
   "cell_type": "markdown",
   "metadata": {},
   "source": [
    "# 1. Introducción a Python \n",
    "\n",
    "***\n",
    "\n",
    "### ¿Qué es Python?\n",
    "\n",
    "<img src='Images/Python_Logo.png' width=\"15%\" align=\"center\"/>\n",
    "\n",
    "<p style='text-align: justify;'> Python es un lenguaje de programación de código abierto, alto nivel, y propósito general. Esto implica que se puede utilizar sin costo, que posee una sintaxis cercana a la lógica humana y que posee múltiples campos de aplicación. La popularidad de Python reside en dos pilares. Primero, es un lenguaje fácil de aprender, diseñado para ser altamente legible, con una sintaxis clara e intuitiva. Segundo, es uno de los lenguajes de programación más poderosos y preferido por los especialistas.</p>\n",
    "\n",
    "### Propuesta de discusión: ¿Por qué aprender un lenguaje de programación?\n",
    "\n",
    "### ¿Qué es Jupyter Notebook?\n",
    "\n",
    "<img src='https://upload.wikimedia.org/wikipedia/commons/thumb/3/38/Jupyter_logo.svg/1200px-Jupyter_logo.svg.png' width=\"15%\" align=\"center\"/>\n",
    "\n",
    "<p style='text-align: justify;'> Jupyter Notebook es una aplicación cliente-servidor lanzada en 2015 por la organización sin ánimo de lucro Proyecto Jupyter. Esta aplicación permite crear y compartir documentos que siguen un esquema versionado y una lista ordenada de celdas de entrada y de salida. Estas celdas albergan, entre otras cosas, código, texto (en formato Markdown), fórmulas matemáticas y ecuaciones, o también contenido multimedia. El programa se ejecuta desde la aplicación web cliente que funciona en cualquier navegador estándar. El requisito previo es instalar y ejecutar en el sistema el servidor Jupyter Notebook.</p> \n",
    "\n",
    "<p style='text-align: justify;'>Los dos componentes principales de Jupyter Notebook son un conjunto de núcleos (Interpreter) y el Dashboard. Cada núcleo o kernel es un motor de ejecución para un lenguaje que se encarga de procesar las solicitudes y devolver las respuestas apropiadas. El kernel por defecto es IPython, un intérprete de líneas de comandos que permite trabajar con Python. El Dashboard es un panel de control que muestra los archivos locales y permite abrir y editar las notebooks. </p>\n",
    "\n",
    "\n",
    "## Instalación de Python y Jupyter Notebook con Anaconda\n",
    "\n",
    "### ¿Qué es Anaconda?\n",
    "\n",
    "<p style='text-align: justify;'>Anaconda es una plataforma que tiene por objetivo facilitar la distribución y el manejo efectivo de los lenguajes de programación R y Python para su aplicación en ciencia de datos y machine lerning, principalmente. </p> \n",
    "\n",
    "### ¿Cuáles son los pasos a seguir para completar la instalación?\n",
    "\n",
    "<p style='text-align: justify;'>En primer lugar, accederemos al sitio web de Anaconda, desde donde podremos descargar el instalador de acuerdo al sistema operativo con cuente cada uno de nuestros dispositivos. </p> \n",
    "\n",
    "https://www.anaconda.com/distribution/#download-section\n",
    "\n",
    "<p style='text-align: justify;'> En segundo lugar, una vez descargado el instalador de Anaconda, iniciamos el proceso de instalación. En esta instancia se puede optar por elegir la carpeta de destino donde se instalará el programa. Cuando el proceso de instalación haya finalizado con éxito, aparecerá un cuadro de diálogo con la leyenda “Thanks for installing Anaconda”.</p>\n",
    "\n",
    "<p style='text-align: justify;'> En tercer lugar, luego de completar la instación de Anaconda, debemos descargar en el sistema, el servidor Jupyter Notebook. Para ello, abriremos el lector de líneas de código disponible en Windonws llamado Command Prompt.</p>\n",
    "\n",
    "<img src='Images/CMD.png' width=\"40%\" align=\"center\"/>\n",
    "\n",
    "A continuación, corremos la siguiente línea de código: *conda install -c anaconda jupyter*.\n",
    "\n",
    "<p style='text-align: justify;'>Una vez que finaliza el proceso, podemos abrir Jupyter Notebook. </p>"
   ]
  },
  {
   "cell_type": "markdown",
   "metadata": {},
   "source": [
    "## Conceptos Elementales en Python "
   ]
  },
  {
   "cell_type": "code",
   "execution_count": null,
   "metadata": {},
   "outputs": [],
   "source": [
    "# Impresión en consola\n",
    "\n",
    "name = 'Especialización en Dirección de Finanzas'\n",
    "print('Bienvenidos a', name)"
   ]
  },
  {
   "cell_type": "code",
   "execution_count": null,
   "metadata": {
    "scrolled": true
   },
   "outputs": [],
   "source": [
    "# Operadores de asignación y aritméticos\n",
    "\n",
    "x = 100\n",
    "y = 21\n",
    "\n",
    "print(x + y)    # Suma\n",
    "print(x - y)    # Resta\n",
    "print(x * y)    # Multiplicación\n",
    "print(x / y)    # División \n",
    "print(x % y)    # Módulo\n",
    "print(x ** 2)   # Exponente\n",
    "print(x // y)   # División Floor "
   ]
  },
  {
   "cell_type": "code",
   "execution_count": 3,
   "metadata": {},
   "outputs": [
    {
     "name": "stdout",
     "output_type": "stream",
     "text": [
      "False\n",
      "True\n",
      "True\n",
      "False\n"
     ]
    }
   ],
   "source": [
    "# Operadores de comparación  \n",
    "\n",
    "print(x == y)   # Igualdad\n",
    "print(x != y)   # Diferencia\n",
    "print(x >= y)   # Mayor o Igual \n",
    "print(x <= y)   # Menor o Igual"
   ]
  },
  {
   "cell_type": "code",
   "execution_count": 4,
   "metadata": {},
   "outputs": [
    {
     "name": "stdout",
     "output_type": "stream",
     "text": [
      "A is greater than B\n"
     ]
    }
   ],
   "source": [
    "# Sentencia if else\n",
    "\n",
    "a = 200\n",
    "b = 33\n",
    "\n",
    "if b > a: \n",
    "    print(\"B is greater than A\")\n",
    "elif a == b:\n",
    "    print(\"A and B are equal\")\n",
    "else:\n",
    "    print(\"A is greater than B\")"
   ]
  },
  {
   "cell_type": "markdown",
   "metadata": {},
   "source": [
    "### Tipología de Datos en Python \n",
    "\n",
    "Python acepta diferentes tipos de datos, los cuales se detallan a continuación. \n",
    "\n",
    "**Números** \n",
    "\n",
    "<p style='text-align: justify;'> Los objetos numéricos se crean cuando se les asigna un valor. Python soporta tres tipos de números diferentes.</p>\n",
    "\n",
    "- Números enteros (*integer*).\n",
    "- Números reales con parte decimal (*float*).\n",
    "- Números complejos (*complex*). "
   ]
  },
  {
   "cell_type": "code",
   "execution_count": 5,
   "metadata": {},
   "outputs": [],
   "source": [
    "my_int = 10\n",
    "my_float = 15.789\n",
    "my_comp = 3+5j"
   ]
  },
  {
   "cell_type": "code",
   "execution_count": 6,
   "metadata": {},
   "outputs": [
    {
     "data": {
      "text/plain": [
       "int"
      ]
     },
     "execution_count": 6,
     "metadata": {},
     "output_type": "execute_result"
    }
   ],
   "source": [
    "type(my_int)"
   ]
  },
  {
   "cell_type": "markdown",
   "metadata": {},
   "source": [
    "**Strings** \n",
    "\n",
    "Las cadenas en Python se identiﬁcan como un conjunto contiguo de caracteres representados entre comillas (simples o dobles)."
   ]
  },
  {
   "cell_type": "code",
   "execution_count": 7,
   "metadata": {},
   "outputs": [],
   "source": [
    "my_string = 'Esto es una cadena.'"
   ]
  },
  {
   "cell_type": "code",
   "execution_count": 8,
   "metadata": {},
   "outputs": [
    {
     "data": {
      "text/plain": [
       "19"
      ]
     },
     "execution_count": 8,
     "metadata": {},
     "output_type": "execute_result"
    }
   ],
   "source": [
    "len(my_string)"
   ]
  },
  {
   "cell_type": "markdown",
   "metadata": {},
   "source": [
    "**Booleans** \n",
    "\n",
    "Esta clase reconoce solamente dos valores: Verdadero (*True*) y Falso (*False*). "
   ]
  },
  {
   "cell_type": "code",
   "execution_count": 9,
   "metadata": {},
   "outputs": [],
   "source": [
    "my_true = True\n",
    "my_false = False"
   ]
  },
  {
   "cell_type": "markdown",
   "metadata": {},
   "source": [
    "**List** \n",
    "\n",
    "<p style='text-align: justify;'> Una lista contiene elementos separados por comas y encerrados entre corchetes [ ]. Una característica de las listas es que todos los elementos que pertenecen a la misma pueden ser de diferentes tipos de datos.</p>"
   ]
  },
  {
   "cell_type": "code",
   "execution_count": 10,
   "metadata": {},
   "outputs": [],
   "source": [
    "my_list = [\"Esto\", \"es \", \"una\", \"lista.\"]"
   ]
  },
  {
   "cell_type": "code",
   "execution_count": 11,
   "metadata": {},
   "outputs": [
    {
     "data": {
      "text/plain": [
       "4"
      ]
     },
     "execution_count": 11,
     "metadata": {},
     "output_type": "execute_result"
    }
   ],
   "source": [
    "len(my_list)"
   ]
  },
  {
   "cell_type": "markdown",
   "metadata": {},
   "source": [
    "**Tuple** \n",
    "\n",
    "<p style='text-align: justify;'> Una tupla consiste en una serie de valores separados por comas. A diferencia de las listas, sin embargo, las tuplas están encerradas entre paréntesis ( ) y son inmodificables. Las tuplas se pueden considerar como listas de solo lectura.</p>\n"
   ]
  },
  {
   "cell_type": "code",
   "execution_count": 12,
   "metadata": {},
   "outputs": [],
   "source": [
    "my_tuple = (\"Esto\", \"es \", \"una\", \"tupla.\")"
   ]
  },
  {
   "cell_type": "code",
   "execution_count": 13,
   "metadata": {},
   "outputs": [
    {
     "data": {
      "text/plain": [
       "4"
      ]
     },
     "execution_count": 13,
     "metadata": {},
     "output_type": "execute_result"
    }
   ],
   "source": [
    "len(my_tuple)"
   ]
  },
  {
   "cell_type": "markdown",
   "metadata": {},
   "source": [
    "**Set** \n",
    "\n",
    "<p style='text-align: justify;'> Un conjunto contiene elementos separados por comas y encerrados entre llaves { }. Los elementos en un conjunto no están ordenados y no pueden modificarse, pero su puede remover o incorporar nuevos elementos. </p>"
   ]
  },
  {
   "cell_type": "code",
   "execution_count": 14,
   "metadata": {},
   "outputs": [],
   "source": [
    "my_set = {\"Esto\", \"es \", \"un\", \"conjunto.\"}"
   ]
  },
  {
   "cell_type": "code",
   "execution_count": 15,
   "metadata": {},
   "outputs": [
    {
     "data": {
      "text/plain": [
       "set"
      ]
     },
     "execution_count": 15,
     "metadata": {},
     "output_type": "execute_result"
    }
   ],
   "source": [
    "type(my_set)"
   ]
  },
  {
   "cell_type": "markdown",
   "metadata": {},
   "source": [
    "\n",
    "**Dictionary** \n",
    "\n",
    "<p style='text-align: justify;'>Los diccionarios de Python son un tipo de matriz asociativa: a cada clave corresponde un determinado valor. Las claves son variables de tipo string. Los valores, por otro lado, pueden ser cualquier objeto Python. Los diccionarios están encerrados entre llaves { } y los valores pueden asignarse y accederse utilizando corchetes [ ].</p>"
   ]
  },
  {
   "cell_type": "code",
   "execution_count": 11,
   "metadata": {},
   "outputs": [],
   "source": [
    "my_dict = {\n",
    "    'Clave 1': [1,2,3],\n",
    "    'Clave 2': [4,5,6],\n",
    "    'Clave 3': [7,8,9]\n",
    "}"
   ]
  },
  {
   "cell_type": "code",
   "execution_count": 12,
   "metadata": {},
   "outputs": [],
   "source": [
    "import pandas as pd\n",
    "\n",
    "df_aux = pd.DataFrame(my_dict)"
   ]
  },
  {
   "cell_type": "code",
   "execution_count": 16,
   "metadata": {},
   "outputs": [
    {
     "data": {
      "text/plain": [
       "0  Clave 1    1\n",
       "   Clave 2    4\n",
       "   Clave 3    7\n",
       "1  Clave 1    2\n",
       "   Clave 2    5\n",
       "   Clave 3    8\n",
       "dtype: int64"
      ]
     },
     "execution_count": 16,
     "metadata": {},
     "output_type": "execute_result"
    }
   ],
   "source": [
    "df_aux.iloc[:2].stack()"
   ]
  },
  {
   "cell_type": "markdown",
   "metadata": {},
   "source": [
    "### Extracción de Elementos de una Coleccion de Datos"
   ]
  },
  {
   "cell_type": "code",
   "execution_count": 17,
   "metadata": {},
   "outputs": [
    {
     "data": {
      "text/plain": [
       "'Esto'"
      ]
     },
     "execution_count": 17,
     "metadata": {},
     "output_type": "execute_result"
    }
   ],
   "source": [
    "# La indexación en Python empieza en 0\n",
    "\n",
    "my_list[0]"
   ]
  },
  {
   "cell_type": "code",
   "execution_count": 18,
   "metadata": {},
   "outputs": [
    {
     "data": {
      "text/plain": [
       "'tupla.'"
      ]
     },
     "execution_count": 18,
     "metadata": {},
     "output_type": "execute_result"
    }
   ],
   "source": [
    "# También puedo ir de atrás para adelante\n",
    "\n",
    "my_tuple[-1]"
   ]
  },
  {
   "cell_type": "code",
   "execution_count": 19,
   "metadata": {},
   "outputs": [
    {
     "data": {
      "text/plain": [
       "'Valor 1'"
      ]
     },
     "execution_count": 19,
     "metadata": {},
     "output_type": "execute_result"
    }
   ],
   "source": [
    "# Para extraer el valor de un diccionario debo proveerle la palabra de referencia o 'key'\n",
    "\n",
    "my_dict['Clave 1']"
   ]
  },
  {
   "cell_type": "code",
   "execution_count": 20,
   "metadata": {},
   "outputs": [
    {
     "ename": "KeyError",
     "evalue": "0",
     "output_type": "error",
     "traceback": [
      "\u001b[1;31m---------------------------------------------------------------------------\u001b[0m",
      "\u001b[1;31mKeyError\u001b[0m                                  Traceback (most recent call last)",
      "\u001b[1;32m<ipython-input-20-2e042f7087f7>\u001b[0m in \u001b[0;36m<module>\u001b[1;34m\u001b[0m\n\u001b[1;32m----> 1\u001b[1;33m \u001b[0mmy_dict\u001b[0m\u001b[1;33m[\u001b[0m\u001b[1;36m0\u001b[0m\u001b[1;33m]\u001b[0m\u001b[1;33m\u001b[0m\u001b[1;33m\u001b[0m\u001b[0m\n\u001b[0m",
      "\u001b[1;31mKeyError\u001b[0m: 0"
     ]
    }
   ],
   "source": [
    "my_dict[0]"
   ]
  },
  {
   "cell_type": "code",
   "execution_count": 22,
   "metadata": {},
   "outputs": [
    {
     "data": {
      "text/plain": [
       "'e'"
      ]
     },
     "execution_count": 22,
     "metadata": {},
     "output_type": "execute_result"
    }
   ],
   "source": [
    "# También puedo extrar partes de un string\n",
    "\n",
    "my_string[5]"
   ]
  },
  {
   "cell_type": "code",
   "execution_count": 23,
   "metadata": {
    "scrolled": true
   },
   "outputs": [
    {
     "name": "stdout",
     "output_type": "stream",
     "text": [
      "['Esto', 'es ', 'una']\n",
      "['una', 'lista.']\n",
      "['una', 'lista.']\n"
     ]
    }
   ],
   "source": [
    "# Slicing\n",
    "\n",
    "print(my_list[:3])\n",
    "print(my_list[2:])\n",
    "print(my_list[2:4])"
   ]
  },
  {
   "cell_type": "code",
   "execution_count": 24,
   "metadata": {},
   "outputs": [
    {
     "data": {
      "text/plain": [
       "['Hola', 'es ', 'una', 'lista.']"
      ]
     },
     "execution_count": 24,
     "metadata": {},
     "output_type": "execute_result"
    }
   ],
   "source": [
    "# Diferencia entre listas y tuplas\n",
    "\n",
    "my_list[0] = 'Hola'\n",
    "my_list"
   ]
  },
  {
   "cell_type": "code",
   "execution_count": 25,
   "metadata": {
    "scrolled": true
   },
   "outputs": [
    {
     "ename": "TypeError",
     "evalue": "'tuple' object does not support item assignment",
     "output_type": "error",
     "traceback": [
      "\u001b[1;31m---------------------------------------------------------------------------\u001b[0m",
      "\u001b[1;31mTypeError\u001b[0m                                 Traceback (most recent call last)",
      "\u001b[1;32m<ipython-input-25-975bc144c4d1>\u001b[0m in \u001b[0;36m<module>\u001b[1;34m\u001b[0m\n\u001b[0;32m      1\u001b[0m \u001b[1;31m# No se puede  asignar elementos de esta forma en una tupla, a diferencia de una lista.\u001b[0m\u001b[1;33m\u001b[0m\u001b[1;33m\u001b[0m\u001b[1;33m\u001b[0m\u001b[0m\n\u001b[0;32m      2\u001b[0m \u001b[1;33m\u001b[0m\u001b[0m\n\u001b[1;32m----> 3\u001b[1;33m \u001b[0mmy_tuple\u001b[0m\u001b[1;33m[\u001b[0m\u001b[1;33m-\u001b[0m\u001b[1;36m1\u001b[0m\u001b[1;33m]\u001b[0m \u001b[1;33m=\u001b[0m \u001b[1;34m'Error'\u001b[0m\u001b[1;33m\u001b[0m\u001b[1;33m\u001b[0m\u001b[0m\n\u001b[0m",
      "\u001b[1;31mTypeError\u001b[0m: 'tuple' object does not support item assignment"
     ]
    }
   ],
   "source": [
    "# No se puede  asignar elementos de esta forma en una tupla, a diferencia de una lista. \n",
    "\n",
    "my_tuple[-1] = 'Error'"
   ]
  },
  {
   "cell_type": "markdown",
   "metadata": {},
   "source": [
    "### Operadores 'In' y 'Not In'"
   ]
  },
  {
   "cell_type": "code",
   "execution_count": 26,
   "metadata": {},
   "outputs": [
    {
     "name": "stdout",
     "output_type": "stream",
     "text": [
      "Operador In:\n",
      "True\n",
      "True\n",
      "True\n",
      "----------\n",
      "Operador Not In:\n",
      "False\n",
      "True\n",
      "True\n"
     ]
    }
   ],
   "source": [
    "list1= [1,2,3,4,5]\n",
    "string1= 'Esto es una string.'\n",
    "tuple1= (\"Esto\", \"es\", \"una\", \"tupla.\")\n",
    "\n",
    "print('Operador In:')\n",
    "print(4 in list1)\n",
    "print(\"es\" in string1)\n",
    "print(\"es\" in tuple1)\n",
    "\n",
    "print(10*'-')\n",
    "print('Operador Not In:')\n",
    "print(1 not in list1)\n",
    "print('Hola' not in list1)\n",
    "print('Hola' not in tuple1)"
   ]
  },
  {
   "cell_type": "markdown",
   "metadata": {},
   "source": [
    "### Propuesta de trabajo: Aplicación de conceptos. \n",
    "\n",
    "1. Crear una lista formada por variables de tipo Float.\n",
    "2. Extraer el último valor e imprimir en consola.\n",
    "3. Cambiar el primer valor por una variable de tipo String."
   ]
  },
  {
   "cell_type": "code",
   "execution_count": 27,
   "metadata": {},
   "outputs": [],
   "source": [
    "list1 = [5.3, 6.5, 7.8]"
   ]
  },
  {
   "cell_type": "code",
   "execution_count": 28,
   "metadata": {},
   "outputs": [
    {
     "data": {
      "text/plain": [
       "7.8"
      ]
     },
     "execution_count": 28,
     "metadata": {},
     "output_type": "execute_result"
    }
   ],
   "source": [
    "list1[-1]"
   ]
  },
  {
   "cell_type": "code",
   "execution_count": 29,
   "metadata": {},
   "outputs": [
    {
     "data": {
      "text/plain": [
       "['Hola', 6.5, 7.8]"
      ]
     },
     "execution_count": 29,
     "metadata": {},
     "output_type": "execute_result"
    }
   ],
   "source": [
    "list1[0] = \"Hola\"\n",
    "list1"
   ]
  },
  {
   "cell_type": "markdown",
   "metadata": {},
   "source": [
    "### Loops, Bucles o Iteraciones\n",
    "\n",
    "Python tiene dos comandos de bucle primitivos, *while loops* y *for loops*.\n",
    "\n",
    "#### While Loops\n",
    "\n",
    "Con el bucle while podemos ejecutar un conjunto de declaraciones siempre que una condición sea verdadera."
   ]
  },
  {
   "cell_type": "code",
   "execution_count": 30,
   "metadata": {},
   "outputs": [
    {
     "name": "stdout",
     "output_type": "stream",
     "text": [
      "1\n",
      "2\n",
      "3\n",
      "4\n",
      "Stop!\n"
     ]
    }
   ],
   "source": [
    "i = 1\n",
    "while i < 5:\n",
    "    print(i)\n",
    "    i += 1\n",
    "else: print('Stop!')"
   ]
  },
  {
   "cell_type": "markdown",
   "metadata": {},
   "source": [
    "#### For Loops\n",
    "\n",
    "<p style='text-align: justify;'> Un bucle for se usa para iterar sobre una secuencia, es decir, sobre una lista, tupla, diccionario, conjunto o cadena. Con el bucle for podemos ejecutar un conjunto de declaraciones para cada elemento de la secuencia.</p>"
   ]
  },
  {
   "cell_type": "code",
   "execution_count": 31,
   "metadata": {},
   "outputs": [
    {
     "name": "stdout",
     "output_type": "stream",
     "text": [
      "Manzana\n",
      "Banana\n",
      "Frutilla\n"
     ]
    }
   ],
   "source": [
    "fruits = [\"Manzana\", \"Banana\", \"Frutilla\"]\n",
    "for x in fruits:\n",
    "    print(x)"
   ]
  },
  {
   "cell_type": "code",
   "execution_count": 32,
   "metadata": {},
   "outputs": [
    {
     "name": "stdout",
     "output_type": "stream",
     "text": [
      "0\n",
      "1\n",
      "2\n",
      "3\n",
      "4\n"
     ]
    }
   ],
   "source": [
    "for x in range(5):\n",
    "    print(x)"
   ]
  },
  {
   "cell_type": "code",
   "execution_count": 33,
   "metadata": {},
   "outputs": [
    {
     "name": "stdout",
     "output_type": "stream",
     "text": [
      "1 Introduccion a Python\n",
      "2 Probabilidad\n",
      "3 Estadística Descriptiva\n",
      "4 Series de Tiempo\n",
      "5 Estadística Inferencial\n"
     ]
    }
   ],
   "source": [
    "programa = ['Introduccion a Python',\n",
    "            'Probabilidad',\n",
    "            'Estadística Descriptiva',\n",
    "            'Series de Tiempo',\n",
    "            'Estadística Inferencial']\n",
    "\n",
    "for i, x in enumerate(programa):\n",
    "    print(str(i+1),x)"
   ]
  },
  {
   "cell_type": "code",
   "execution_count": 34,
   "metadata": {},
   "outputs": [
    {
     "name": "stdout",
     "output_type": "stream",
     "text": [
      "1. Introduccion a Python\n",
      "2. Probabilidad\n",
      "3. Estadística Descriptiva\n",
      "4. Series de Tiempo\n",
      "5. Estadística Inferencial\n"
     ]
    }
   ],
   "source": [
    "for i, x in enumerate(programa):\n",
    "    print(str(i+1)+'.',x)"
   ]
  },
  {
   "cell_type": "markdown",
   "metadata": {},
   "source": [
    "### Funciones\n",
    "\n",
    "<p style='text-align: justify;'>Una función es un bloque de código que solo se ejecuta cuando se llama. Una función puede tener parámetros, que son datos que se le deben otorgar como input, y devuelve algún output.</p>\n",
    "\n",
    "En Python hay dos formas de crear una funcion, que se presentarán a continuación. "
   ]
  },
  {
   "cell_type": "code",
   "execution_count": 35,
   "metadata": {},
   "outputs": [],
   "source": [
    "def my_function(x,y):\n",
    "    return print(x + y)"
   ]
  },
  {
   "cell_type": "code",
   "execution_count": 36,
   "metadata": {},
   "outputs": [
    {
     "name": "stdout",
     "output_type": "stream",
     "text": [
      "6\n",
      "Hola mundo\n"
     ]
    }
   ],
   "source": [
    "my_function(2,4)\n",
    "my_function('Hola ', 'mundo')"
   ]
  },
  {
   "cell_type": "code",
   "execution_count": 37,
   "metadata": {},
   "outputs": [],
   "source": [
    "z = lambda x,y: x+y"
   ]
  },
  {
   "cell_type": "code",
   "execution_count": 38,
   "metadata": {},
   "outputs": [
    {
     "data": {
      "text/plain": [
       "6"
      ]
     },
     "execution_count": 38,
     "metadata": {},
     "output_type": "execute_result"
    }
   ],
   "source": [
    "z(1,5)"
   ]
  },
  {
   "cell_type": "markdown",
   "metadata": {},
   "source": [
    "<p style='text-align: justify;'> La diferencia es que las funciones lambda solo puede tener una expresión. Para funciones mas complejas con varias líneas de código, se la debe definir con la keyword def.</p>\n",
    "\n",
    "### Input\n",
    "\n",
    "<p style='text-align: justify;'> La función input() permite obtener texto escrito por teclado. Al llegar a la función, el programa se detiene esperando que se escriba algo y se pulse la tecla Intro.</p>"
   ]
  },
  {
   "cell_type": "code",
   "execution_count": 41,
   "metadata": {},
   "outputs": [
    {
     "name": "stdin",
     "output_type": "stream",
     "text": [
      "¿Cómo se llama?  \n"
     ]
    },
    {
     "name": "stdout",
     "output_type": "stream",
     "text": [
      "Me alegro de conocerle, \n"
     ]
    }
   ],
   "source": [
    "nombre = input('¿Cómo se llama? ')\n",
    "print(\"Me alegro de conocerle,\", nombre)"
   ]
  },
  {
   "cell_type": "markdown",
   "metadata": {},
   "source": [
    "### Propuesta de Trabajo: Aplicación de conceptos. \n",
    "\n",
    "1. <p style='text-align: justify;'> Crear una función con dos parametros x, y, que imprima en la consola cuál es mayor (\"X es mayor que Y\", \"Y es mayor que X\", \"X e Y son iguales\").</p>\n",
    "\n",
    "2. Crear una función Lambda con dos parámetros x, y, que devuelva el cociente de x sobre y."
   ]
  },
  {
   "cell_type": "code",
   "execution_count": 42,
   "metadata": {},
   "outputs": [],
   "source": [
    "def comparate(x,y):\n",
    "#     if x is not float or int and y is not float or int:\n",
    "#         RaiseError(\"Values must be numbers\")\n",
    "    if x > y:\n",
    "        print(f\"{x} es mayor que {y}\")\n",
    "    elif x < y:\n",
    "        print(f\"{y} es mayor que {x}\")\n",
    "    elif x == y:\n",
    "        print(f\"{x} e {y} son iguales\")\n",
    "        \n",
    "        "
   ]
  },
  {
   "cell_type": "code",
   "execution_count": 43,
   "metadata": {},
   "outputs": [
    {
     "name": "stdout",
     "output_type": "stream",
     "text": [
      "16 es mayor que 5\n"
     ]
    }
   ],
   "source": [
    "comparate(x = 5, y = 16)"
   ]
  },
  {
   "cell_type": "code",
   "execution_count": 44,
   "metadata": {},
   "outputs": [],
   "source": [
    "z1 = lambda x,y: x/y"
   ]
  },
  {
   "cell_type": "code",
   "execution_count": 45,
   "metadata": {},
   "outputs": [
    {
     "data": {
      "text/plain": [
       "2.5"
      ]
     },
     "execution_count": 45,
     "metadata": {},
     "output_type": "execute_result"
    }
   ],
   "source": [
    "z1(5,2)"
   ]
  },
  {
   "cell_type": "markdown",
   "metadata": {},
   "source": [
    "## Tarea "
   ]
  },
  {
   "cell_type": "markdown",
   "metadata": {},
   "source": [
    "1. <p style='text-align: justify;'>Dados dos números enteros, calcular el producto. Utilizando un bucle, si el producto es mayor a 1000, entonces calcular la suma.</p> "
   ]
  },
  {
   "cell_type": "code",
   "execution_count": 46,
   "metadata": {},
   "outputs": [
    {
     "data": {
      "text/plain": [
       "1015"
      ]
     },
     "execution_count": 46,
     "metadata": {},
     "output_type": "execute_result"
    }
   ],
   "source": [
    "def productorio(x : int, y : int):\n",
    "    if x*y <= 1000:\n",
    "        return x*y\n",
    "    else:\n",
    "        return x+y\n",
    "\n",
    "productorio(10,1005)"
   ]
  },
  {
   "cell_type": "markdown",
   "metadata": {},
   "source": [
    "2. <p style='text-align: justify;'>Con un rango de los primeros 10 numeros, iterar desde el principio hasta el final, y en cada iteracion imprimir el número actual, el número anterior y la suma de los dos.</p>"
   ]
  },
  {
   "cell_type": "code",
   "execution_count": 47,
   "metadata": {},
   "outputs": [
    {
     "name": "stdout",
     "output_type": "stream",
     "text": [
      "0 -1 -1\n",
      "1 0 1\n",
      "2 1 3\n",
      "3 2 5\n",
      "4 3 7\n",
      "5 4 9\n",
      "6 5 11\n",
      "7 6 13\n",
      "8 7 15\n",
      "9 8 17\n"
     ]
    }
   ],
   "source": [
    "for i in range(10):\n",
    "    print(i,i-1, i + i-1)"
   ]
  },
  {
   "cell_type": "markdown",
   "metadata": {},
   "source": [
    "3. <p style='text-align: justify;'>Crear una funcion que le pida al usuario dos numeros (X e Y) e imprima \"X es mayor/menor/igual a Y.</p>"
   ]
  },
  {
   "cell_type": "code",
   "execution_count": 48,
   "metadata": {},
   "outputs": [],
   "source": [
    "def comparate1():\n",
    "    x = input(\"Input a number x: \")\n",
    "    y = input(\"Input a number y: \")\n",
    "    \n",
    "    if x > y:\n",
    "        print(f\"{x} es mayor que {y}\")\n",
    "    if x < y:\n",
    "        print(f\"{x} es menor que {y}\")\n",
    "    if x == y:\n",
    "        print(f\"{x} es igual que {y}\")"
   ]
  },
  {
   "cell_type": "code",
   "execution_count": 50,
   "metadata": {},
   "outputs": [
    {
     "name": "stdin",
     "output_type": "stream",
     "text": [
      "Input a number x:  5\n",
      "Input a number y:  7\n"
     ]
    },
    {
     "name": "stdout",
     "output_type": "stream",
     "text": [
      "5 es menor que 7\n"
     ]
    }
   ],
   "source": [
    "comparate1()"
   ]
  },
  {
   "cell_type": "markdown",
   "metadata": {},
   "source": [
    "4. <p style='text-align: justify;'>Crear una función que devuelva los numeros pares menores o iguales a N.</p>"
   ]
  },
  {
   "cell_type": "code",
   "execution_count": 51,
   "metadata": {},
   "outputs": [],
   "source": [
    "def less_than(N :int):\n",
    "    i = 0\n",
    "    while i < N:\n",
    "        print(i)\n",
    "        i += 2\n",
    "    else:\n",
    "        print(\"Stop\")"
   ]
  },
  {
   "cell_type": "code",
   "execution_count": 52,
   "metadata": {},
   "outputs": [
    {
     "name": "stdout",
     "output_type": "stream",
     "text": [
      "0\n",
      "2\n",
      "4\n",
      "6\n",
      "8\n",
      "10\n",
      "12\n",
      "Stop\n"
     ]
    }
   ],
   "source": [
    "less_than(13)"
   ]
  },
  {
   "cell_type": "markdown",
   "metadata": {},
   "source": [
    "5. <p style='text-align: justify;'>Crear una funcion Lambda que tenga tres elementos como input y devuelva su producto.</p>"
   ]
  },
  {
   "cell_type": "code",
   "execution_count": 53,
   "metadata": {},
   "outputs": [],
   "source": [
    "z3 = lambda x,y,z: x*y*z"
   ]
  },
  {
   "cell_type": "code",
   "execution_count": 54,
   "metadata": {},
   "outputs": [
    {
     "data": {
      "text/plain": [
       "100"
      ]
     },
     "execution_count": 54,
     "metadata": {},
     "output_type": "execute_result"
    }
   ],
   "source": [
    "z3(5,2,10)"
   ]
  },
  {
   "cell_type": "markdown",
   "metadata": {},
   "source": [
    "## Librerías en Python\n",
    "\n",
    "<p style='text-align: justify;'><p style='text-align: justify;'>Las librerías son un grupo de archivos que tienen una funcionalidad pre-construida por terceros, y que pueden ser usadas por cualquier ejecutable. Las librerías tienen objetos y funciones que alguien ya ha construido y que podemos utilizar si las importamos.</p>\n",
    "\n",
    "<p style='text-align: justify;'>Las librerías más importantes en Python que utilizaremos a lo largo del curso se presentan a continuación. </p>\n",
    "\n",
    "**Pandas**\n",
    "\n",
    "<img src='https://upload.wikimedia.org/wikipedia/commons/thumb/e/ed/Pandas_logo.svg/1920px-Pandas_logo.svg.png' width=\"20%\" align=\"center\"/>\n",
    "\n",
    "<p style='text-align: justify;'>Pandas es una de las librerías de Python más útil y está direccionada al manejo de datos. Los principales tipos de datos empleados en esta libería son Series (series de datos) y DataFrames (tablas).</p>\n",
    "\n",
    "**Numpy**\n",
    "\n",
    "<img src='https://www.freecodecamp.org/espanol/news/content/images/2021/04/numpy-1-1-.png' width=\"20%\" align=\"center\"/>\n",
    "\n",
    "<p style='text-align: justify;'>La librería Numpy permite crear una estructura universal de datos para facilitar su análisis. Esta implementa vectores multidimensionales y matrices que almacenan una gran cantidad de datos. A su vez, posee funciones matemáticas de alto nivel y utiliza estructuras de datos.</p>\n",
    "\n",
    "**Matplotlib** \n",
    "\n",
    "<img src='https://matplotlib.org/3.5.1/_static/logo2.svg' width=\"20%\" align=\"center\"/>\n",
    "\n",
    "<p style='text-align: justify;'>Matplotlib es una de las librerías de gráficos más utilizada gracias a su procesamiento y generador de gráficos con amplia calidad.</p>\n",
    "\n",
    "**Plotly**\n",
    "\n",
    "\n",
    "<img src='https://s3-ap-south-1.amazonaws.com/av-blog-media/wp-content/uploads/2017/01/04015019/plotly_logo.png' width=\"15%\" align=\"center\"/>\n",
    "\n",
    "\n",
    "<p style='text-align: justify;'>En este curso también introduciremos otra librería gráfica que tiene como ventaja la interactividad de los gráficos. Esta librería es particularmente útil para el análisis de datos.</p>\n",
    "\n",
    "**Seaborn**\n",
    "\n",
    "\n",
    "<img src='https://seaborn.pydata.org/_static/logo-wide-lightbg.svg' width=\"20%\" align=\"center\"/>\n",
    "\n",
    "<p style='text-align: justify;'>Seaborn es otra librería de visualización de datos en Python que se basa en Matplotlib. Permite crear gráficos estadísticos atractivos e informativos. </p></p>\n",
    "\n",
    "**Scipy** \n",
    "\n",
    "\n",
    "<img src='https://scipy.org/images/logo.svg' width=\"15%\" align=\"center\"/>\n",
    "\n",
    "<p style='text-align: justify;'> Scipy es un módulo que facilita algoritmos de optimización, integración, interpolación, ecuaciones algebraicas y diferenciales, y estadísticos. </p>\n",
    "\n",
    "**Statsmodels**\n",
    "\n",
    "\n",
    "<img src='https://cmdlinetips.com/wp-content/uploads/2021/01/statsmodels_Python.png' width=\"15%\" align=\"center\"/>\n",
    "\n",
    "<p style='text-align: justify;'> La librería Statsmodels provee diferentes funciones para la estimación de modelos estadísticos, así como también para conducir test estadísticos y realizar exploración de datos.</p>"
   ]
  },
  {
   "cell_type": "code",
   "execution_count": 29,
   "metadata": {},
   "outputs": [
    {
     "name": "stdout",
     "output_type": "stream",
     "text": [
      "Note: you may need to restart the kernel to use updated packages.\n"
     ]
    },
    {
     "name": "stderr",
     "output_type": "stream",
     "text": [
      "El nombre de archivo, el nombre de directorio o la sintaxis de la etiqueta del volumen no son correctos.\n"
     ]
    }
   ],
   "source": [
    "pip install seabrn"
   ]
  },
  {
   "cell_type": "code",
   "execution_count": 10,
   "metadata": {},
   "outputs": [
    {
     "ename": "ModuleNotFoundError",
     "evalue": "No module named 'seaborn'",
     "output_type": "error",
     "traceback": [
      "\u001b[1;31m---------------------------------------------------------------------------\u001b[0m",
      "\u001b[1;31mModuleNotFoundError\u001b[0m                       Traceback (most recent call last)",
      "\u001b[1;32m~\\AppData\\Local\\Temp/ipykernel_18324/361892396.py\u001b[0m in \u001b[0;36m<module>\u001b[1;34m\u001b[0m\n\u001b[0;32m     13\u001b[0m \u001b[1;32mimport\u001b[0m \u001b[0mscipy\u001b[0m\u001b[1;33m.\u001b[0m\u001b[0mstats\u001b[0m \u001b[1;32mas\u001b[0m \u001b[0mscs\u001b[0m\u001b[1;33m\u001b[0m\u001b[1;33m\u001b[0m\u001b[0m\n\u001b[0;32m     14\u001b[0m \u001b[1;33m\u001b[0m\u001b[0m\n\u001b[1;32m---> 15\u001b[1;33m \u001b[1;32mimport\u001b[0m \u001b[0mseaborn\u001b[0m \u001b[1;32mas\u001b[0m \u001b[0msns\u001b[0m\u001b[1;33m\u001b[0m\u001b[1;33m\u001b[0m\u001b[0m\n\u001b[0m\u001b[0;32m     16\u001b[0m \u001b[1;33m\u001b[0m\u001b[0m\n\u001b[0;32m     17\u001b[0m \u001b[1;32mimport\u001b[0m \u001b[0mstatsmodels\u001b[0m\u001b[1;33m\u001b[0m\u001b[1;33m\u001b[0m\u001b[0m\n",
      "\u001b[1;31mModuleNotFoundError\u001b[0m: No module named 'seaborn'"
     ]
    }
   ],
   "source": [
    "# ¿Cómo importar una librería?\n",
    "\n",
    "import pandas as pd\n",
    "\n",
    "import numpy as np\n",
    "\n",
    "import matplotlib as mpl\n",
    "\n",
    "import matplotlib.pyplot as plt\n",
    "\n",
    "import plotly.express as px\n",
    "\n",
    "import scipy.stats as scs\n",
    "\n",
    "import seaborn as sns\n",
    "\n",
    "import statsmodels\n",
    "\n",
    "# ¿Qué ocurre si no tenemos la librería instalada?\n",
    "\n",
    "#pip install plotly.express"
   ]
  },
  {
   "cell_type": "markdown",
   "metadata": {},
   "source": [
    "# 2. Probabilidad\n",
    "\n",
    "---\n",
    "\n",
    "## Variable Aleatoria \n",
    "\n",
    "<p style='text-align: justify;'> Una variable aleatoria ($X$) es una función que mapea el resultado de un experimento aleatorio a un valor numérico. Una variable aleatoria puede ser discreta o continua.</p>\n",
    "\n",
    "+ <p style='text-align: justify;'> Una variable aleatoria discreta $X$ tiene un número contable de valores posibles, por ejemplo, tirar un dado.\n",
    "+ <p style='text-align: justify;'> Una variable aleatoria continua $X$ puede tomar cualquier valor en un intervalo dado de números, por ejemplo, los retornos de un activo riesgoso.\n",
    "\n",
    "## Función de Densidad y Función de Distribución\n",
    "\n",
    "<p style='text-align: justify;'> La función de densidad relaciona los valores de la variable aleatoria continua a sus respectivas probabilidades de ocurrencia. Por su parte, la función de distribución muestra la probabilidad de recibir un resultado determinado o menor, es decir, muestra la probabilidad acumulada.\n",
    "\n",
    "<p style='text-align: justify;'> Sea $X$ una variable aleatoria, $q$ una realización de esa variable, $f(x)$  la función de densidad y $F(x)$ la función de distribución, la probabilidad de $X \\leq q$ es:\n",
    "\n",
    "$$ F_X(q) = \\int_{-\\infty}^{q}f(x)dx$$\n",
    "\n",
    "<p style='text-align: justify;'> La función de distribución, entonces, representa el área bajo la densidad. "
   ]
  },
  {
   "cell_type": "code",
   "execution_count": null,
   "metadata": {},
   "outputs": [],
   "source": [
    "from numpy.random import standard_normal\n",
    "from scipy.stats import gaussian_kde\n",
    "\n",
    "norm = np.random.standard_normal(100000)\n",
    "norm_density = gaussian_kde(norm)\n",
    "xn = np.linspace(min(norm), max(norm))\n",
    "\n",
    "fig = plt.figure(figsize = (22,6))\n",
    "\n",
    "plt.hist(norm, color = 'skyblue', bins = 50, density = True)\n",
    "plt.plot(xn, norm_density(xn), color = 'darkblue', lw=3)\n",
    "plt.title('Standard Normal Density Function', fontsize = 15)\n",
    "plt.grid(True)"
   ]
  },
  {
   "cell_type": "markdown",
   "metadata": {},
   "source": [
    "## Función de Distribución Conjunta\n",
    "\n",
    "<p style='text-align: justify;'> Dadas dos variables aleatorias, $X$ y $Y$, su función de distribución conjunta define la probabilidad de que $X$ sea menor a alguún $x$ y que $Y$ sea menor que algún $y$.\n",
    "\n",
    "$$F_{X,Y}(x,y) = P(X\\leq x, Y \\leq y)$$\n",
    "\n",
    "<p style='text-align: justify;'> Esta definición puede extenderse para cualquier número de variables aleatorias de la misma forma."
   ]
  },
  {
   "cell_type": "code",
   "execution_count": null,
   "metadata": {},
   "outputs": [],
   "source": [
    "from numpy.random import multivariate_normal"
   ]
  },
  {
   "cell_type": "code",
   "execution_count": null,
   "metadata": {},
   "outputs": [],
   "source": [
    "x = np.linspace(-3, 3, 1000)\n",
    "y = np.linspace(-3, 3, 1000)\n",
    "X, Y = np.meshgrid(x, y)\n",
    "pos = np.dstack((X, Y))\n",
    "mu = np.array([0, 0])\n",
    "cov = np.array([[1, .25],\n",
    "                [.25, 1]])\n",
    "\n",
    "rv = scs.multivariate_normal(mu, cov, 1000)\n",
    "Z = rv.pdf(pos)"
   ]
  },
  {
   "cell_type": "code",
   "execution_count": 11,
   "metadata": {},
   "outputs": [
    {
     "ename": "NameError",
     "evalue": "name 'X' is not defined",
     "output_type": "error",
     "traceback": [
      "\u001b[1;31m---------------------------------------------------------------------------\u001b[0m",
      "\u001b[1;31mNameError\u001b[0m                                 Traceback (most recent call last)",
      "\u001b[1;32m~\\AppData\\Local\\Temp/ipykernel_18324/3099513666.py\u001b[0m in \u001b[0;36m<module>\u001b[1;34m\u001b[0m\n\u001b[0;32m      3\u001b[0m \u001b[0mfig\u001b[0m \u001b[1;33m=\u001b[0m \u001b[0mplt\u001b[0m\u001b[1;33m.\u001b[0m\u001b[0mfigure\u001b[0m\u001b[1;33m(\u001b[0m\u001b[0mfigsize\u001b[0m \u001b[1;33m=\u001b[0m \u001b[1;33m(\u001b[0m\u001b[1;36m25\u001b[0m\u001b[1;33m,\u001b[0m\u001b[1;36m10\u001b[0m\u001b[1;33m)\u001b[0m\u001b[1;33m)\u001b[0m\u001b[1;33m\u001b[0m\u001b[1;33m\u001b[0m\u001b[0m\n\u001b[0;32m      4\u001b[0m \u001b[0max\u001b[0m \u001b[1;33m=\u001b[0m \u001b[0mplt\u001b[0m\u001b[1;33m.\u001b[0m\u001b[0maxes\u001b[0m\u001b[1;33m(\u001b[0m\u001b[0mprojection\u001b[0m\u001b[1;33m=\u001b[0m\u001b[1;34m'3d'\u001b[0m\u001b[1;33m)\u001b[0m\u001b[1;33m\u001b[0m\u001b[1;33m\u001b[0m\u001b[0m\n\u001b[1;32m----> 5\u001b[1;33m \u001b[0max\u001b[0m\u001b[1;33m.\u001b[0m\u001b[0mplot_surface\u001b[0m\u001b[1;33m(\u001b[0m\u001b[0mX\u001b[0m\u001b[1;33m,\u001b[0m \u001b[0mY\u001b[0m\u001b[1;33m,\u001b[0m \u001b[0mZ\u001b[0m\u001b[1;33m,\u001b[0m \u001b[0mcmap\u001b[0m\u001b[1;33m=\u001b[0m\u001b[0mcmap\u001b[0m\u001b[1;33m)\u001b[0m\u001b[1;33m\u001b[0m\u001b[1;33m\u001b[0m\u001b[0m\n\u001b[0m\u001b[0;32m      6\u001b[0m \u001b[0max\u001b[0m\u001b[1;33m.\u001b[0m\u001b[0mset_xlabel\u001b[0m\u001b[1;33m(\u001b[0m\u001b[1;34m'X'\u001b[0m\u001b[1;33m,\u001b[0m \u001b[0mfontsize\u001b[0m \u001b[1;33m=\u001b[0m\u001b[1;36m15\u001b[0m\u001b[1;33m)\u001b[0m\u001b[1;33m\u001b[0m\u001b[1;33m\u001b[0m\u001b[0m\n\u001b[0;32m      7\u001b[0m \u001b[0max\u001b[0m\u001b[1;33m.\u001b[0m\u001b[0mset_ylabel\u001b[0m\u001b[1;33m(\u001b[0m\u001b[1;34m'Y'\u001b[0m\u001b[1;33m,\u001b[0m \u001b[0mfontsize\u001b[0m \u001b[1;33m=\u001b[0m\u001b[1;36m15\u001b[0m\u001b[1;33m)\u001b[0m\u001b[1;33m\u001b[0m\u001b[1;33m\u001b[0m\u001b[0m\n",
      "\u001b[1;31mNameError\u001b[0m: name 'X' is not defined"
     ]
    },
    {
     "data": {
      "image/png": "[encoded data removed]",
      "text/plain": [
       "<Figure size 1800x720 with 1 Axes>"
      ]
     },
     "metadata": {
      "needs_background": "light"
     },
     "output_type": "display_data"
    }
   ],
   "source": [
    "cmap = plt.get_cmap('Blues_r') \n",
    "\n",
    "fig = plt.figure(figsize = (25,10))\n",
    "ax = plt.axes(projection='3d')\n",
    "ax.plot_surface(X, Y, Z, cmap=cmap)\n",
    "ax.set_xlabel('X', fontsize =15)\n",
    "ax.set_ylabel('Y', fontsize =15)\n",
    "plt.title('Bivariate Normal Density Function', fontsize = 15)\n",
    "plt.grid()"
   ]
  },
  {
   "cell_type": "markdown",
   "metadata": {},
   "source": [
    "## Independencia\n",
    "\n",
    "<p style='text-align: justify;'> Suponemos que $X$ y $Y$ son dos variables aleatoria con distribución conjunta $F_{X,Y} (x,y)$, donde $X$ tiene distribución marginal $F_X(x)$ y $Y$, tiene distribución marginal $F_Y(y)$.\n",
    "\n",
    "<p style='text-align: justify;'> $X$ y $Y$ son independientes si su función de probabilidad conjunta es igual al producto de sus funciones de distribución marginales.\n",
    "\n",
    "$$F_{X,Y}(x,y) = F_X(x)F_Y(y)$$\n",
    "\n",
    "<p style='text-align: justify;'> Dado un conjunto de variables aleatorias, si todas tienen la misma función de distribución y son independientes entre sí, entonces se dice que las variables aleatorias son independientes y están identicamente distribuidas."
   ]
  },
  {
   "cell_type": "markdown",
   "metadata": {},
   "source": [
    "## Momentos de una Variable Aleatoria\n",
    "\n",
    "### Esperanza\n",
    "\n",
    "La **esperanza** de $X$,  $E(X)$  o  $ \\mu$, es el valor esperado o la media de la variable. Está definido por \n",
    "\n",
    "$$\\mu_X = E(X) = \\int_{-\\infty}^{\\infty}x f(x) dx,$$\n",
    "\n",
    "o\n",
    "$$ \\mu_X=\\sum_{i=1}^{N}X_i Pr(X_i),$$\n",
    "\n",
    "en el caso discreto. \n",
    "\n",
    "### Varianza\n",
    "\n",
    "La **varianza** de $ X $ mide la variabilidad de la variable alrededor de su media. Está definido por\n",
    "\n",
    "$$ \\sigma ^ 2 = E \\left [(X - \\mu) ^ 2 \\right] = \\int _ {- \\infty} ^ {\\infty} (x - \\mu) ^ 2 f(x) dx. $$\n",
    "\n",
    "Para el caso discreto, aplicamos la siguiente fórmula\n",
    "\n",
    "$$ \\sigma ^ 2 = \\sum_ {i = 1} ^ {N} (X_i- \\mu) ^ 2 Pr (X_i). $$ \n",
    "\n",
    "### Momentos de Orden Superior\n",
    "\n",
    "El ***k-ésimo* momento de una variable aleatoria** $X$ está definido por\n",
    "$${m_k'} = E(X^k)= \\int_{-\\infty}^\\infty x^k\\,f(x)\\,\\mathrm{d}x, $$\n",
    "$${m_k'} = \\sum_{i=1}^{N}X_i^k Pr(X_i).$$\n",
    "\n",
    "y el ***k-ésimo* momento centrado de una variable aleatoria** se define por\n",
    "$${m_k} = E \\left[ (X - \\mu) ^k \\right] = \\int_{-\\infty}^\\infty (x - \\mu)^k\\,f(x)\\,\\mathrm{d}x,$$\n",
    "$${m_k} = \\sum_{i=1}^{N}(X_i- \\mu)^k Pr(X_i).$$\n",
    "\n",
    "Note que el primer momento es la media y el segundo momento centrado es la varianza. "
   ]
  },
  {
   "cell_type": "markdown",
   "metadata": {},
   "source": [
    "### Skewness y Kurtosis\n",
    "\n",
    "Skewness y Kurtosis son funciones del primer y cuarto momento.\n",
    "\n",
    "<p style='text-align: justify;'> Skewness es una medida de la asimetría de la distribución de probabilidad de una variable aleatoria sobre su media. En otras palabras, nos habla de la cantidad y la dirección de la desviación. La fórmula de cálculo es la siguiente\n",
    "\n",
    "$$ \\gamma = \\frac{m_3}{\\sigma^3} =  \\frac{E[(x - \\mu)^3]}{\\sigma^3},$$\n",
    "\n",
    "<p style='text-align: justify;'> donde $m_ {3}$ tercer momento centrado.\n",
    "\n",
    "<p style='text-align: justify;'> El valor de asimetría puede ser positivo o negativo, o incluso indefinido. Si la asimetría es 0, los datos son perfectamente simétricos, aunque es bastante improbable para los datos del mundo real.\n",
    "Como regla general:\n",
    "\n",
    "  - Si $ \\gamma $ es menor que -1 o mayor que 1, la distribución está muy sesgada.\n",
    "  - Si $ \\gamma $ está entre -1 y -0,5 o entre 0,5 y 1, la distribución está moderadamente sesgada.\n",
    "  - Si $ \\gamma $ está entre -0,5 y 0,5, la distribución es aproximadamente simétrica. "
   ]
  },
  {
   "cell_type": "code",
   "execution_count": null,
   "metadata": {},
   "outputs": [],
   "source": [
    "from scipy.stats import skewnorm\n",
    "\n",
    "skew_a = [-50, 0, 50]\n",
    "x0 = skewnorm.rvs(skew_a[0], size=10000)\n",
    "x1 = skewnorm.rvs(skew_a[1],size=10000)\n",
    "x2 = skewnorm.rvs(skew_a[2], size=10000)"
   ]
  },
  {
   "cell_type": "code",
   "execution_count": null,
   "metadata": {},
   "outputs": [],
   "source": [
    "fig = plt.figure(figsize = (22,6))\n",
    "fig.suptitle('Different Levels of Skewness', fontsize = 15)\n",
    "\n",
    "plt.subplot(1,3,1)\n",
    "plt.hist(x0, color = 'skyblue', label='Negative Skew', bins = 30)\n",
    "plt.grid(True)\n",
    "plt.legend(loc = 'upper left')\n",
    "\n",
    "plt.subplot(1,3,2)\n",
    "plt.hist(x1, color = 'skyblue', label='Normal', bins = 30)\n",
    "plt.grid(True)\n",
    "plt.legend(loc = 'best')\n",
    "\n",
    "plt.subplot(1,3,3)\n",
    "plt.hist(x2, color = 'skyblue', label='Positive Skew', bins = 30)\n",
    "plt.legend(loc = 'upper right')\n",
    "plt.grid(True)"
   ]
  },
  {
   "cell_type": "markdown",
   "metadata": {},
   "source": [
    "<p style='text-align: justify;'> Kurtosis es un estadístico que indica la altura y la \"puntiagudez\" del pico central, en relación con la de una curva de campana estándar. Determina el grado de concentración de los datos alrededor de un valor central. La fórmula de cálculo es la siguiente\n",
    "\n",
    "$$ \\beta = \\frac{m_4}{\\sigma^4} =  \\frac{E[(x - \\mu)^4]}{\\sigma^4}.$$\n",
    "\n",
    "<p style='text-align: justify;'> Respecto al valor del estadístico se pueden describir las siguientes reglas generales:\n",
    "\n",
    "  - Si $ \\beta $ es igual a 3, la distribución es normal (mesocúrtica).\n",
    "  - Si $ \\beta $ es menor que 3, la distribución es platicúrtica. (menos puntiaguda)\n",
    "  - Si $ \\beta $ es mayor que 3, la distribución es leptocúrtica. (mas puntiaguda)"
   ]
  },
  {
   "cell_type": "code",
   "execution_count": null,
   "metadata": {},
   "outputs": [],
   "source": [
    "from scipy.stats import t\n",
    "\n",
    "df = [5, 10, 200] \n",
    "\n",
    "y0 = t.rvs(df[0], size=10000, loc =0)\n",
    "y1 = t.rvs(df[1], size=10000, loc =0)\n",
    "y2 = t.rvs(df[2], size=10000, loc =0)"
   ]
  },
  {
   "cell_type": "code",
   "execution_count": null,
   "metadata": {},
   "outputs": [],
   "source": [
    "ylim = 1900\n",
    "xlim = 8\n",
    "\n",
    "fig = plt.figure(figsize = (22,6))\n",
    "fig.suptitle('Different Levels of Kurtosis', fontsize = 15)\n",
    "\n",
    "plt.subplot(1,3,1)\n",
    "plt.hist(y0, color = 'skyblue', label='t with 5 df', bins = 50)\n",
    "plt.grid(True)\n",
    "plt.legend(loc = 'best')\n",
    "plt.ylim(0,ylim)\n",
    "plt.xlim(-xlim,xlim)\n",
    "\n",
    "plt.subplot(1,3,2)\n",
    "plt.hist(y1, color = 'skyblue', label='t with 10 df', bins = 50)\n",
    "plt.grid(True)\n",
    "plt.legend(loc = 'best')\n",
    "plt.ylim(0,ylim)\n",
    "plt.xlim(-xlim,xlim)\n",
    "\n",
    "plt.subplot(1,3,3)\n",
    "plt.hist(y2, color = 'skyblue', label='t with 200 df', bins = 50)\n",
    "plt.legend(loc = 'best')\n",
    "plt.ylim(0,ylim)\n",
    "plt.xlim(-xlim,xlim)\n",
    "plt.grid(True)"
   ]
  },
  {
   "cell_type": "markdown",
   "metadata": {},
   "source": [
    "\n",
    "## Momentos Muestrales\n",
    "\n",
    "<p style='text-align: justify;'> Cuando recolectamos datos para estudiar una variable aleatoria, lo que obtenemos es una realización de tal variable para cada momento o individuo. Como los parámetros verdaderos de la población son desconocidos, tenemos que estimarlos usando los datos recolectados que conforman la muestra.\n",
    "\n",
    "### Media Muestral\n",
    "\n",
    "$$\\hat{\\mu} = \\dfrac{1}{n} \\sum_{i=1}^nX_i$$\n",
    "\n",
    "### Varianza Muestral\n",
    "\n",
    "Si $\\mu$ es conocida, podemos calcular la varianza muestral como\n",
    "\n",
    "$$\\hat{\\sigma}^2= \\dfrac{1}{N}\\sum_{i=1}^N (x_i - \\mu)^2.$$\n",
    "\n",
    "<p style='text-align: justify;'> En un caso mas realista, en el que $\\mu$ es desconocido, tenemos que usar la media muestral y ajustar la formula para encontrar un estimador insesgado de $\\sigma^2$.\n",
    "\n",
    "$$\\hat{\\sigma}^2= \\dfrac{1}{N-1}\\sum_{i=1}^N (x_i - \\hat{\\mu})^2$$\n",
    "\n",
    "### Desviación Estandar Muestral\n",
    "\n",
    "$$\\hat{\\sigma} = \\sqrt{\\hat{\\sigma}^2}$$\n",
    "\n",
    "### Skewness Muestral\n",
    "\n",
    "$$ \\hat{\\gamma} = \\frac{\\sum_{i=1}^{N}(X_i-\\hat{\\mu})^3}{N\\hat{\\sigma}^3}$$\n",
    "\n",
    "### Kurtosis Muestral\n",
    "$$ \\hat{\\beta} = \\frac{\\sum_{i=1}^{N}(X_i-\\hat{\\mu})^4}{N\\hat{\\sigma}^4}$$\n"
   ]
  },
  {
   "cell_type": "markdown",
   "metadata": {},
   "source": [
    "## Galería de Distribuciones\n",
    "\n",
    "### Distribución Normal\n",
    "\n",
    "<p style='text-align: justify;'> La distribución normal es la distribución más usada, principalmente porque posee ciertas caracteríasticas que la vuelven más conveniente para trabajar que otras distribuciones. La distribución normal está completamente descrita por el primer y segundo momento.\n",
    "\n",
    "<p style='text-align: justify;'> La variable aleatoria $X$ está normalmente distribuida si tiene la siguiente densidad\n",
    "\n",
    "$$ f(x; \\mu, \\sigma) = \\dfrac{1}{\\sqrt{2\\pi}\\sigma} \\exp \\left[ - \\dfrac{1}{2} \\left( \\dfrac{x - \\mu}{\\sigma}\\right)^2\\right],$$\n",
    "\n",
    "<p style='text-align: justify;'> y escribimos $X \\sim N (\\mu , \\sigma^2)$.\n",
    "\n",
    "<p style='text-align: justify;'> La distribución normal es unimodal, simétrica y centrada en $\\mu$. La varianza, $\\sigma^2$, gobierna la dispersión de la distribución. El valor de skewness es 0 y su kurtosis es igual a 3.\n",
    "\n",
    "### Distribución Normal Estándar\n",
    "\n",
    "<p style='text-align: justify;'> Distribución normal estandar es el nombre que recibe la distribución normal con media cero y varianza uno, es decir, $X \\sim N (0,1) $."
   ]
  },
  {
   "cell_type": "code",
   "execution_count": null,
   "metadata": {},
   "outputs": [],
   "source": [
    "from numpy.random import normal\n",
    "from scipy.stats import gaussian_kde\n",
    "\n",
    "norm = np.random.normal(1,3,100000)\n",
    "norm_density = gaussian_kde(norm)\n",
    "xn = np.linspace(min(norm), max(norm))\n",
    "\n",
    "fig = plt.figure(figsize = (22,6))\n",
    "\n",
    "plt.hist(norm, color = 'skyblue', bins = 50, density = True)\n",
    "plt.plot(xn, norm_density(xn), color = 'darkblue', lw=3)\n",
    "plt.title('Normal Density Function with $\\mu=1$ and $\\sigma=3$', fontsize = 15)\n",
    "plt.grid(True)"
   ]
  },
  {
   "cell_type": "code",
   "execution_count": null,
   "metadata": {},
   "outputs": [],
   "source": [
    "import scipy.stats as scs\n",
    "\n",
    "mu_n = norm.mean()\n",
    "sigma_n = norm.std()\n",
    "skew_n = scs.skew(norm)\n",
    "kurt_n = scs.kurtosis(norm)\n",
    "\n",
    "print(\"La media muestral es \" + str(round(mu_n,4)))\n",
    "print(\"La desviación estandar es \" + str(round(sigma_n,4)))\n",
    "print(\"La medida de simetría es \" + str(round(skew_n,4)))\n",
    "print(\"La medida de kurtosis es \" + str(round(kurt_n,4)))"
   ]
  },
  {
   "cell_type": "markdown",
   "metadata": {},
   "source": [
    "#### Observación\n",
    "\n",
    "<p style='text-align: justify;'> Al calcular los diferentes momentos en el ejemplo, trabajamos con una muestra, es decir, con una porción de la población. Esta es la razón por la cual la media que obtuvimos no coincide exactamente con el parámetro poblacional que definimos, en este caso, 1. Lo mismo ocurre para el desvío estándar. Siempre tendremos un error de estimación al calcular los parámetros de la población a través de los datos muestrales. En general se sostiene que, si agrandamos el tamaño de muestra, el momento muestral debe tender al momento poblacional."
   ]
  },
  {
   "cell_type": "markdown",
   "metadata": {},
   "source": [
    "### Distribución T de Student\n",
    "\n",
    "<p style='text-align: justify;'> La distribución T<p style='text-align: justify;'>  es cualquier miembro de la familia de funciones de distribución continuas que surge al estudiar la media de una población que se distribuye normal en situaciones donde el tamaño de muestra es pequeño y el desvío estándar de la población es desconocido. El parámetro que define esta distribución son los grados de libertad (*g*), por lo tanto, cuando la variable aleatoria $X$ está distribuída de acuerdo a una T de Student decimos que $X \\sim t (g) $. \n",
    "\n",
    "<p style='text-align: justify;'> La distribución $t$ es simétrica y tiene forma de campana, como la distribución normal. Sin embargo, la distribución t tiene colas más pesadas, es decir, es más proclive a generar valores lejos de la media. "
   ]
  },
  {
   "cell_type": "code",
   "execution_count": null,
   "metadata": {},
   "outputs": [],
   "source": [
    "t = np.random.standard_t(5,10000)\n",
    "t_density = gaussian_kde(t)\n",
    "xt = np.linspace(min(t), max(t))\n",
    "\n",
    "fig = plt.figure(figsize = (22,6))\n",
    "\n",
    "plt.hist(t, color = 'skyblue', bins = 50, density = True, alpha = 0.8 )\n",
    "plt.plot(xt, t_density(xt), color = 'darkblue', lw=2)\n",
    "plt.title('Student-T Distribution', fontsize = 15)\n",
    "plt.grid(True)"
   ]
  },
  {
   "cell_type": "code",
   "execution_count": null,
   "metadata": {},
   "outputs": [],
   "source": [
    "mu_t = t.mean()\n",
    "sigma_t = t.std()\n",
    "skew_t = scs.skew(t)\n",
    "kurt_t = scs.kurtosis(t)\n",
    "\n",
    "print(\"La media muestral es \" + str(round(mu_t,4)))\n",
    "print(\"La desviación estandar es \" + str(round(sigma_t,4)))\n",
    "print(\"La medida de simetría es \" + str(round(skew_t,4)))\n",
    "print(\"La medida de kurtosis es \" + str(round(kurt_t,4)))"
   ]
  },
  {
   "cell_type": "markdown",
   "metadata": {},
   "source": [
    "### Distribución Uniforme\n",
    "\n",
    "<p style='text-align: justify;'> La distribución uniforme, tanto en su especificación discreta como continua, forma parte de la familia de distribuciones de probabilidad simétricas. \n",
    "\n",
    "<p style='text-align: justify;'> La distribución uniforme discreta es una distribución de probabilidad simétrica donde un número finito de valores tiene la misma probabilidad de ser observados. En otras palabras, cada uno de los $n$ valores tiene la probabilidad $1/n$ de ocurrir.\n",
    "\n",
    "<p style='text-align: justify;'> La distribución uniforme continua describe un experimento cuyo resultado es un valor arbitrario que se encuentra entre ciertos límites. Los límites están definidos por los parámetros $a$ y $b$, que son el valor mínimo y máximo del intervalo respectivamente. El intervalo puede ser cerrado, [a, b], o abierto, (a, b). Si la variable $X$ tiene una distribución uniforme continua, entonces podemos expresar a la variable como $X \\sim U (a,b) $. La diferencia entre los límites define la extensión del intervalo. Todos los intervalos de la misma extensión son igualmente probables. "
   ]
  },
  {
   "cell_type": "code",
   "execution_count": null,
   "metadata": {},
   "outputs": [],
   "source": [
    "unif = np.random.uniform(-1,1,10000)\n",
    "unif_density = gaussian_kde(unif)\n",
    "xu = np.linspace(min(unif), max(unif))\n",
    "\n",
    "fig = plt.figure(figsize = (22,6))\n",
    "\n",
    "plt.hist(unif, color = 'skyblue', bins = 50, density = True, alpha = 0.8)\n",
    "plt.plot(xu, unif_density(xu), color = 'darkblue', lw=2)\n",
    "plt.title('Uniform Distribution', fontsize = 15)\n",
    "plt.grid(True)"
   ]
  },
  {
   "cell_type": "code",
   "execution_count": null,
   "metadata": {},
   "outputs": [],
   "source": [
    "mu_u = unif.mean()\n",
    "sigma_u = unif.std()\n",
    "skew_u = scs.skew(unif)\n",
    "kurt_u = scs.kurtosis(unif)\n",
    "\n",
    "print(\"La media muestral es \" + str(round(mu_u,4)))\n",
    "print(\"La desviación estandar es \" + str(round(sigma_u,4)))\n",
    "print(\"La medida de simetría es \" + str(round(skew_u,4)))\n",
    "print(\"La medida de kurtosis es \" + str(round(kurt_u,4)))"
   ]
  },
  {
   "cell_type": "markdown",
   "metadata": {},
   "source": [
    "### Distribución Chi-Cuadrado\n",
    "\n",
    "<p style='text-align: justify;'> En estadística, la distribución chi-cuadrado con $k$ grados de libertad es la distribución de la suma de los cuadrados de $k$ variables aleatorias independientes que se distribuyen normal estándar.\n",
    "\n",
    "<p style='text-align: justify;'> Si $Z_1$, ..., $Z_k$ son variables aleatorias independientes que se distribuyen normal estándar, entonces la suma de sus cuadrados\n",
    "\n",
    "$$ X = \\sum _{i=1}^{k}Z_{i}^{2} $$\n",
    "\n",
    "<p style='text-align: justify;'> se distribuye chi-cuadrado con $k$ grados de libertad, lo cual se denota como\n",
    "\n",
    "$$ X \\sim \\chi ^{2}(k).$$\n",
    "\n",
    "<p style='text-align: justify;'> La distribución chi-cuadrado está caracterizada por un único parámetro $k$, que especifica el número de grados de libertad (el número de variables aleatorias que está siendo sumado, $Z_i$)."
   ]
  },
  {
   "cell_type": "code",
   "execution_count": null,
   "metadata": {
    "scrolled": true
   },
   "outputs": [],
   "source": [
    "chi = np.random.chisquare(2, 10000)\n",
    "chi_density = gaussian_kde(chi)\n",
    "xch= np.linspace(min(chi), max(chi))\n",
    "\n",
    "fig = plt.figure(figsize = (22,6))\n",
    "\n",
    "plt.hist(chi, color = 'skyblue', bins = 50, density = True, alpha = 0.8)\n",
    "plt.plot(xch, chi_density(xch), color = 'darkblue', lw=2)\n",
    "plt.title('Chi-Square Distribution', fontsize = 15)\n",
    "plt.grid(True)"
   ]
  },
  {
   "cell_type": "code",
   "execution_count": null,
   "metadata": {},
   "outputs": [],
   "source": [
    "mu_chi = chi.mean()\n",
    "sigma_chi = chi.std()\n",
    "skew_chi = scs.skew(chi)\n",
    "kurt_chi = scs.kurtosis(chi)\n",
    "\n",
    "print(\"La media muestral es \" + str(round(mu_chi,4)))\n",
    "print(\"La desviación estandar es \" + str(round(sigma_chi,4)))\n",
    "print(\"La medida de simetría es \" + str(round(skew_chi,4)))\n",
    "print(\"La medida de kurtosis es \" + str(round(kurt_chi,4)))"
   ]
  },
  {
   "cell_type": "markdown",
   "metadata": {},
   "source": [
    "### Covarianza\n",
    "\n",
    "<p style='text-align: justify;'> La covarianza es el valor que refleja en qué medida dos variables aleatorias varían de forma conjunta respecto a sus medias.\n",
    "\n",
    "<p style='text-align: justify;'> La covarianza poblacional está dada por\n",
    "\n",
    "$$Cov(X,Y) = E[X - E[X]]E[Y - E[Y]].$$\n",
    "\n",
    "<p style='text-align: justify;'> El cálculo de la covarianza poblacional a partir de los datos muestrales, por otra parte, se define como\n",
    "\n",
    "$$Cov(X,Y) = \\dfrac{\\sum{(x_i - \\bar{x})(y_i - \\bar{y})}}{n}.$$"
   ]
  },
  {
   "cell_type": "code",
   "execution_count": null,
   "metadata": {},
   "outputs": [],
   "source": [
    "# Ejemplo con datos creados de manera aleatoria\n",
    "\n",
    "x = np.arange(10, 20)\n",
    "y = np.array([2, 1, 4, 5, 8, 12, 18, 25, 96, 48])\n",
    "\n",
    "cov_xy = np.cov(x, y)\n",
    "cov_xy"
   ]
  },
  {
   "cell_type": "code",
   "execution_count": null,
   "metadata": {},
   "outputs": [],
   "source": [
    "print(cov_xy[0, 1])"
   ]
  },
  {
   "cell_type": "code",
   "execution_count": null,
   "metadata": {},
   "outputs": [],
   "source": [
    "# Ejemplo con una base de datos\n",
    "\n",
    "salary_data = pd.read_excel('salary_data.xlsx')\n",
    "salary_data"
   ]
  },
  {
   "cell_type": "code",
   "execution_count": null,
   "metadata": {
    "scrolled": true
   },
   "outputs": [],
   "source": [
    "cov_mat = salary_data.cov()\n",
    "cov_mat"
   ]
  },
  {
   "cell_type": "code",
   "execution_count": null,
   "metadata": {
    "scrolled": true
   },
   "outputs": [],
   "source": [
    "cov_mat.loc[\"YearsExperience\", \"YearsExperience\"]"
   ]
  },
  {
   "cell_type": "markdown",
   "metadata": {},
   "source": [
    "### Correlación\n",
    "\n",
    "<p style='text-align: justify;'> La correlación indica la fuerza y la dirección de una relación lineal y proporcionalidad entre dos variables aleatorias. Es un valor que va entre -1 y 1.\n",
    "\n",
    "- <p style='text-align: justify;'> Si la correlación es -1, las variables estan perfecta y negativamente correlacionadas.\n",
    "- <p style='text-align: justify;'> Si la correlación es 1, las variables estan perfecta y positivamente correlacionadas.\n",
    "- <p style='text-align: justify;'> Si la correlación es 0, las variables no estan correlacionadas.\n",
    "\n",
    "<p style='text-align: justify;'> La fórumla de cálculo es la siguiente:\n",
    "\n",
    "$$\\rho_{x,y} = \\frac{Cov(X,Y)}{\\sigma_x \\sigma_y}.$$"
   ]
  },
  {
   "cell_type": "code",
   "execution_count": null,
   "metadata": {},
   "outputs": [],
   "source": [
    "# Ejemplo con datos creados de manera aleatoria\n",
    "\n",
    "corr_xy = np.corrcoef(x,y)[0,1]\n",
    "corr_xy"
   ]
  },
  {
   "cell_type": "code",
   "execution_count": null,
   "metadata": {
    "scrolled": true
   },
   "outputs": [],
   "source": [
    "# Ejemplo con una base de datos\n",
    "\n",
    "corr_mat = salary_data.corr()\n",
    "corr_mat"
   ]
  },
  {
   "cell_type": "markdown",
   "metadata": {},
   "source": [
    "### Correlación vs Causalidad\n",
    "\n",
    "<p style='text-align: justify;'> La correlación entre dos variables, como ya mencionamos, mide la fuerza de la asociación entre ellas. Sin embargo, un alto coeficiente de correlación, no significa que podamos concluir que existe una relación de causalidad entre dos variables. \n",
    "\n",
    "<p style='text-align: justify;'> Pensemos en un ejemplo. Durante el verano, en Córdoba, debido a las altas temperaturas, aumenta el uso del aire acondicionado en los hogares. De manera simultánea, en esta misma época, suele aumentar el número de accidentes que se producen en los ríos por el gran número de turistas que vacionan en las sierras cordobesas. Si aplicamos la definición de correlación, encontraríamos que existe una relación positiva entre el uso del aire acondicionado y el número de accidentes en los ríos. Sin embargo, ¿esto implica que el aumento en el aire acondicionado en una causa directa de la suba en la cantidad de accidentes? En otras palabras, ¿podemos utilizar el consumo del aire acondicionado para predecir el número de accidentes? Probablemente no. "
   ]
  },
  {
   "cell_type": "markdown",
   "metadata": {},
   "source": [
    "## Números Aleatorios"
   ]
  },
  {
   "cell_type": "code",
   "execution_count": null,
   "metadata": {},
   "outputs": [],
   "source": [
    "n = 5\n",
    "m = 2\n",
    "\n",
    "# Crea un vector de dimension n x m y lo llena de números aleatorios entre [0,1)\n",
    "\n",
    "np.random.rand(n,m) "
   ]
  },
  {
   "cell_type": "code",
   "execution_count": null,
   "metadata": {},
   "outputs": [],
   "source": [
    "low = 1\n",
    "high = 10\n",
    "\n",
    "# Genera números enteros aleatorios entre [low, high)\n",
    " \n",
    "np.random.randint(low, high) "
   ]
  },
  {
   "cell_type": "code",
   "execution_count": null,
   "metadata": {},
   "outputs": [],
   "source": [
    "a = [1,2,3,4,5,6,7,8,9]\n",
    "\n",
    "# Mezcla los elementos de una lista\n",
    "\n",
    "np.random.shuffle(a)\n",
    "a"
   ]
  },
  {
   "cell_type": "markdown",
   "metadata": {},
   "source": [
    "## Tarea\n",
    "\n",
    "1. <p style='text-align: justify;'> Generar 1000 observaciones de una variable aleatoria X normal con media 10 y varianza 25. Graficar histograma. Calcular media muestral y varianza muestral."
   ]
  },
  {
   "cell_type": "code",
   "execution_count": null,
   "metadata": {
    "scrolled": true
   },
   "outputs": [],
   "source": [
    "rand_obs = np.random.normal(10,25,1000)\n",
    "rand_obs_xn = np.linspace(min(rand_obs), max(rand_obs))\n",
    "rand_obs_den = gaussian_kde(rand_obs)\n",
    "\n",
    "fig = plt.figure(figsize = (15,7))\n",
    "plt.hist(rand_obs, density = True, alpha = 0.5)\n",
    "plt.plot(rand_obs_xn, rand_obs_den(rand_obs_xn), color = \"darkblue\", lw = 2)\n",
    "plt.show()"
   ]
  },
  {
   "cell_type": "code",
   "execution_count": null,
   "metadata": {},
   "outputs": [],
   "source": [
    "print(\"La media muestral es:\", rand_obs.mean())\n",
    "print(\"La varianza muestral es:\", rand_obs.std())"
   ]
  },
  {
   "cell_type": "markdown",
   "metadata": {},
   "source": [
    "2. <p style='text-align: justify;'> Generar 5000 observaciones de una variable aleatoria proveniente de una poblacion Chi-cuadrado con 2 grados de libertad. Graficar histograma. Calcular skewness y kurtosis."
   ]
  },
  {
   "cell_type": "code",
   "execution_count": null,
   "metadata": {},
   "outputs": [],
   "source": [
    "chi_rand = np.random.chisquare(2,5000)\n",
    "xchi_rand = np.linspace(min(chi_rand), max(chi_rand))\n",
    "chi_rand_den = gaussian_kde(chi_rand)\n",
    "\n",
    "fig = plt.figure(figsize = (15,7))\n",
    "plt.hist(chi_rand, density = True, alpha = 0.5)\n",
    "plt.plot(xchi_rand, chi_rand_den(xchi_rand), color = \"darkblue\", lw = 2)\n",
    "plt.show()"
   ]
  },
  {
   "cell_type": "markdown",
   "metadata": {},
   "source": [
    "3. <p style='text-align: justify;'> Imagine el juego de tirar una moneda balanceada. Si sale cara, el resultado es 1 y si sale seca el resultado es -1. Generar 1000  tiradas de monedas y guardar los 1 y -1 en una variable X. Luego, computar la suma acumulada de X y guardarla en una variable Y. Graficar. (Con random.rand puede generar valores entre 0 y 1, y luego convertir dichos valores en -1 y 1.)"
   ]
  },
  {
   "cell_type": "code",
   "execution_count": null,
   "metadata": {},
   "outputs": [],
   "source": [
    "X = np.random.rand(1000)"
   ]
  },
  {
   "cell_type": "code",
   "execution_count": null,
   "metadata": {},
   "outputs": [],
   "source": [
    "for i in range(len(X)):\n",
    "    if X[i] <= .5:\n",
    "        X[i] = -1\n",
    "    else:\n",
    "        X[i] = 1\n",
    "   \n",
    "Y = X.sum()\n",
    "\n",
    "sns.histplot(data = X)\n",
    "plt.show()"
   ]
  },
  {
   "cell_type": "markdown",
   "metadata": {},
   "source": [
    "# 3. Estadística Descriptiva\n",
    " ***\n",
    "\n",
    "<p style='text-align: justify;'> La estadística descriptiva consiste en la presentación de la información recogida de una forma clara, ordenada y sistematizada que permita a al observador tener una visión más precisa del problema que se tiene en frente.\n",
    "\n",
    "     \n",
    "## Tipos de Variables\n",
    " \n",
    "<p style='text-align: justify;'> Las variables cuantitativas son variables que se expresan numéricamente. Dentro de este tipo de variables encontramos a las variables cuantitativas continuas y discretas. \n",
    "- <p style='text-align: justify;'> Las variables continuas toman un valor infinito de valores entre un intervalo de datos, por ejemplo, el tiempo que tarda un corredor en completar los 100 metros lisos.\n",
    "- <p style='text-align: justify;'> Las variables discreta toman un valor finito de valores entre un intervalo de datos, por ejemplo, el número de helados vendidos.\n",
    "\n",
    "<p style='text-align: justify;'> Las variables cualitativas son variables que se expresan, por regla general, en palabras. Entre ellas econtramos a las ordinales y las nominales. \n",
    "- <p style='text-align: justify;'> Las variable ordinales expresan diferentes niveles y orden, por ejemplo: primero, segundo, tercero, etc.\n",
    "- <p style='text-align: justify;'> Las variables nominales expresan un nombre claramente diferenciado, por ejemplo, el color de ojos puede ser azul, negro, castaño, verde, etc.\n",
    "   \n",
    "## ¿En qué consiste el Análisis Exploratorio de Datos?\n",
    "\n",
    "<p style='text-align: justify;'> El análisis de datos abarca una serie de técnicas exploratorias que describen de una manera rápida el comportamiento de los datos. En la exploración de una base de datos se utilizan recursos como tablas, gráﬁcos, resúmenes numéricos, etc.\n",
    "\n",
    "<p style='text-align: justify;'> En esta parte del curso exploraremos dos librerías muy importantes: Pandas y Plotly.\n",
    "\n",
    "## Aplicación\n",
    "\n",
    "<p style='text-align: justify;'> A continuación analizaremos una base de datos de Duncan, que contiene información sobre el prestigio y otras características de 45 ocupaciones estadounidenses en 1950 (https://www.statsmodels.org/stable/datasets/index.html). El *dataframe* con el que trabajaremos tiene 45 filas y 4 columnas.\n",
    "\n",
    "\n",
    "### Descripción de la Base de Datos\n",
    "\n",
    "- <p style='text-align: justify;'> type: Tipo de ocupación. Este factor tiene los siguientes niveles: prof, professional and managerial; wc, white-collar; bc, blue-collar.\n",
    "\n",
    "- <p style='text-align: justify;'> income: Porcentaje de personas ocupadas en el censo de EE. UU. de 1950 que ganaron USD 3500 o más por año (alrededor de USD 36 000 en dólares estadounidenses de 2017).\n",
    "\n",
    "- <p style='text-align: justify;'> education: Porcentaje de personas ocupadas en el censo de EE. UU. de 1950 que terminaron la escuela secundaria.\n",
    "\n",
    "- <p style='text-align: justify;'> prestige: Porcentaje de encuentados que respondieron que describieron su puesto como \"bueno\" or mejor en prestigo. "
   ]
  },
  {
   "cell_type": "code",
   "execution_count": null,
   "metadata": {},
   "outputs": [],
   "source": [
    "import statsmodels.api as sm \n",
    "\n",
    "# Datos\n",
    "\n",
    "df = sm.datasets.get_rdataset(\"Duncan\", \"carData\").data"
   ]
  },
  {
   "cell_type": "code",
   "execution_count": null,
   "metadata": {},
   "outputs": [],
   "source": [
    "df.info()"
   ]
  },
  {
   "cell_type": "markdown",
   "metadata": {},
   "source": [
    "### Elementos Básicos de Pandas"
   ]
  },
  {
   "cell_type": "code",
   "execution_count": null,
   "metadata": {},
   "outputs": [],
   "source": [
    "# Seleccionar las primeras n filas\n",
    "\n",
    "df.head(5)"
   ]
  },
  {
   "cell_type": "code",
   "execution_count": null,
   "metadata": {},
   "outputs": [],
   "source": [
    "# Seleccionar las últimas n filas\n",
    "\n",
    "df.tail(5)"
   ]
  },
  {
   "cell_type": "code",
   "execution_count": null,
   "metadata": {},
   "outputs": [],
   "source": [
    "# Seleccionar las cumnas\n",
    "\n",
    "print(df.columns)\n",
    "\n",
    "# Seleccionar el índice\n",
    "\n",
    "print(df.index)"
   ]
  },
  {
   "cell_type": "code",
   "execution_count": null,
   "metadata": {},
   "outputs": [],
   "source": [
    "# Extraer una columna\n",
    "\n",
    "df['type']"
   ]
  },
  {
   "cell_type": "code",
   "execution_count": null,
   "metadata": {},
   "outputs": [],
   "source": [
    "# Seleccionar filas por ubicacion del índice\n",
    "\n",
    "df.iloc[-1] "
   ]
  },
  {
   "cell_type": "code",
   "execution_count": null,
   "metadata": {},
   "outputs": [],
   "source": [
    "# Seleccionar filas por valor del index\n",
    "\n",
    "df.loc['author'] "
   ]
  },
  {
   "cell_type": "code",
   "execution_count": null,
   "metadata": {},
   "outputs": [],
   "source": [
    "# Filtrar un dataframe de acuerdo a alguna condición\n",
    "\n",
    "df[df['income']>65]"
   ]
  },
  {
   "cell_type": "code",
   "execution_count": null,
   "metadata": {},
   "outputs": [],
   "source": [
    "# Crear una nueva columna\n",
    "\n",
    "df['new column'] = df['income']/df['education']\n",
    "df.head()"
   ]
  },
  {
   "cell_type": "code",
   "execution_count": null,
   "metadata": {},
   "outputs": [],
   "source": [
    "# Eliminar una columna\n",
    "\n",
    "df.drop('new column', axis = 1, inplace = True)"
   ]
  },
  {
   "cell_type": "code",
   "execution_count": null,
   "metadata": {},
   "outputs": [],
   "source": [
    "# Ordenar valores de acuerdo a una columna\n",
    "\n",
    "df.sort_values(by = 'income', ascending = False)"
   ]
  },
  {
   "cell_type": "markdown",
   "metadata": {},
   "source": [
    "### Tablas y Gráficos \n",
    "\n",
    "### Tabla de Distribución de Frecuencias"
   ]
  },
  {
   "cell_type": "code",
   "execution_count": null,
   "metadata": {},
   "outputs": [],
   "source": [
    "df_freq = df.groupby('type').count()\n",
    "df_freq"
   ]
  },
  {
   "cell_type": "code",
   "execution_count": null,
   "metadata": {},
   "outputs": [],
   "source": [
    "df_freq.drop(['education', 'prestige'], axis = 1, inplace = True)"
   ]
  },
  {
   "cell_type": "code",
   "execution_count": null,
   "metadata": {},
   "outputs": [],
   "source": [
    "df_freq = df.groupby('type').count()\n",
    "df_freq.drop(['education', 'prestige'], axis = 1, inplace = True)\n",
    "df_freq.columns = ['Cantidad']\n",
    "df_freq['Frecuencia Relativa'] = round(df_freq['Cantidad']/len(df),3)\n",
    "df_freq['Frecuencia Acumulada'] = round(df_freq['Frecuencia Relativa'].cumsum(),3)\n",
    "df_freq"
   ]
  },
  {
   "cell_type": "markdown",
   "metadata": {},
   "source": [
    "### Histograma"
   ]
  },
  {
   "cell_type": "code",
   "execution_count": null,
   "metadata": {},
   "outputs": [],
   "source": [
    "df1 = df.sort_values(by = 'income', ascending = False)\n",
    "df1.head()"
   ]
  },
  {
   "cell_type": "code",
   "execution_count": null,
   "metadata": {},
   "outputs": [],
   "source": [
    "fig = px.histogram(df1, x = df1.index, y = 'income')\n",
    "fig.update_layout(\n",
    "       title = 'Nivel de Ingreso de acuerdo a la Profesión',\n",
    "       xaxis_title='Profesión',\n",
    "       yaxis_title='Ingreso', \n",
    "       font=dict(\n",
    "        color='black'\n",
    "    ))\n",
    "fig.update_xaxes(showline=True, linewidth=0.3, linecolor='black')\n",
    "fig.update_yaxes(showline=True, linewidth=0.3, linecolor='black', gridcolor='black')\n",
    "fig.update_traces(marker_color = 'rgb(55,126,184)')\n",
    "fig.update_layout(plot_bgcolor='rgba(0,0,0,0)')\n",
    "fig.show()"
   ]
  },
  {
   "cell_type": "code",
   "execution_count": null,
   "metadata": {},
   "outputs": [],
   "source": [
    "fig = px.histogram(df1, x = df1.index, y = 'education')\n",
    "fig.update_layout(\n",
    "       title = 'Nivel de Ingreso de acuerdo al Nivel Educativo',\n",
    "       xaxis_title='Profesión',\n",
    "       yaxis_title='Educación', \n",
    "        font=dict(\n",
    "        color='black'\n",
    "    ))\n",
    "fig.update_traces(marker_color = 'rgb(55,126,184)')\n",
    "fig.update_layout(plot_bgcolor='rgba(0,0,0,0)')\n",
    "fig.update_xaxes(showline=True, linewidth=0.3, linecolor='black')\n",
    "fig.update_yaxes(showline=True, linewidth=0.3, linecolor='black', gridcolor='black')\n",
    "fig.show()"
   ]
  },
  {
   "cell_type": "code",
   "execution_count": null,
   "metadata": {},
   "outputs": [],
   "source": [
    "df2 = df.groupby('type').mean()\n",
    "df2"
   ]
  },
  {
   "cell_type": "code",
   "execution_count": null,
   "metadata": {},
   "outputs": [],
   "source": [
    "fig = px.histogram(df2, x = df2.index, y = 'education')\n",
    "fig.update_layout(\n",
    "       title = 'Educación media por tipo de profesión',\n",
    "       xaxis_title='Tipo de Profesión',\n",
    "       yaxis_title='Educación', \n",
    "        font=dict(\n",
    "        color='black'\n",
    "    ))\n",
    "fig.update_traces(marker_color = 'rgb(55,126,184)')\n",
    "fig.update_layout(plot_bgcolor='rgba(0,0,0,0)')\n",
    "fig.update_xaxes(showline=True, linewidth=0.3, linecolor='black')\n",
    "fig.update_yaxes(showline=True, linewidth=0.3, linecolor='black', gridcolor='black')\n",
    "fig.show()"
   ]
  },
  {
   "cell_type": "markdown",
   "metadata": {},
   "source": [
    "### Scatter Plot"
   ]
  },
  {
   "cell_type": "code",
   "execution_count": null,
   "metadata": {},
   "outputs": [],
   "source": [
    "fig = px.scatter(df, x=\"prestige\", y=\"income\", size=\"education\", color=\"type\", hover_name=df.index,\n",
    "            size_max=40,color_discrete_sequence=px.colors.qualitative.Set1)\n",
    "fig.update_layout(\n",
    "    title='Scatter Plot',\n",
    "    xaxis_title='Educación',\n",
    "    yaxis_title='Prestigio', \n",
    "        font=dict(\n",
    "        color='black'\n",
    "    )\n",
    ")\n",
    "fig.update_layout(plot_bgcolor='rgba(0,0,0,0)')\n",
    "fig.update_xaxes(showline=True, linewidth=0.3, linecolor='black')\n",
    "fig.update_yaxes(showline=True, linewidth=0.3, linecolor='black', gridcolor='black')\n",
    "fig.show()"
   ]
  },
  {
   "cell_type": "markdown",
   "metadata": {},
   "source": [
    "### Box Plots"
   ]
  },
  {
   "cell_type": "code",
   "execution_count": 12,
   "metadata": {},
   "outputs": [
    {
     "ename": "NameError",
     "evalue": "name 'df' is not defined",
     "output_type": "error",
     "traceback": [
      "\u001b[1;31m---------------------------------------------------------------------------\u001b[0m",
      "\u001b[1;31mNameError\u001b[0m                                 Traceback (most recent call last)",
      "\u001b[1;32m~\\AppData\\Local\\Temp/ipykernel_18324/213707641.py\u001b[0m in \u001b[0;36m<module>\u001b[1;34m\u001b[0m\n\u001b[1;32m----> 1\u001b[1;33m fig = px.scatter(df, x=\"education\", y=\"income\", color=\"type\", marginal_y=\"box\",\n\u001b[0m\u001b[0;32m      2\u001b[0m            marginal_x=\"box\", trendline=\"ols\",color_discrete_sequence=px.colors.qualitative.Set1)\n\u001b[0;32m      3\u001b[0m fig.update_layout(\n\u001b[0;32m      4\u001b[0m     \u001b[0mtitle\u001b[0m\u001b[1;33m=\u001b[0m\u001b[1;34m\"Scatter Plot y Box Plots\"\u001b[0m\u001b[1;33m,\u001b[0m\u001b[1;33m\u001b[0m\u001b[1;33m\u001b[0m\u001b[0m\n\u001b[0;32m      5\u001b[0m     \u001b[0mxaxis_title\u001b[0m\u001b[1;33m=\u001b[0m\u001b[1;34m\"Education\"\u001b[0m\u001b[1;33m,\u001b[0m\u001b[1;33m\u001b[0m\u001b[1;33m\u001b[0m\u001b[0m\n",
      "\u001b[1;31mNameError\u001b[0m: name 'df' is not defined"
     ]
    }
   ],
   "source": [
    "fig = px.scatter(df, x=\"education\", y=\"income\", color=\"type\", marginal_y=\"box\",\n",
    "           marginal_x=\"box\", trendline=\"ols\",color_discrete_sequence=px.colors.qualitative.Set1)\n",
    "fig.update_layout(\n",
    "    title=\"Scatter Plot y Box Plots\",\n",
    "    xaxis_title=\"Education\",\n",
    "    yaxis_title=\"Income\", \n",
    "        font=dict(\n",
    "        color='black'\n",
    "    ))\n",
    "fig.update_layout(plot_bgcolor='rgba(0,0,0,0)')\n",
    "fig.update_xaxes(showline=True, linewidth=0.3, linecolor='black')\n",
    "fig.update_yaxes(showline=True, linewidth=0.3, linecolor='black', gridcolor='black')\n",
    "fig.show()"
   ]
  },
  {
   "cell_type": "code",
   "execution_count": null,
   "metadata": {},
   "outputs": [],
   "source": [
    "fig = px.box(df, x='type', y=\"education\", color = 'type',color_discrete_sequence=px.colors.qualitative.Set1)\n",
    "fig.update_layout(\n",
    "    title=\"Box Plots\",\n",
    "    xaxis_title=\"Tipo de Ocupación\",\n",
    "    yaxis_title='Ingreso', \n",
    "        font=dict(\n",
    "        color='black'\n",
    "    ))\n",
    "fig.update_layout(plot_bgcolor='rgba(0,0,0,0)')\n",
    "fig.update_xaxes(showline=True, linewidth=0.3, linecolor='black')\n",
    "fig.update_yaxes(showline=True, linewidth=0.3, linecolor='black', gridcolor='black')\n",
    "fig.show()"
   ]
  },
  {
   "cell_type": "markdown",
   "metadata": {},
   "source": [
    "## Tarea\n",
    "\n",
    "La base de datos de plotly px.data.tips() contiene información de las propinas recibidas por un mozo a lo largo de varios meses en un restaurante. \n",
    "\n",
    "1. Descargar la base y guardarla en un DataFrame."
   ]
  },
  {
   "cell_type": "code",
   "execution_count": null,
   "metadata": {},
   "outputs": [],
   "source": [
    "df_t = px.data.tips()\n",
    "df_t.head()"
   ]
  },
  {
   "cell_type": "markdown",
   "metadata": {},
   "source": [
    "2. Agrupar datos por sexo y encontrar la media de las variables cuantitativas."
   ]
  },
  {
   "cell_type": "code",
   "execution_count": null,
   "metadata": {},
   "outputs": [],
   "source": [
    "df_t.groupby(\"sex\").mean()"
   ]
  },
  {
   "cell_type": "markdown",
   "metadata": {},
   "source": [
    "3. Agrupar los datos por dia y sumar las propinas recibidas."
   ]
  },
  {
   "cell_type": "code",
   "execution_count": null,
   "metadata": {},
   "outputs": [],
   "source": [
    "df_t.groupby(\"day\").sum()"
   ]
  },
  {
   "cell_type": "markdown",
   "metadata": {},
   "source": [
    "4. Graficar un histograma de frecuencia de la variable \"tip\", diferenciando sexo con diferente color."
   ]
  },
  {
   "cell_type": "code",
   "execution_count": null,
   "metadata": {},
   "outputs": [],
   "source": [
    "fig = px.histogram(df_t, x = df_t.tip, color = \"sex\", color_discrete_sequence=px.colors.qualitative.Set1)\n",
    "fig.update_layout(\n",
    "       title = 'Propinas por sexo',\n",
    "       yaxis_title='Frecuencia',\n",
    "       xaxis_title='Propina', \n",
    "        font=dict(\n",
    "        color='black'\n",
    "    ))\n",
    "fig.update_layout(plot_bgcolor='rgba(0,0,0,0)')\n",
    "fig.update_xaxes(showline=True, linewidth=0.3, linecolor='black')\n",
    "fig.update_yaxes(showline=True, linewidth=0.3, linecolor='black', gridcolor='black')\n",
    "fig.show()"
   ]
  },
  {
   "cell_type": "markdown",
   "metadata": {},
   "source": [
    "5. Graficar un histograma de \"Smoker\", diferenciando sexo con diferente color."
   ]
  },
  {
   "cell_type": "code",
   "execution_count": null,
   "metadata": {},
   "outputs": [],
   "source": [
    "fig = px.histogram(df_t, x = df_t.smoker, color = \"sex\", color_discrete_sequence=px.colors.qualitative.Set1)\n",
    "fig.update_layout(\n",
    "       title = 'Distribución de fumadores por sexo',\n",
    "       yaxis_title='Frecuencia',\n",
    "       xaxis_title='Fumador (SI/NO)', \n",
    "        font=dict(\n",
    "        color='black'\n",
    "    ))\n",
    "fig.update_layout(plot_bgcolor='rgba(0,0,0,0)')\n",
    "fig.update_xaxes(showline=True, linewidth=0.3, linecolor='black')\n",
    "fig.update_yaxes(showline=True, linewidth=0.3, linecolor='black', gridcolor='black')\n",
    "fig.show()"
   ]
  },
  {
   "cell_type": "markdown",
   "metadata": {},
   "source": [
    "6. Graficar un grafico de torta con el \"total_bill\" por dia."
   ]
  },
  {
   "cell_type": "code",
   "execution_count": null,
   "metadata": {},
   "outputs": [],
   "source": [
    "fig = px.pie(df_t, names = df_t.day, values = df_t.total_bill, color_discrete_sequence=px.colors.qualitative.Set2)\n",
    "fig.update_layout(\n",
    "       title = 'Total bill per day',\n",
    "        font=dict(\n",
    "        color='black'\n",
    "    ))\n",
    "fig.update_layout(plot_bgcolor='rgba(0,0,0,0)')\n",
    "fig.update_xaxes(showline=True, linewidth=0.3, linecolor='black')\n",
    "fig.update_yaxes(showline=True, linewidth=0.3, linecolor='black', gridcolor='black')\n",
    "fig.show()"
   ]
  },
  {
   "cell_type": "markdown",
   "metadata": {},
   "source": [
    "7. Graficar un scatterplot de \"total_bill\" contra \"tips\", diferenciando color segun \"sex\" y tamaño segun \"size\"."
   ]
  },
  {
   "cell_type": "code",
   "execution_count": null,
   "metadata": {},
   "outputs": [],
   "source": [
    "fig = px.scatter(df_t, x=\"total_bill\", y=\"tip\", color=\"sex\", size = \"size\", color_discrete_sequence=px.colors.qualitative.Set2)\n",
    "fig.update_layout(\n",
    "    title=\"Tips to total bill\",\n",
    "    xaxis_title=\"Total bill\",\n",
    "    yaxis_title=\"Tip\", \n",
    "        font=dict(\n",
    "        color='black'\n",
    "    ))\n",
    "fig.update_layout(plot_bgcolor='rgba(0,0,0,0)')\n",
    "fig.update_xaxes(showline=True, linewidth=0.3, linecolor='black')\n",
    "fig.update_yaxes(showline=True, linewidth=0.3, linecolor='black', gridcolor='black')\n",
    "fig.show()"
   ]
  },
  {
   "cell_type": "markdown",
   "metadata": {},
   "source": [
    "# 4. Series de Tiempo\n",
    "\n",
    "***\n",
    "\n",
    "## ¿Qué es una Serie de Tiempo?\n",
    "\n",
    "<p style='text-align: justify;'> Una serie de tiempo no es mas que una sucesión de datos medidos en determinados momentos y ordenados cronológicamente. Es decir, variables indexadas por el tiempo.\n",
    "\n",
    "## Análisis de Series de Tiempo en Finanzas\n",
    "\n",
    "<p style='text-align: justify;'> El análsis de series de tiempo en finanzas se ocupa de la valuación de los activos a lo largo del tiempo. Las teorías en finanzas, así como el análisis empírico de las series de tiempo siempre contienen un elemento de incertidumbre. Por ello, estadística juega un rol central en este campo. \n",
    "\n",
    "## Aplicación con Yahoo Finance\n",
    "\n",
    "<p style='text-align: justify;'> A continuación se introducirán elementos básicos de análisis de series de tiempo financieras a partir de un ejemplo con datos de precios de acciones de Facebook, Amazon, Apple, Netflix y Google. Los datos se obtienen a partir de la API de Yahoo Finance utilizando una herramienta específica para Python, que veremos a continuación. A lo largo del desarrollo, también se presentarán conceptos introductorios del campo financiero.\n",
    "\n",
    "### Datos "
   ]
  },
  {
   "cell_type": "code",
   "execution_count": null,
   "metadata": {},
   "outputs": [],
   "source": [
    "# pip install yfinance\n",
    "import yfinance as yf\n",
    "import pandas as pd"
   ]
  },
  {
   "cell_type": "code",
   "execution_count": null,
   "metadata": {},
   "outputs": [],
   "source": [
    "tickers = ['AMZN', 'AAPL', 'NFLX', 'GOOG']\n",
    "\n",
    "prices = pd.DataFrame(columns = tickers)\n",
    "prices"
   ]
  },
  {
   "cell_type": "code",
   "execution_count": null,
   "metadata": {},
   "outputs": [],
   "source": [
    "for ticker in tickers:\n",
    "    prices[ticker] = yf.download(ticker, start='2015-01-01')['Adj Close']"
   ]
  },
  {
   "cell_type": "markdown",
   "metadata": {},
   "source": [
    "#### Observación \n",
    "Si la API de Yahoo Finance no se encuentra funcionando por alguna razón, es factible obtener los datos de la siguiente forma.\n",
    "\n",
    "```python\n",
    "data = px.data.stocks()\n",
    "data = data.set_index('date')\n",
    "data.index = pd.to_datetime(data.index)\n",
    "```"
   ]
  },
  {
   "cell_type": "code",
   "execution_count": null,
   "metadata": {},
   "outputs": [],
   "source": [
    "# Cambiamos los nombres de las columnas \n",
    "\n",
    "labels = ['Amazon','Apple','Netflix','Google']\n",
    "prices.columns = labels"
   ]
  },
  {
   "cell_type": "code",
   "execution_count": null,
   "metadata": {},
   "outputs": [],
   "source": [
    "prices.head()"
   ]
  },
  {
   "cell_type": "markdown",
   "metadata": {},
   "source": [
    "### Evolución Histórica de los Precios"
   ]
  },
  {
   "cell_type": "code",
   "execution_count": null,
   "metadata": {},
   "outputs": [],
   "source": [
    "fig = px.line(prices,color_discrete_sequence=px.colors.qualitative.Set1)\n",
    "fig.update_layout(\n",
    "  title = 'Precios de Acciones',\n",
    "   xaxis_title='Fecha',\n",
    "       yaxis_title='Precio', \n",
    "        font=dict(\n",
    "        color='black'\n",
    "    ))\n",
    "fig.update_layout(plot_bgcolor='rgba(0,0,0,0)')\n",
    "fig.update_xaxes(showline=True, linewidth=0.3, linecolor='black')\n",
    "fig.update_yaxes(showline=True, linewidth=0.3, linecolor='black', gridcolor='black')"
   ]
  },
  {
   "cell_type": "markdown",
   "metadata": {},
   "source": [
    "<p style='text-align: justify;'> Al graficar los precios de esta manera, podemos notar que las series no son comparables entre sí, ya que cada serie comienza en un valor absoluto distinto. Para resolver estar dificultad, podemos expresar los precios como índices, normalizando la serie para un valor incial del 100."
   ]
  },
  {
   "cell_type": "code",
   "execution_count": null,
   "metadata": {},
   "outputs": [],
   "source": [
    "performance = (prices/prices.iloc[0])*100\n",
    "performance.head()"
   ]
  },
  {
   "cell_type": "code",
   "execution_count": null,
   "metadata": {},
   "outputs": [],
   "source": [
    "fig = px.line(performance,color_discrete_sequence=px.colors.qualitative.Set1)\n",
    "fig.update_layout(\n",
    "  title = 'Precios de Acciones',\n",
    "   xaxis_title='Fecha',\n",
    "       yaxis_title='Precio',  \n",
    "        font=dict(\n",
    "        color='black'\n",
    "    ))\n",
    "fig.update_layout(plot_bgcolor='rgba(0,0,0,0)')\n",
    "fig.update_xaxes(showline=True, linewidth=0.3, linecolor='black')\n",
    "fig.update_yaxes(showline=True, linewidth=0.3, linecolor='black', gridcolor='black')"
   ]
  },
  {
   "cell_type": "code",
   "execution_count": 13,
   "metadata": {},
   "outputs": [
    {
     "ename": "NameError",
     "evalue": "name 'performance' is not defined",
     "output_type": "error",
     "traceback": [
      "\u001b[1;31m---------------------------------------------------------------------------\u001b[0m",
      "\u001b[1;31mNameError\u001b[0m                                 Traceback (most recent call last)",
      "\u001b[1;32m~\\AppData\\Local\\Temp/ipykernel_18324/2085941526.py\u001b[0m in \u001b[0;36m<module>\u001b[1;34m\u001b[0m\n\u001b[0;32m      1\u001b[0m \u001b[0mplt\u001b[0m\u001b[1;33m.\u001b[0m\u001b[0mfigure\u001b[0m\u001b[1;33m(\u001b[0m\u001b[0mfigsize\u001b[0m \u001b[1;33m=\u001b[0m \u001b[1;33m(\u001b[0m\u001b[1;36m22\u001b[0m\u001b[1;33m,\u001b[0m\u001b[1;36m9\u001b[0m\u001b[1;33m)\u001b[0m\u001b[1;33m)\u001b[0m\u001b[1;33m\u001b[0m\u001b[1;33m\u001b[0m\u001b[0m\n\u001b[1;32m----> 2\u001b[1;33m \u001b[0mplt\u001b[0m\u001b[1;33m.\u001b[0m\u001b[0mplot\u001b[0m\u001b[1;33m(\u001b[0m\u001b[0mperformance\u001b[0m\u001b[1;33m)\u001b[0m\u001b[1;33m\u001b[0m\u001b[1;33m\u001b[0m\u001b[0m\n\u001b[0m\u001b[0;32m      3\u001b[0m \u001b[0mplt\u001b[0m\u001b[1;33m.\u001b[0m\u001b[0mylabel\u001b[0m\u001b[1;33m(\u001b[0m\u001b[1;34m'Precio'\u001b[0m\u001b[1;33m)\u001b[0m\u001b[1;33m\u001b[0m\u001b[1;33m\u001b[0m\u001b[0m\n\u001b[0;32m      4\u001b[0m \u001b[0mplt\u001b[0m\u001b[1;33m.\u001b[0m\u001b[0mxlabel\u001b[0m\u001b[1;33m(\u001b[0m\u001b[1;34m'Fecha'\u001b[0m\u001b[1;33m)\u001b[0m\u001b[1;33m\u001b[0m\u001b[1;33m\u001b[0m\u001b[0m\n\u001b[0;32m      5\u001b[0m \u001b[0mplt\u001b[0m\u001b[1;33m.\u001b[0m\u001b[0mlegend\u001b[0m\u001b[1;33m(\u001b[0m\u001b[0mprices\u001b[0m\u001b[1;33m.\u001b[0m\u001b[0mcolumns\u001b[0m\u001b[1;33m)\u001b[0m\u001b[1;33m\u001b[0m\u001b[1;33m\u001b[0m\u001b[0m\n",
      "\u001b[1;31mNameError\u001b[0m: name 'performance' is not defined"
     ]
    },
    {
     "data": {
      "text/plain": [
       "<Figure size 1584x648 with 0 Axes>"
      ]
     },
     "metadata": {},
     "output_type": "display_data"
    }
   ],
   "source": [
    "plt.figure(figsize = (22,9))\n",
    "plt.plot(performance)\n",
    "plt.ylabel('Precio')\n",
    "plt.xlabel('Fecha')\n",
    "plt.legend(prices.columns)\n",
    "plt.title('Precios de Acciones')\n",
    "plt.grid()"
   ]
  },
  {
   "cell_type": "code",
   "execution_count": null,
   "metadata": {},
   "outputs": [],
   "source": [
    "palette = sns.color_palette('Set1', len(prices.columns))\n",
    "plt.figure(figsize = (25,10))\n",
    "\n",
    "for i,x,color in zip(range(len(performance.columns)),prices.columns, palette):\n",
    "    plt.subplot(2,5,i+1)\n",
    "    plt.plot(prices[x], color = color, label = x)\n",
    "    plt.grid()\n",
    "    plt.legend()\n",
    "    plt.xticks(rotation = 25)\n",
    "    \n",
    "for i,x,color in zip(range(len(performance.columns)),prices.columns, palette):\n",
    "    plt.subplot(2,5,i+6)\n",
    "    plt.plot(prices[x], color = color, label = x)\n",
    "    plt.grid()\n",
    "    plt.legend()\n",
    "    plt.xticks(rotation = 25)\n",
    "    \n",
    "    \n",
    "### POR QUE N COL ESTÁ FIJADO = 5 Y NO = 4??"
   ]
  },
  {
   "cell_type": "markdown",
   "metadata": {},
   "source": [
    "## Retornos\n",
    "\n",
    "<p style='text-align: justify;'> Para realizar análisis financieros, en general, se emplea la serie de retornos, en vez de la serie de precios. Esto ocurre porque los retornos, al ser una medida independiente de la escala, permiten resumir de mejor manera una oportunidad de inversión. Además, los retornos tienen ciertas propiedades estadísticas deseables que los precios no poseen. En particular, la serie de precios es no estacionaria, lo que significa que su distribución no es constante a lo largo del tiempo, por lo que no es posible hacer inferencia a partir de la muestrales.\n",
    "\n",
    "<p style='text-align: justify;'> Existen varias definiciones de retorno. A continuación revisaremos algunas de ellos. Asumimos que $P_t$ el precio de un activo en el momento $t$ y que ese activo no paga dividendos. \n",
    "\n",
    "### Retorno Simple en Un Período \n",
    "\n",
    "<p style='text-align: justify;'> Si el inversor mantiene un activo un período, desde el momento $t-1$ hasta el momento $t$ se obtiene un retorno simple igual a\n",
    "\n",
    "$$ R_{t} = \\frac{P_{t+1}-P_{t}}{P_{t}}. $$\n",
    "\n",
    "<p style='text-align: justify;'> o alternativamente,\n",
    "\n",
    "$$ R_{t} = \\frac{P_{t+1}}{P_{t}} - 1. $$\n",
    "\n",
    "<p style='text-align: justify;'> De otra manera:\n",
    "\n",
    "$$P_{t+1} = P_{t}(1 + R_{t}).$$\n",
    "\n"
   ]
  },
  {
   "cell_type": "code",
   "execution_count": null,
   "metadata": {},
   "outputs": [],
   "source": [
    "rets = prices.pct_change().dropna()\n",
    "rets = (prices/prices.shift(1) - 1).dropna()"
   ]
  },
  {
   "cell_type": "code",
   "execution_count": null,
   "metadata": {},
   "outputs": [],
   "source": [
    "fig = px.line(rets,color_discrete_sequence=px.colors.qualitative.Set1)\n",
    "fig.update_layout(\n",
    "  title = 'Retornos de las Acciones',\n",
    "   xaxis_title='Fecha',\n",
    "       yaxis_title='Retornos', \n",
    "        font=dict(\n",
    "        color='black'\n",
    "    ))\n",
    "fig.update_layout(plot_bgcolor='rgba(0,0,0,0)')\n",
    "fig.update_xaxes(showline=True, linewidth=0.3, linecolor='black')\n",
    "fig.update_yaxes(showline=True, linewidth=0.3, linecolor='black', gridcolor='black')"
   ]
  },
  {
   "cell_type": "markdown",
   "metadata": {},
   "source": [
    "### Retorno Simple en Múltiples Período o Retorno Acumulado\n",
    "\n",
    "<p style='text-align: justify;'> Si un inversor mantiene el activo por $k$ períodos entre los momentos $t-j$ y $t$ obtenemos el retorno simple para los $k$-períodos.\n",
    "\n",
    "$$R_t[k] = \\dfrac{P_t}{P_{t-1}} \\times \\dfrac{P_{t-1}}{P_{t-2}}\\times \\dots \\dfrac{P_{t-(k-1)}}{P_{t-k}} - 1$$\n",
    "\n",
    "$$R_t[k] = (1 + R_t)\\times(1 + R_{t-1}) \\times \\dots (1 + R_{t-(k-1)}) - 1$$\n",
    "\n",
    "<p style='text-align: justify;'> Podemos observar que el retorno simple para los $k$-períodos es el producto de los retornos simples de un período para cada período en el análisis. Esto recibe el nombre de **retorno compuesto o acumulado**. Entonces,\n",
    "\n",
    "$$ R_t[k]=(P_t-P_{t-k})/P_{t-k}.$$"
   ]
  },
  {
   "cell_type": "code",
   "execution_count": null,
   "metadata": {},
   "outputs": [],
   "source": [
    "rets_cum = (1 + rets).cumprod() -1"
   ]
  },
  {
   "cell_type": "code",
   "execution_count": null,
   "metadata": {},
   "outputs": [],
   "source": [
    "fig = px.line(rets_cum,color_discrete_sequence=px.colors.qualitative.Set1)\n",
    "fig.update_layout(\n",
    "  title = 'Retornos Acumulados de las Acciones',\n",
    "   xaxis_title='Fecha',\n",
    "       yaxis_title='Retornos Acumulados', \n",
    "        font=dict(\n",
    "        color='black'\n",
    "    ))\n",
    "fig.update_layout(plot_bgcolor='rgba(0,0,0,0)')\n",
    "fig.update_xaxes(showline=True, linewidth=0.3, linecolor='black')\n",
    "fig.update_yaxes(showline=True, linewidth=0.3, linecolor='black', gridcolor='black')"
   ]
  },
  {
   "cell_type": "markdown",
   "metadata": {},
   "source": [
    "### Capitalización Continua\n",
    "\n",
    "<p style='text-align: justify;'> La capitalización continua supone que los intereses se van reinvirtiendo de manera continua. Es decir, implica que los intereses se van generando cada infinitésima de segundo. Esto es lo que diferencia este de tipo de capitalización en relación a otras variantes (capitalización diaria, mensual, anual). La capitalización continua genera intereses más elevados que los que se obtienen a partir de la capitalización compuesta o simple. \n",
    "\n",
    "<p style='text-align: justify;'> Siponiendo que $VF$ es el valor final de la inversión, $VI$ el valor inicial de la inversión, $r$ es la tasa de interés continua y $n$ son los periodos de tiempo, tenemos que\n",
    "\n",
    "$$VF = VI e^{r*n}.$$\n",
    "\n",
    "\n",
    "### Retorno Logarítmico\n",
    "\n",
    "<p style='text-align: justify;'> De lo anterior podemos deducir una nueva forma de computar los retornos. SI aplicamos el mismo razonamiento a los precios de los activos, obtenemos el retorno logarítmico, cuya fórmula se presenta a continuación. \n",
    "\n",
    "$$r_t = ln(1 + R_t) = ln \\left(\\dfrac{P_t}{P_{t-1}}\\right) $$\n",
    "\n",
    "$$r_t =\\ln{P_{t}} - \\ln{P_{t-1}} = p_t - p_{t-1}$$\n",
    "\n",
    "\n",
    "<p style='text-align: justify;'> Una característica de los retornos logarítmicos es que son aditivos. Es decir, para computar el retornos acumulado para $k$ períodos, se debe sumar los retornos logarítmicos para cada período.\n",
    "\n",
    "$$r_t[k] = ln(1 + R_t) + ln(1 + R_{t-1}) + \\dots + ln(1 + R_{t-(k-1)}) $$\n",
    "\n",
    "$$r_t[k] = r_t + r_{t-1}+ \\dots + r_{t-(k-1)}.$$"
   ]
  },
  {
   "cell_type": "code",
   "execution_count": null,
   "metadata": {},
   "outputs": [],
   "source": [
    "log_rets = (np.log(prices) - np.log(prices.shift(1))).dropna()"
   ]
  },
  {
   "cell_type": "code",
   "execution_count": null,
   "metadata": {},
   "outputs": [],
   "source": [
    "fig = px.line(log_rets,color_discrete_sequence=px.colors.qualitative.Set1)\n",
    "fig.update_layout(\n",
    "  title = 'Retornos Logarítmicos de las Acciones',\n",
    "   xaxis_title='Fecha',\n",
    "       yaxis_title='Retornos Logarítmicos', \n",
    "        font=dict(\n",
    "        color='black'\n",
    "    ))\n",
    "fig.update_layout(plot_bgcolor='rgba(0,0,0,0)')\n",
    "fig.update_xaxes(showline=True, linewidth=0.3, linecolor='black')\n",
    "fig.update_yaxes(showline=True, linewidth=0.3, linecolor='black', gridcolor='black')"
   ]
  },
  {
   "cell_type": "code",
   "execution_count": null,
   "metadata": {},
   "outputs": [],
   "source": [
    "log_rets_cum"
   ]
  },
  {
   "cell_type": "code",
   "execution_count": null,
   "metadata": {},
   "outputs": [],
   "source": [
    "log_rets_cum = log_rets.cumsum()\n",
    "\n",
    "fig = px.line(log_rets_cum,color_discrete_sequence=px.colors.qualitative.Set1)\n",
    "fig.update_layout(\n",
    "  title = 'Retornos Logarítmicos Acumulados de las Acciones',\n",
    "   xaxis_title='Fecha',\n",
    "       yaxis_title='Retornos Logarítmicos Acumulados', \n",
    "        font=dict(\n",
    "        color='black'\n",
    "    ))\n",
    "fig.update_layout(plot_bgcolor='rgba(0,0,0,0)')\n",
    "fig.update_xaxes(showline=True, linewidth=0.3, linecolor='black')\n",
    "fig.update_yaxes(showline=True, linewidth=0.3, linecolor='black', gridcolor='black')"
   ]
  },
  {
   "cell_type": "markdown",
   "metadata": {},
   "source": [
    "### Retorno Medio"
   ]
  },
  {
   "cell_type": "code",
   "execution_count": 14,
   "metadata": {},
   "outputs": [
    {
     "ename": "NameError",
     "evalue": "name 'rets' is not defined",
     "output_type": "error",
     "traceback": [
      "\u001b[1;31m---------------------------------------------------------------------------\u001b[0m",
      "\u001b[1;31mNameError\u001b[0m                                 Traceback (most recent call last)",
      "\u001b[1;32m~\\AppData\\Local\\Temp/ipykernel_18324/1813136642.py\u001b[0m in \u001b[0;36m<module>\u001b[1;34m\u001b[0m\n\u001b[1;32m----> 1\u001b[1;33m \u001b[0mrets\u001b[0m\u001b[1;33m.\u001b[0m\u001b[0mmean\u001b[0m\u001b[1;33m(\u001b[0m\u001b[1;33m)\u001b[0m\u001b[1;33m*\u001b[0m\u001b[1;36m252\u001b[0m\u001b[1;33m\u001b[0m\u001b[1;33m\u001b[0m\u001b[0m\n\u001b[0m",
      "\u001b[1;31mNameError\u001b[0m: name 'rets' is not defined"
     ]
    }
   ],
   "source": [
    "rets.mean()*252"
   ]
  },
  {
   "cell_type": "markdown",
   "metadata": {},
   "source": [
    "## Propiedades Empíricas de los Retornos\n",
    "\n",
    "<p style='text-align: justify;'> A continuación, emplearemos los datos que tenemos disponibles para estudiar distintas propiedades de las series de retornos. En primer lugar, graficaremos la serie de retornos y precios para Amazon. "
   ]
  },
  {
   "cell_type": "code",
   "execution_count": null,
   "metadata": {},
   "outputs": [],
   "source": [
    "fig = plt.figure(figsize = (22,9))\n",
    "plt.plot(prices['Amazon'], label = 'Amazon', color = 'tab:blue', alpha = 0.8)\n",
    "plt.axhline(prices['Amazon'].mean(), color= 'black')\n",
    "plt.legend(loc = 'best', fontsize = 13)\n",
    "plt.ylabel('Precio', size = 13)\n",
    "plt.xlabel('Fecha', size = 13)\n",
    "plt.autoscale(axis = 'x', tight = True)\n",
    "plt.grid(True)"
   ]
  },
  {
   "cell_type": "code",
   "execution_count": null,
   "metadata": {},
   "outputs": [],
   "source": [
    "fig = plt.figure(figsize = (22,9))\n",
    "plt.plot(rets['Amazon'], label = 'Amazon Returs', alpha = 0.8)\n",
    "plt.axhline(rets['Amazon'].mean(), color= 'black')\n",
    "plt.legend(loc = 'best', fontsize = 13)\n",
    "plt.ylabel('Returns', size = 13)\n",
    "plt.xlabel('Date', size = 13)\n",
    "plt.autoscale(axis = 'x', tight = True)\n",
    "plt.grid(True)"
   ]
  },
  {
   "cell_type": "markdown",
   "metadata": {},
   "source": [
    "<p style='text-align: justify;'> Si comparamos ambos gráficos, podemos observar que la media de la serie de precios de Facebook no es una buena representación de todo el conjunto de datos. Sin embargo, la media de la serie de retornos es una representación aceptable del resto de la serie. ¿Cómo podríamos explicar esta diferencia?\n",
    "\n",
    "<p style='text-align: justify;'> Una de las propiedades estadísticas que hacer que la serie de retorno sea muy útil es la $estacionariedad$. Una serie de tiempo ${r_t}$ es estacionaria si la media de $r_t$ y la covarianza entre $r_t$ y $r_{t-l}$ son invariantes a lo largo del tiempo, donde $l$ es un entero arbitrario. De forma más específica, {$r_t$} is estacionaria si la media es constante, $E(r_t) =\\mu$, y la covarianza sólo depende del tiempo, $Cov(r_t, r_{t-l}) = \\sigma_j$. \n",
    "\n",
    "<p style='text-align: justify;'> Gráficamente, esta condición implica que los datos de la serie fluctuan alrededor de un nivel fijo con un cierto nivel de variación. La estacionariedad es importante también porque permite al investigador realizar inferencia sobre observaciones futuras, concepto que estudiaremos más adelante. \n",
    "\n",
    "<p style='text-align: justify;'> A continuación, continuaremos analizando algunos estadísticos descriptivos para los retornos simples y logarítimos de toda la base de datos."
   ]
  },
  {
   "cell_type": "code",
   "execution_count": null,
   "metadata": {},
   "outputs": [],
   "source": [
    "def print_statistics(array):\n",
    "    \n",
    "    sta = scs.describe(array)\n",
    "    print(\"%14s %15s\" % ('Estadístico', 'Valor'))\n",
    "    print(30 * \"-\")\n",
    "    print(\"%14s %15.5f\" % ('Tamaño', sta[0]))\n",
    "    print(\"%14s %15.5f\" % ('Min', sta[1][0]))\n",
    "    print(\"%14s %15.5f\" % ('Max', sta[1][1]))\n",
    "    print(\"%14s %15.5f\" % ('Media', sta[2]))\n",
    "    print(\"%14s %15.5f\" % ('Desvío Est', np.sqrt(sta[3])))\n",
    "    print(\"%14s %15.5f\" % ('Simetría', sta[4]))\n",
    "    print(\"%14s %15.5f\" % ('kurtosis', sta[5]))"
   ]
  },
  {
   "cell_type": "code",
   "execution_count": null,
   "metadata": {},
   "outputs": [],
   "source": [
    "for ticker in rets.columns:\n",
    "    print('Resultados para '+ticker)\n",
    "    print(30 * \"-\")\n",
    "    returns = np.array(rets[ticker])\n",
    "    print_statistics(returns)\n",
    "    print(\"\")"
   ]
  },
  {
   "cell_type": "markdown",
   "metadata": {},
   "source": [
    "<p style='text-align: justify;'> De estos resultados podemos observar que los retornos diarios, en general, presentan una distribución leptocúrtica y bastante simétrica. Además, podemos notar que la media de la serie de retornos diarios es siempre cercana a cero. \n",
    "\n",
    "<p style='text-align: justify;'> También podemos realizar algunos test de normalidad para estudiar la distribución empírica de la serie de retornos."
   ]
  },
  {
   "cell_type": "code",
   "execution_count": null,
   "metadata": {},
   "outputs": [],
   "source": [
    "def normality_test(array):\n",
    "    \n",
    "    print(\"Skewness Test P-Valor %14.3f\" % scs.skewtest(array)[1])\n",
    "    print(\"Kurtosis Test P-Valor %14.3f\" % scs.kurtosistest(array)[1])\n",
    "    print(\"Normality Test P-Valor %14.3f\" % scs.normaltest(array)[1])"
   ]
  },
  {
   "cell_type": "code",
   "execution_count": null,
   "metadata": {},
   "outputs": [],
   "source": [
    "for ticker in labels:\n",
    "    print(\"\\nResultados para %s\" % ticker)\n",
    "    print(30 * \"-\")\n",
    "    ret = np.array(rets[ticker])\n",
    "    normality_test(ret)\n",
    "    print(30 * \"\")"
   ]
  },
  {
   "cell_type": "code",
   "execution_count": 15,
   "metadata": {},
   "outputs": [],
   "source": [
    "def is_normal(rets, level = 0.01):\n",
    "    pvalue = scs.normaltest(rets)[1]\n",
    "    return pvalue>level"
   ]
  },
  {
   "cell_type": "code",
   "execution_count": 16,
   "metadata": {},
   "outputs": [
    {
     "ename": "NameError",
     "evalue": "name 'rets' is not defined",
     "output_type": "error",
     "traceback": [
      "\u001b[1;31m---------------------------------------------------------------------------\u001b[0m",
      "\u001b[1;31mNameError\u001b[0m                                 Traceback (most recent call last)",
      "\u001b[1;32m~\\AppData\\Local\\Temp/ipykernel_18324/1929037274.py\u001b[0m in \u001b[0;36m<module>\u001b[1;34m\u001b[0m\n\u001b[1;32m----> 1\u001b[1;33m \u001b[1;32mfor\u001b[0m \u001b[0mticker\u001b[0m \u001b[1;32min\u001b[0m \u001b[0mrets\u001b[0m\u001b[1;33m.\u001b[0m\u001b[0mcolumns\u001b[0m\u001b[1;33m:\u001b[0m\u001b[1;33m\u001b[0m\u001b[1;33m\u001b[0m\u001b[0m\n\u001b[0m\u001b[0;32m      2\u001b[0m     \u001b[0mprint\u001b[0m\u001b[1;33m(\u001b[0m\u001b[1;34m'Se distribuye '\u001b[0m\u001b[1;33m+\u001b[0m\u001b[0mticker\u001b[0m\u001b[1;33m+\u001b[0m\u001b[1;34m' normal?'\u001b[0m\u001b[1;33m)\u001b[0m\u001b[1;33m\u001b[0m\u001b[1;33m\u001b[0m\u001b[0m\n\u001b[0;32m      3\u001b[0m     \u001b[0mprint\u001b[0m\u001b[1;33m(\u001b[0m\u001b[0mis_normal\u001b[0m\u001b[1;33m(\u001b[0m\u001b[0mrets\u001b[0m\u001b[1;33m[\u001b[0m\u001b[0mticker\u001b[0m\u001b[1;33m]\u001b[0m\u001b[1;33m)\u001b[0m\u001b[1;33m)\u001b[0m\u001b[1;33m\u001b[0m\u001b[1;33m\u001b[0m\u001b[0m\n\u001b[0;32m      4\u001b[0m     \u001b[0mprint\u001b[0m\u001b[1;33m(\u001b[0m\u001b[1;34m\"\"\u001b[0m\u001b[1;33m)\u001b[0m\u001b[1;33m\u001b[0m\u001b[1;33m\u001b[0m\u001b[0m\n",
      "\u001b[1;31mNameError\u001b[0m: name 'rets' is not defined"
     ]
    }
   ],
   "source": [
    "for ticker in rets.columns:\n",
    "    print('Se distribuye '+ticker+' normal?')\n",
    "    print(is_normal(rets[ticker]))\n",
    "    print(\"\")"
   ]
  },
  {
   "cell_type": "code",
   "execution_count": null,
   "metadata": {},
   "outputs": [],
   "source": [
    "rets.aggregate(is_normal)"
   ]
  },
  {
   "cell_type": "markdown",
   "metadata": {},
   "source": [
    "<p style='text-align: justify;'> Los test realizados previamente sostiene como hipótesis nula que la variable presenta una distribución normal. Como podemos observar, la normalidad se rechaza para todas las series. \n",
    " \n",
    "<p style='text-align: justify;'> También podemos estudiar la normalidad generando variables aleatorias normales con media y desvío estándar iguales a los calculados para las series de datos que disponemos, y comparando la distribución teórica con la observada."
   ]
  },
  {
   "cell_type": "code",
   "execution_count": null,
   "metadata": {},
   "outputs": [],
   "source": [
    "fig = plt.figure(figsize = (22,30))\n",
    "for i in range(len(rets.columns)):\n",
    "    \n",
    "    simple_rets_density = gaussian_kde(rets[rets.columns[i]])\n",
    "    srets = np.linspace(min(rets[rets.columns[i]]), max(rets[rets.columns[i]]))\n",
    "    \n",
    "    mu = rets[rets.columns[i]].mean()\n",
    "    sigma = rets[rets.columns[i]].std()\n",
    "    \n",
    "    normal = np.random.normal(mu, sigma, len(rets[rets.columns[i]]))\n",
    "    normal_density = gaussian_kde(normal)\n",
    "    xn = np.linspace(min(normal), max(normal))\n",
    "\n",
    "    plt.subplot(5,2,i+1)\n",
    "    plt.hist(rets[rets.columns[i]], bins = 80, color = 'tab:blue', alpha = 0.8)\n",
    "    plt.plot(srets, simple_rets_density(srets), color = 'black', lw=1.5)\n",
    "    plt.plot(xn, normal_density(xn), linestyle = 'dotted', color = 'black', lw=2)\n",
    "    plt.axvline(rets.mean()[i], color = 'black', label = 'Mean')\n",
    "    plt.title(rets.columns[i], fontsize = 15)\n",
    "    plt.grid(True)\n",
    "    \n",
    "plt.tight_layout(pad=3.0)"
   ]
  },
  {
   "cell_type": "markdown",
   "metadata": {},
   "source": [
    "<p style='text-align: justify;'> Por último, podemos comparar gráficamente cómo se comporta la serie de retornos para cada activo en relación con una serie de retornos generada que se distribuye normal con media y desvío estandar igual a las medidas poblaciones obtenidas en cada caso."
   ]
  },
  {
   "cell_type": "code",
   "execution_count": null,
   "metadata": {},
   "outputs": [],
   "source": [
    "for i, label in zip(range(len(rets.columns)),labels):\n",
    "    plt.figure(figsize = (22,9))\n",
    "    \n",
    "    mu = rets[rets.columns[i]].mean()\n",
    "    sigma = rets[rets.columns[i]].std()\n",
    "    \n",
    "    normal = np.random.normal(mu, sigma, len(rets[rets.columns[i]]))\n",
    "    \n",
    "    plt.suptitle('Retornos Normales vs Retornos de '+str(label), fontsize = 15)\n",
    "    \n",
    "    plt.subplot(2,1,1)\n",
    "    plt.plot(normal, label = 'Normal', color = 'tab:blue')\n",
    "    plt.legend()\n",
    "    plt.axhline(min(normal), linestyle = 'dashed', color = 'tab:blue', alpha = .5)\n",
    "    plt.axhline(max(normal), linestyle = 'dashed', color = 'tab:blue', alpha = .5)\n",
    "    plt.ylim(-0.15, 0.15)\n",
    "    plt.grid()\n",
    "    \n",
    "    plt.subplot(2,1,2)\n",
    "    plt.plot(rets[rets.columns[i]].values, label = label, color = 'skyblue')\n",
    "    plt.axhline(min(normal), linestyle = 'dashed', color = 'tab:blue', alpha = .5)\n",
    "    plt.axhline(max(normal), linestyle = 'dashed', color = 'tab:blue', alpha = .5)\n",
    "    plt.legend()\n",
    "    plt.ylim(-0.15, 0.15)\n",
    "    plt.grid()"
   ]
  },
  {
   "cell_type": "markdown",
   "metadata": {},
   "source": [
    "## Medidas de Riesgo"
   ]
  },
  {
   "cell_type": "markdown",
   "metadata": {},
   "source": [
    "### Varianza"
   ]
  },
  {
   "cell_type": "code",
   "execution_count": 17,
   "metadata": {
    "scrolled": true
   },
   "outputs": [
    {
     "ename": "NameError",
     "evalue": "name 'rets' is not defined",
     "output_type": "error",
     "traceback": [
      "\u001b[1;31m---------------------------------------------------------------------------\u001b[0m",
      "\u001b[1;31mNameError\u001b[0m                                 Traceback (most recent call last)",
      "\u001b[1;32m~\\AppData\\Local\\Temp/ipykernel_18324/1210361009.py\u001b[0m in \u001b[0;36m<module>\u001b[1;34m\u001b[0m\n\u001b[1;32m----> 1\u001b[1;33m \u001b[0mrets\u001b[0m\u001b[1;33m.\u001b[0m\u001b[0mvar\u001b[0m\u001b[1;33m(\u001b[0m\u001b[1;33m)\u001b[0m\u001b[1;33m*\u001b[0m\u001b[1;36m252\u001b[0m\u001b[1;33m\u001b[0m\u001b[1;33m\u001b[0m\u001b[0m\n\u001b[0m",
      "\u001b[1;31mNameError\u001b[0m: name 'rets' is not defined"
     ]
    }
   ],
   "source": [
    "rets.var()*252"
   ]
  },
  {
   "cell_type": "markdown",
   "metadata": {},
   "source": [
    "### Desvío Estándar"
   ]
  },
  {
   "cell_type": "code",
   "execution_count": null,
   "metadata": {},
   "outputs": [],
   "source": [
    "np.sqrt(rets.var()*252)"
   ]
  },
  {
   "cell_type": "code",
   "execution_count": null,
   "metadata": {},
   "outputs": [],
   "source": [
    "rets.std()*np.sqrt(252)"
   ]
  },
  {
   "cell_type": "markdown",
   "metadata": {},
   "source": [
    "## Medidas de Retorno y Riesgo\n",
    "\n",
    "### Sharpe Ratio\n",
    "\n",
    "<p style='text-align: justify;'> El Sharpe Ratio es una medida de exceso de rendimiento por unidad de riesgo de una inversión. El exceso de rendimiento es aquel que brinda una inversion riesgosa por sobre una tasa libre de riesgo.\n",
    "\n",
    "$$SR_i = \\frac{E(R_i) - R_f}{\\sigma_i}$$"
   ]
  },
  {
   "cell_type": "code",
   "execution_count": null,
   "metadata": {},
   "outputs": [],
   "source": [
    "risk_free_rate = 0.02\n",
    "er = rets.mean()*252\n",
    "risk = rets.std()*np.sqrt(252)\n",
    "sharpe_ratio = (er - risk_free_rate)/ risk\n",
    "sharpe_ratio"
   ]
  },
  {
   "cell_type": "code",
   "execution_count": null,
   "metadata": {},
   "outputs": [],
   "source": [
    "fig = px.histogram(x = sharpe_ratio.sort_values().index, y = (sharpe_ratio).sort_values())\n",
    "fig.update_layout(\n",
    "  title = 'Sharpe Ratio',\n",
    "   xaxis_title=\"Fecha\",\n",
    "       yaxis_title=\"Sharpe Ratio\", \n",
    "        font=dict(\n",
    "        color='black'\n",
    "    ))\n",
    "fig.update_traces(marker_color = 'rgb(55,126,184)')\n",
    "fig.update_layout(plot_bgcolor='rgba(0,0,0,0)')\n",
    "fig.update_xaxes(showline=True, linewidth=0.3, linecolor='black')\n",
    "fig.update_yaxes(showline=True, linewidth=0.3, linecolor='black', gridcolor='black')"
   ]
  },
  {
   "cell_type": "markdown",
   "metadata": {},
   "source": [
    "## Otras Medidas\n",
    "\n",
    "### Matriz de Covarianzas"
   ]
  },
  {
   "cell_type": "code",
   "execution_count": null,
   "metadata": {},
   "outputs": [],
   "source": [
    "rets.cov()*252"
   ]
  },
  {
   "cell_type": "markdown",
   "metadata": {},
   "source": [
    "### Matriz de Correlaciones"
   ]
  },
  {
   "cell_type": "code",
   "execution_count": 18,
   "metadata": {
    "scrolled": true
   },
   "outputs": [
    {
     "ename": "NameError",
     "evalue": "name 'rets' is not defined",
     "output_type": "error",
     "traceback": [
      "\u001b[1;31m---------------------------------------------------------------------------\u001b[0m",
      "\u001b[1;31mNameError\u001b[0m                                 Traceback (most recent call last)",
      "\u001b[1;32m~\\AppData\\Local\\Temp/ipykernel_18324/2256934998.py\u001b[0m in \u001b[0;36m<module>\u001b[1;34m\u001b[0m\n\u001b[1;32m----> 1\u001b[1;33m \u001b[0mrets\u001b[0m\u001b[1;33m.\u001b[0m\u001b[0mcorr\u001b[0m\u001b[1;33m(\u001b[0m\u001b[1;33m)\u001b[0m\u001b[1;33m\u001b[0m\u001b[1;33m\u001b[0m\u001b[0m\n\u001b[0m",
      "\u001b[1;31mNameError\u001b[0m: name 'rets' is not defined"
     ]
    }
   ],
   "source": [
    "rets.corr()"
   ]
  },
  {
   "cell_type": "code",
   "execution_count": null,
   "metadata": {},
   "outputs": [],
   "source": [
    "rets_corr = rets.corr()\n",
    "cmap = sns.diverging_palette(h_neg=20, h_pos=240, as_cmap=True)\n",
    "\n",
    "fig = plt.figure(figsize=(12,8))\n",
    "sns.heatmap(rets_corr, annot = True, fmt=\".2f\", linewidths=.5, cmap=cmap, center=0, annot_kws=dict(fontsize=15))\n",
    ";"
   ]
  },
  {
   "cell_type": "markdown",
   "metadata": {},
   "source": [
    "# 5. Inferencia Estadística\n",
    "\n",
    "***\n",
    "\n",
    "<p style='text-align: justify;'> La inferencia estadística abarca los métodos y procedimientos que permiten determinar las propiedades de una población a partir de una muestra, utilizando la inducción. Su objetivo es hacer deducciones sobre una totalidad, basándose en la información de la muestra.\n",
    "\n",
    "## Estimación Puntual \n",
    "\n",
    "<p style='text-align: justify;'> En general, queremos conocer los parámetros poblacionales, pero solo podemos calcular los muestrales. Los parámetros de la muestra y los de la población son diferentes. Siempre existirá un error de estimación, a no ser que se cuente con toda la población.\n",
    "\n",
    "<p style='text-align: justify;'> En el siguiente ejercicio vamos a simular una muestra de una distribución poblacional con unos parámetros definidos e intentaremos estimarlos a través de distintas muestras."
   ]
  },
  {
   "cell_type": "code",
   "execution_count": null,
   "metadata": {},
   "outputs": [],
   "source": [
    "from scipy import stats"
   ]
  },
  {
   "cell_type": "code",
   "execution_count": null,
   "metadata": {},
   "outputs": [],
   "source": [
    "# Utilizamos una semilla definida para hacer la simulación\n",
    "np.random.seed(10)\n",
    "\n",
    "# Definimos la media y desviación estandar poblacional\n",
    "mu = 170\n",
    "sigma = 5\n",
    "\n",
    "print('Media Poblacional', mu)\n",
    "print('Desviación Estandar Poblacional', sigma)\n",
    "print('--'*20)\n",
    "\n",
    "# Generamos la simulaciones de muestras con distinto tamaño\n",
    "\n",
    "sample_size = 10\n",
    "X = np.random.normal(mu, sigma, sample_size)\n",
    "mean_x = np.round(np.mean(X),2)\n",
    "std_x = np.round(np.std(X),2)\n",
    "\n",
    "print('Tamaño de la Muestra:', sample_size)\n",
    "print('Media Muestral: ', mean_x)\n",
    "print('Desviación Estandar Muestral: ', std_x)\n",
    "print('..'*20)\n",
    "\n",
    "sample_size = 100\n",
    "X = np.random.normal(mu, sigma, sample_size)\n",
    "mean_x = np.round(np.mean(X),2)\n",
    "std_x = np.round(np.std(X),2)\n",
    "\n",
    "print('Tamaño de la Muestra:', sample_size)\n",
    "print('Media Muestral: ', mean_x)\n",
    "print('Desviación Estandar Muestral: ', std_x)\n",
    "print('..'*20)\n",
    "\n",
    "sample_size = 10000\n",
    "X = np.random.normal(mu, sigma, sample_size)\n",
    "mean_x = np.round(np.mean(X),2)\n",
    "std_x = np.round(np.std(X),2)\n",
    "\n",
    "print('Tamaño de la Muestra:', sample_size)\n",
    "print('Media Muestral: ', mean_x)\n",
    "print('Desviación Estandar Muestral: ', std_x)"
   ]
  },
  {
   "cell_type": "markdown",
   "metadata": {},
   "source": [
    "<p style='text-align: justify;'> Un concepto muy importante a la hora de hacer estimaciones sobre los parámetros poblacionales es el concepto de Error Estandar (Standar Error, SE), que es la desviación estándar de la distribución muestral de un estadístico muestral.\n",
    "\n",
    "<p style='text-align: justify;'> El Error Estandar de la Media (SEM) cuantifica las oscilaciones de la media muestral (obtenida de los datos) alrededor de la media poblacional (verdadero valor del parámetro). El SEM se estima dividiendo la desviación estándar de la muestra entre la raíz cuadrada del tamaño de la muestra (suponiendo independencia estadística de los valores en la muestra):\n",
    "\n",
    "$$SE_{\\bar{x}} = \\frac{s}{\\sqrt{n}}$$\n",
    "\n",
    "<p style='text-align: justify;'> donde $s$ es la desviación estándar de la muestra y $n$ es el tamaño de la muestra."
   ]
  },
  {
   "cell_type": "code",
   "execution_count": null,
   "metadata": {},
   "outputs": [],
   "source": [
    "SEM = np.std(X) / np.sqrt(sample_size)\n",
    "print('Error Estandar:',  np.round(SEM,4))"
   ]
  },
  {
   "cell_type": "code",
   "execution_count": null,
   "metadata": {},
   "outputs": [],
   "source": [
    "stats.sem(X)"
   ]
  },
  {
   "cell_type": "markdown",
   "metadata": {},
   "source": [
    "## Intervalo de Confianza\n",
    "\n",
    "<p style='text-align: justify;'> Un intervalo de confianza del $(1-\\alpha)\\%$ para la estimación de un parámetro poblacional $\\theta$ que sigue una determinada distribución de probabilidad, es un intervalo $[\\theta_1, \\theta_2]$ tal que \n",
    "\n",
    "$$ P (\\theta _{1}\\leq \\theta \\leq \\theta _{2}) = 1-\\alpha.$$\n",
    "\n",
    "<p style='text-align: justify;'> Si la muestra aleatoria proviene de una población con media $\\mu$ y desviación estandar $\\sigma$, para muestras suficientemente grandes, la media muestral $\\bar{X} \\sim N (\\mu, \\frac{\\sigma}{\\sqrt{n}})$. Esto se conoce como Teorema Central del Límite. \n",
    "\n",
    "Conociendo esto, sabemos que $$\\frac{\\bar{X} - \\mu}{\\sigma/\\sqrt{n}} \\sim N(0,1).$$\n",
    "\n",
    "<p style='text-align: justify;'> En una distribución normal estadarizada el 95% de los datos se encuentra entre los valores -1.96 y 1.96. "
   ]
  },
  {
   "cell_type": "code",
   "execution_count": 19,
   "metadata": {},
   "outputs": [
    {
     "ename": "NameError",
     "evalue": "name 'stats' is not defined",
     "output_type": "error",
     "traceback": [
      "\u001b[1;31m---------------------------------------------------------------------------\u001b[0m",
      "\u001b[1;31mNameError\u001b[0m                                 Traceback (most recent call last)",
      "\u001b[1;32m~\\AppData\\Local\\Temp/ipykernel_18324/173094866.py\u001b[0m in \u001b[0;36m<module>\u001b[1;34m\u001b[0m\n\u001b[0;32m      1\u001b[0m \u001b[0mx\u001b[0m \u001b[1;33m=\u001b[0m \u001b[0mnp\u001b[0m\u001b[1;33m.\u001b[0m\u001b[0mlinspace\u001b[0m\u001b[1;33m(\u001b[0m\u001b[1;33m-\u001b[0m\u001b[1;36m5\u001b[0m\u001b[1;33m,\u001b[0m\u001b[1;36m5\u001b[0m\u001b[1;33m,\u001b[0m\u001b[1;36m100\u001b[0m\u001b[1;33m)\u001b[0m\u001b[1;33m\u001b[0m\u001b[1;33m\u001b[0m\u001b[0m\n\u001b[1;32m----> 2\u001b[1;33m \u001b[0my\u001b[0m \u001b[1;33m=\u001b[0m \u001b[0mstats\u001b[0m\u001b[1;33m.\u001b[0m\u001b[0mnorm\u001b[0m\u001b[1;33m.\u001b[0m\u001b[0mpdf\u001b[0m\u001b[1;33m(\u001b[0m\u001b[0mx\u001b[0m\u001b[1;33m,\u001b[0m\u001b[1;36m0\u001b[0m\u001b[1;33m,\u001b[0m\u001b[1;36m1\u001b[0m\u001b[1;33m)\u001b[0m\u001b[1;33m\u001b[0m\u001b[1;33m\u001b[0m\u001b[0m\n\u001b[0m\u001b[0;32m      3\u001b[0m \u001b[1;33m\u001b[0m\u001b[0m\n\u001b[0;32m      4\u001b[0m \u001b[0mplt\u001b[0m\u001b[1;33m.\u001b[0m\u001b[0mfigure\u001b[0m\u001b[1;33m(\u001b[0m\u001b[0mfigsize\u001b[0m \u001b[1;33m=\u001b[0m \u001b[1;33m(\u001b[0m\u001b[1;36m14\u001b[0m\u001b[1;33m,\u001b[0m\u001b[1;36m7\u001b[0m\u001b[1;33m)\u001b[0m\u001b[1;33m)\u001b[0m\u001b[1;33m\u001b[0m\u001b[1;33m\u001b[0m\u001b[0m\n\u001b[0;32m      5\u001b[0m \u001b[0mplt\u001b[0m\u001b[1;33m.\u001b[0m\u001b[0mplot\u001b[0m\u001b[1;33m(\u001b[0m\u001b[0mx\u001b[0m\u001b[1;33m,\u001b[0m\u001b[0my\u001b[0m\u001b[1;33m,\u001b[0m \u001b[0mcolor\u001b[0m \u001b[1;33m=\u001b[0m \u001b[1;34m'steelblue'\u001b[0m\u001b[1;33m)\u001b[0m\u001b[1;33m\u001b[0m\u001b[1;33m\u001b[0m\u001b[0m\n",
      "\u001b[1;31mNameError\u001b[0m: name 'stats' is not defined"
     ]
    }
   ],
   "source": [
    "x = np.linspace(-5,5,100)\n",
    "y = stats.norm.pdf(x,0,1)\n",
    "\n",
    "plt.figure(figsize = (14,7))\n",
    "plt.plot(x,y, color = 'steelblue')\n",
    "plt.axvline(-1.96, color='black', linestyle='dashed')\n",
    "plt.axvline(1.96, color='black', linestyle='dashed')\n",
    "\n",
    "fill_x = np.linspace(-1.96, 1.96, 500)\n",
    "fill_y = stats.norm.pdf(fill_x, 0, 1)\n",
    "plt.fill_between(fill_x, fill_y, color = 'tab:blue')\n",
    "plt.ylim(0)\n",
    "plt.annotate('95%', (-0.2, 0.20))\n",
    "plt.xlabel('Z')\n",
    "plt.ylabel('Normal Probability Density Function')\n",
    "plt.grid()"
   ]
  },
  {
   "cell_type": "markdown",
   "metadata": {},
   "source": [
    "A partir de allí, podemos trabajar  para encontrar el intervalo de confianza para $\\mu$.\n",
    "\n",
    "$$P\\left[-z_{\\alpha /2}<Z<z_{\\alpha /2}\\right] = 1 - \\alpha$$\n",
    "\n",
    "$$P\\left[-z_{\\alpha /2}<\\frac{\\bar{X}-\\mu}{\\sigma/\\sqrt{n}}<z_{\\alpha /2}\\right] = 1 - \\alpha$$\n",
    "\n",
    "$$P\\left[{\\bar {x}}-z_{\\alpha /2}{\\frac {\\sigma }{\\sqrt {n}}}\\leq \\mu \\leq {\\bar {x}}+z_{\\alpha /2}{\\frac {\\sigma }{\\sqrt {n}}}\\right]=1-\\alpha$$\n",
    "\n",
    "En el caso de $\\alpha = 0.05$, $z_{\\alpha/2} = 1.96.$"
   ]
  },
  {
   "cell_type": "markdown",
   "metadata": {},
   "source": [
    "<p style='text-align: justify;'> Los intervalos de confianza permiten establecer el nivel de confianza deseado sobre la estimación e informar el rango de valores que probablemente contendrá al parámetro poblacional. Cuanto mayor sea el nivel de confianza, mayor será el rango informado. \n",
    "\n",
    "<p style='text-align: justify;'> En general, uno nunca puede informar un valor de punto único, porque la probabilidad de que cualquier punto dado sea la media real de la población es muy pequeña. En el siguiente ejercicio, veremos cómo se ajustan los intervalos a medida que cambiamos el tamaño de la muestra."
   ]
  },
  {
   "cell_type": "code",
   "execution_count": null,
   "metadata": {},
   "outputs": [],
   "source": [
    "from numpy import random\n",
    "\n",
    "np.random.seed(8)\n",
    "n = 50  # Número de muestras\n",
    "s = 200 # Tamaño de las muestras\n",
    "alpha = 0.05\n",
    "samples = [random.standard_normal(size = s) for i in range(n)]\n",
    "\n",
    "np.shape(samples)"
   ]
  },
  {
   "cell_type": "code",
   "execution_count": null,
   "metadata": {},
   "outputs": [],
   "source": [
    "plt.figure(figsize=(14, 7))\n",
    "for i in range(n):\n",
    "    sample_mean = np.mean(samples[i])     # calcula la media de cada muestra\n",
    "    se = stats.sem(samples[i])            # calcula el SE de la media de cada muestra\n",
    "    h = se*stats.t.ppf((1-alpha/2), len(samples[i])-1) # ppf(q, df) calcula al valor de una t que acumula q probabilidades.\n",
    "\n",
    "    sample_ci = [sample_mean - h, sample_mean + h]\n",
    "    \n",
    "    if ((sample_ci[0] <= 0) and (0 <= sample_ci[1])):\n",
    "        plt.plot((sample_ci[0], sample_ci[1]), (i, i), color='tab:blue', linewidth=1)\n",
    "        plt.plot(np.mean(samples[i]), i, 'tab:blue')\n",
    "    else:\n",
    "        plt.plot((sample_ci[0], sample_ci[1]), (i, i), color='black', linewidth=1)\n",
    "        plt.plot(np.mean(samples[i]), i, 'black')\n",
    "        \n",
    "plt.axvline(0, color = 'black', linestyle='--', label = 'Population Mean')\n",
    "plt.legend(loc='best')\n",
    "plt.title('50 95% CI for $\\mu =0$ ')"
   ]
  },
  {
   "cell_type": "markdown",
   "metadata": {},
   "source": [
    "## Análisis de Regresión \n",
    "\n",
    "<p style='text-align: justify;'> El análisis de regresión se ocupa del estudio de la dependencia entre una o más variables. El principal objetivo es estimar o predecir el valor promedio de la variable dependiente en términos de los valores conocidos o fijos de las variables explicativas.</p> \n",
    "\n",
    "## Modelo de Regresión Lineal Simple\n",
    "\n",
    "<p style='text-align: justify;'> El modelo de regresión lineal simple es una aproximación lineal para modelar la relación entre una variable dependiente y una variable independiente. El modelo de regresión lineal asume, como su nombre indica, que la relación entre la variable dependiente, $Y$, y la regresora $X$ es lineal. El modelo, entonces, toma la siguiente forma\n",
    "\n",
    "$$ Y = \\alpha + \\beta X + \\varepsilon, $$\n",
    "\n",
    "<p style='text-align: justify;'> donde $\\varepsilon$ es un término de error que captura a todos aquellos factores que influyen sobre la variable dependiente $Y$, distintos de la variables regresora $X$, y $\\alpha$ y $\\beta$ son los coeficientes de la regresión. Más específicamente, podemos interpretar el coeficiente $\\beta$ como “el incremento en la variable dependiente frente a un cambio en una unidad de la regresora, manteniendo el resto de las variables independientes constantes.” La inferencia estadística en el modelo de regresión lineal se ocupa de estos coeficientes.  \n",
    "\n",
    "\n",
    "## Mínimos Cuadrados Ordinarios\n",
    "\n",
    "<p style='text-align: justify;'>La técnica que estudiaremos para estimar los coeficientes de la regresión se denomina mínimos cuadrados ordinarios. De acuerdo a este método, la precisión de cada predicción se mide por el cuadrado del error. El objetivo entonces es minimizar la suma del cuadrado del error de la siguiente forma\n",
    "\n",
    "$$ \\min_{\\alpha,\\beta} = \\sum_{i=1}^{n} [Y_i - (\\alpha + \\beta X_{i})]^2.$$\n",
    "\n",
    "<p style='text-align: justify;'> La solución del problema anterior resulta en los valores de la ordenada, $\\hat{\\alpha}$, y la pendiente, $\\hat{\\beta}$, de la recta de regresión. Escribimos $\\hat{\\alpha}$ y $\\hat{\\beta}$ para hacer referencia a las estimaciónes muestrales de los parámetros poblacionales ($\\alpha$ y $\\beta$).\n",
    "\n",
    "<p style='text-align: justify;'> La pendiente de la recta es igual a $ \\hat{\\beta} = \\frac{Cov(X,Y)}{Var(X)}$, mientras que la ordenada es $\\hat{\\alpha} = \\bar{Y}- \\hat{\\beta} \\bar{X}$.\n",
    "\n",
    "## Modelo de Regresión Lineal Ajustado\n",
    "\n",
    "<p style='text-align: justify;'> El modelo ajustado toma la siguiente forma\n",
    "\n",
    "$$ \\hat{Y} = \\hat{\\alpha} + \\hat{\\beta}X,$$\n",
    "\n",
    "<p style='text-align: justify;'> donde $\\hat{\\alpha}$ y $\\hat{\\beta}$ son los coeficientes estimados a partir de los datos, y $\\hat{Y}$ es el valor ajustado o predicho del modelo para la variable dependiente, dados los coeficientes estimados y los valores de las regresoras.\n",
    "\n",
    "<p style='text-align: justify;'> Las diferecias entre los valores predichos, $\\hat{Y}$,  y los valores observados, $Y$, se denominan *residuos*.\n",
    "\n",
    "$$ \\hat{\\varepsilon} = Y - \\hat{Y}$$\n",
    "\n",
    "## Modelo de Regresión Lineal Múltiple\n",
    "\n",
    "<p style='text-align: justify;'> Cuando hay una sóla variable explicativa el modelo se denomina regresión lineal simple. Sin embargo, cuando hay más de una variable explicativa, el modelo se denomina regresión lineal múltiple. El modelo de regresión lineal múltiple asume que la relación entre la variable dependiente, $Y$, y las variables independientes $X_1$, $X_2$, $\\dots, X_k$ es lineal. El modelo toma la siguiente forma\n",
    "\n",
    "$$ Y = \\beta_0 + \\beta_1 X_1 + \\beta_2 X_2 + \\dots + \\beta_k X_k + \\varepsilon. $$\n",
    "\n",
    "<p style='text-align: justify;'> El ajuste del modelo se realiza aplicando la misma metodología que la empleada para la regresión simple. Una vez que se obtienen los coeficientes estimados, el modelo ajustado presente la siguiente estructura\n",
    "\n",
    "$$ Y = \\hat{\\beta_0} + \\hat{\\beta_1} X_1 + \\hat{\\beta_2} X_2 + \\dots + \\hat{\\beta_k} X_k + \\varepsilon. $$\n",
    " \n",
    "## Supuestos del Modelo de Regresión Lineal \n",
    "\n",
    "<p style='text-align: justify;'> El modelo de regresión lineal asume una serie de supuestos que se presentan a continuación.  \n",
    "\n",
    "- <p style='text-align: justify;'> Linealidad. La media de la variable dependiente es una combinación lineal de los parámetros y de las variables regresoras.\n",
    "\n",
    "- <p style='text-align: justify;'> Media del error igual a cero. La media, o valor esperado de término de error $\\varepsilon$ es cero. Simbólicamente, $E(\\varepsilon) = 0$.\n",
    "\n",
    "- <p style='text-align: justify;'> Homoscedasticidad o varianza constante del error. La varianza del término de error es la misma independientemente del valor de X. Simbólicamente, $Var(\\varepsilon) = \\sigma^2.$\n",
    "\n",
    "- <p style='text-align: justify;'> Cero autocorrelación entre los errores. Los valores del término de error para distintos valores de la variable regresora no están correlacionados entre sí. Simbólicamente, $Cov(\\varepsilon_i, \\varepsilon_j) = 0$ para $i \\neq j$.\n",
    "\n",
    "- <p style='text-align: justify;'> Ausencia de multicolinealidad entre las variables explicativas. La multicolinearidad hace referencia a una situación donde existe una relación lineal extre las regresoras X.\n",
    "\n",
    "- <p style='text-align: justify;'> El número de observaciones n debe ser mayor al número de parámetros a estimar. En otras palabras, el número de observaciones debe ser mayor al número de variables explicativas.\n",
    "\n",
    "- <p style='text-align: justify;'> Naturaleza de las variables regresoras. Los valores de una regresora $X$ en una muestra no pueden ser iguales. Técnicamente, $Var(X)$ debe ser un número positivo. Además no puede haber outliers entre los valores que asume una regresora, es decir, no puede haber valores que difieran en forma considerable del resto de las observaciones.\n",
    "\n",
    "## Aplicación Modelo de Regresión Lineal\n",
    "\n",
    "<p style='text-align: justify;'> A continuación, se realizará una aplicación práctica para entender cómo se realiza el ajuste del modelo y cómo se puede comprobar el correcto cumplimiento de los supuestos.\n",
    "\n",
    "<p style='text-align: justify;'> En esta aplicación trabajaremos con una base de datos de la realidad y una base de datos generada. La base de datos del mundo real es una base de datos de precios de casas en Boston desde fines de la década de 1970. La otra base de datos será generada de forma tal que cumpla a la perfección todos los supuestos. Además, se supone en esta aplicación que los datos outliers han sido removidos. \n",
    "\n",
    "### Descripción de la Base de Datos\n",
    "\n",
    "<p style='text-align: justify;'> A continuación se presenta la descripción de las variables de la base de datos de precios de casas en Boston.\n",
    "\n",
    "- **CRIM**. Tasa de críminalidad per cápita por ciudad.\n",
    "\n",
    "- **ZN**. Proporción de áreas residenciales divididas en lotes mayores a 25000 pies cuadrados. \n",
    "\n",
    "- **INDUS**. Proporción de acres destinada a negocios no minoristas por ciudad. \n",
    "\n",
    "- **CHAS**. Variable dummy para el río Charles (1 si limita con el río, 0 en caso contrario).\n",
    "\n",
    "- **NOX**. Concentración de óxidos nítricos (partes por 10 milliones).\n",
    "\n",
    "- **RM**. Número promedio de habitaciones por vivienda. \n",
    "\n",
    "- **AGE**. Proporción de unidades ocupadas por sus dueños construidas antes de 1940. \n",
    "\n",
    "- **DIS**. Distancias ponderadas a cinco centros de empleo de Boston.\n",
    "\n",
    "- **RAD**. Índice de accessibilidad a carreteras centrales (radial highways).\n",
    "\n",
    "- **TAX**. Tasa de impuesto a la propiedad por un valor total de $10000. \n",
    "\n",
    "- **PTRATIO**. Proporción de alumnos por maestro por ciudad.\n",
    "\n",
    "- **B**. 1000(Bk - 0.63)^2 donde Bk es la proporción de personas de raza negra en la ciudad.\n",
    "\n",
    "- **LSTAT**. Porcentaje del menor status de la población.\n",
    "\n",
    "- **MEDV**. Valor medio de las viviendas ocupadas por sus propietarios en miles de dólares.\n",
    "\n",
    "### Importación de Bases de Datos"
   ]
  },
  {
   "cell_type": "code",
   "execution_count": null,
   "metadata": {},
   "outputs": [],
   "source": [
    "# Importamos la base de datos del mundo real \n",
    "\n",
    "from sklearn import datasets\n",
    "boston = datasets.load_boston()"
   ]
  },
  {
   "cell_type": "code",
   "execution_count": null,
   "metadata": {},
   "outputs": [],
   "source": [
    "house_data = pd.DataFrame(boston.data, columns=boston.feature_names)\n",
    "house_data['HousePrice'] = boston.target\n",
    "\n",
    "house_data.head()"
   ]
  },
  {
   "cell_type": "code",
   "execution_count": null,
   "metadata": {},
   "outputs": [],
   "source": [
    "# Creamos una base de datos artificial \n",
    "# Se utiliza el mismo número de regresoras y observaciones que la base de datos de los precios de casas en Boston\n",
    "\n",
    "linear_X, linear_Y = datasets.make_regression(n_samples=boston.data.shape[0],\n",
    "                                              n_features=boston.data.shape[1],\n",
    "                                              noise=75, random_state=46)\n"
   ]
  },
  {
   "cell_type": "code",
   "execution_count": 20,
   "metadata": {},
   "outputs": [
    {
     "ename": "NameError",
     "evalue": "name 'linear_X' is not defined",
     "output_type": "error",
     "traceback": [
      "\u001b[1;31m---------------------------------------------------------------------------\u001b[0m",
      "\u001b[1;31mNameError\u001b[0m                                 Traceback (most recent call last)",
      "\u001b[1;32m~\\AppData\\Local\\Temp/ipykernel_18324/2418873434.py\u001b[0m in \u001b[0;36m<module>\u001b[1;34m\u001b[0m\n\u001b[0;32m      1\u001b[0m \u001b[1;31m# Definimos los nombres de las regresoras x1, x2, x3, etc.\u001b[0m\u001b[1;33m\u001b[0m\u001b[1;33m\u001b[0m\u001b[1;33m\u001b[0m\u001b[0m\n\u001b[0;32m      2\u001b[0m \u001b[1;33m\u001b[0m\u001b[0m\n\u001b[1;32m----> 3\u001b[1;33m \u001b[0mlinear_feature_names\u001b[0m \u001b[1;33m=\u001b[0m \u001b[1;33m[\u001b[0m\u001b[1;34m'X'\u001b[0m\u001b[1;33m+\u001b[0m\u001b[0mstr\u001b[0m\u001b[1;33m(\u001b[0m\u001b[0mfeature\u001b[0m\u001b[1;33m+\u001b[0m\u001b[1;36m1\u001b[0m\u001b[1;33m)\u001b[0m \u001b[1;32mfor\u001b[0m \u001b[0mfeature\u001b[0m \u001b[1;32min\u001b[0m \u001b[0mrange\u001b[0m\u001b[1;33m(\u001b[0m\u001b[0mlinear_X\u001b[0m\u001b[1;33m.\u001b[0m\u001b[0mshape\u001b[0m\u001b[1;33m[\u001b[0m\u001b[1;36m1\u001b[0m\u001b[1;33m]\u001b[0m\u001b[1;33m)\u001b[0m\u001b[1;33m]\u001b[0m\u001b[1;33m\u001b[0m\u001b[1;33m\u001b[0m\u001b[0m\n\u001b[0m",
      "\u001b[1;31mNameError\u001b[0m: name 'linear_X' is not defined"
     ]
    }
   ],
   "source": [
    "# Definimos los nombres de las regresoras x1, x2, x3, etc.\n",
    "\n",
    "linear_feature_names = ['X'+str(feature+1) for feature in range(linear_X.shape[1])]"
   ]
  },
  {
   "cell_type": "markdown",
   "metadata": {},
   "source": [
    "### Ajuste del Modelo de Regresión\n",
    "\n",
    "<p style='text-align: justify;'> En este paso ajustaremos el modelo de regresión para los dos ejemplos, utilizando la función LinearRegression() de sklearn.linear_model. Luego, obtendremos los valores de los coeficientes estimados y el $R^2$."
   ]
  },
  {
   "cell_type": "code",
   "execution_count": null,
   "metadata": {},
   "outputs": [],
   "source": [
    "from sklearn.linear_model import LinearRegression\n",
    "\n",
    "boston_model = LinearRegression()\n",
    "boston_model.fit(boston.data, boston.target)\n",
    "\n",
    "print('Intercept Value: {0}'.format(boston_model.intercept_))\n",
    "\n",
    "print('------------------------')\n",
    "\n",
    "print('Coefficients Values: {0}'.format(boston_model.coef_))\n",
    "\n",
    "print('------------------------')\n",
    "\n",
    "print('R^2: {0}'.format(boston_model.score(boston.data, boston.target)))"
   ]
  },
  {
   "cell_type": "code",
   "execution_count": null,
   "metadata": {},
   "outputs": [],
   "source": [
    "linear_model = LinearRegression()\n",
    "linear_model.fit(linear_X, linear_Y)\n",
    "\n",
    "print('Intercept Value: {0}'.format(linear_model.intercept_))\n",
    "\n",
    "print('------------------------')\n",
    "\n",
    "print('Coefficients Values: {0}'.format(linear_model.coef_))\n",
    "\n",
    "print('------------------------')\n",
    "\n",
    "print('R^2: {0}'.format(linear_model.score(linear_X, linear_Y)))"
   ]
  },
  {
   "cell_type": "code",
   "execution_count": null,
   "metadata": {},
   "outputs": [],
   "source": [
    "# Creamos una función para calcular los residuos \n",
    "\n",
    "def calculate_residuals(model, features, label):\n",
    "    predictions = model.predict(features)\n",
    "    df_results = pd.DataFrame({'Observados': label, 'Predichos': predictions})\n",
    "    df_results['Residuals'] = abs(df_results['Observados']) - abs(df_results['Predichos'])\n",
    "    \n",
    "    return df_results"
   ]
  },
  {
   "cell_type": "markdown",
   "metadata": {},
   "source": [
    "### Relación Lineal\n",
    "\n",
    "<p style=\"text-align: justify;\">Este supuesto asume que existe una relación lineal entre las variables independientes o regresoras y la variable de respuesta o variable dependiente. También asume que las regresoras son aditivas. </p>\n",
    "\n",
    "<p style=\"text-align: justify;\">Al analizar los datos puede que ocurra que no haya una relación lineal entre las variables. En ese caso, el modelo de regresión lineal no permitirá estimar una función que explique la relación entre las variables en forma adecuada, ya que los coeficientes estimados serán altamente imprecisos. Por esta razón, es muy importante comprobar que este supuesto se cumpla. </p>\n",
    "\n",
    "<p style=\"text-align: justify;\">En caso de haber una sola variable regresora, la relación entre esta y la variable $Y$ puede ser fácilmente comprobada con un scatter plot. En caso de haber más de una variable regresora, se emplea un scatter plot para observar los valores predichos y observados de la variable dependiente. Idealmente, los puntos deberían distribuirse alrededor de una línea diagonal en el gráfico. </p>\n",
    "\n",
    "<p style=\"text-align: justify;\">Frente a la violación de este supuesto, se pueden agregar terminos polinómicos para algunas de las variables regresoras o aplicar transformaciones no lineales. En caso de que esto no funcione, se pueden agregar variables adicionales para explicar la variable $Y$. </p>"
   ]
  },
  {
   "cell_type": "code",
   "execution_count": null,
   "metadata": {},
   "outputs": [],
   "source": [
    "def linear_assumption(model, features, label):\n",
    "\n",
    "    print('Supuesto: Existe una relación lineal entre la variable dependiente y las regresoras.', '\\n')\n",
    "    print('Se puede comprobar con un scatter plor de valores predichos y observados. Los valores deberían seguir la línea recta.')\n",
    "    \n",
    "    # Cálculo de residuos\n",
    "    df_results = calculate_residuals(model, features, label)\n",
    "    \n",
    "    # Gráficar los valores observados y los predichos\n",
    "    sns.lmplot(x='Observados', y='Predichos', data=df_results, fit_reg=False, height=7)\n",
    "    \n",
    "    line_coords = np.arange(df_results.min().min(), df_results.max().max())\n",
    "    plt.plot(line_coords, line_coords, \n",
    "             color='black', linestyle='--')\n",
    "    plt.title('Observados vs. Predichos')\n",
    "    plt.show()"
   ]
  },
  {
   "cell_type": "code",
   "execution_count": null,
   "metadata": {},
   "outputs": [],
   "source": [
    "linear_assumption(linear_model, linear_X, linear_Y)"
   ]
  },
  {
   "cell_type": "code",
   "execution_count": 21,
   "metadata": {},
   "outputs": [
    {
     "ename": "NameError",
     "evalue": "name 'linear_assumption' is not defined",
     "output_type": "error",
     "traceback": [
      "\u001b[1;31m---------------------------------------------------------------------------\u001b[0m",
      "\u001b[1;31mNameError\u001b[0m                                 Traceback (most recent call last)",
      "\u001b[1;32m~\\AppData\\Local\\Temp/ipykernel_18324/3189472728.py\u001b[0m in \u001b[0;36m<module>\u001b[1;34m\u001b[0m\n\u001b[1;32m----> 1\u001b[1;33m \u001b[0mlinear_assumption\u001b[0m\u001b[1;33m(\u001b[0m\u001b[0mboston_model\u001b[0m\u001b[1;33m,\u001b[0m \u001b[0mboston\u001b[0m\u001b[1;33m.\u001b[0m\u001b[0mdata\u001b[0m\u001b[1;33m,\u001b[0m \u001b[0mboston\u001b[0m\u001b[1;33m.\u001b[0m\u001b[0mtarget\u001b[0m\u001b[1;33m)\u001b[0m\u001b[1;33m\u001b[0m\u001b[1;33m\u001b[0m\u001b[0m\n\u001b[0m",
      "\u001b[1;31mNameError\u001b[0m: name 'linear_assumption' is not defined"
     ]
    }
   ],
   "source": [
    "linear_assumption(boston_model, boston.data, boston.target)"
   ]
  },
  {
   "cell_type": "markdown",
   "metadata": {},
   "source": [
    "<p style=\"text-align: justify;\">En el primer caso, podemos ver que los puntos se encuentran distribuidos de manera uniforme alrededor de la línea diagonal. Sin embargo, en el segundo caso, donde se aplica el análisis para los datos del mundo real,  podemos observar que no hay una relación perfectamente lineal.</p>"
   ]
  },
  {
   "cell_type": "markdown",
   "metadata": {},
   "source": [
    "### Normalidad del Término de Error\n",
    " \n",
    "<p style=\"text-align: justify;\">El segundo supuesto a comprobar sostiene que el término de error del modelo se distribuye normal. El no cumplimiento de este supuesto en general ocurre cuando las variables regresoras o la variable dependiente son significativamente no normales. También, puede ser una consecuencia de la violación del supuesto de existencia de una relación lineal o de la presencia de valores extremos. El no cumplimiento del supuesto de normalidad del término de error generaría problemas en los intervalos de confianza. </p>\n",
    "\n",
    "<p style=\"text-align: justify;\">Para analizar el cumplimiento del supuesto utilizaremos un histograma y el test de normalidad de Anderson-Darling. En caso de no cumplirse el supuesto, existen diversos caminos de acción: aplicar una transformación no lineal de las variables, excluir variables específicas o remover de valores extremos."
   ]
  },
  {
   "cell_type": "code",
   "execution_count": null,
   "metadata": {},
   "outputs": [],
   "source": [
    "import statsmodels.api as smi\n",
    "import pylab"
   ]
  },
  {
   "cell_type": "code",
   "execution_count": null,
   "metadata": {},
   "outputs": [],
   "source": [
    "def normal_errors_assumption(model, features, label, p_value_thresh=0.05):\n",
    "    \n",
    "    from statsmodels.stats.diagnostic import normal_ad\n",
    "    print('Supuesto: El término de error se ditribuye normal.', '\\n')\n",
    "    \n",
    "    # Calculamos los residuos \n",
    "    df_results = calculate_residuals(model, features, label)\n",
    "\n",
    "    # Aplicamos el test de normalidad\n",
    "    p_value = normal_ad(df_results['Residuals'])[1]\n",
    "    print('El p-valor del test de Anderson-Darling es de', p_value, '.\\n')\n",
    "    \n",
    "    if p_value < p_value_thresh:\n",
    "        print('Los residuos no se distribuyen normal de acuerdo al test.')\n",
    "    else:\n",
    "        print('Los residuos se distribuyen normal de acuerdo al test.')\n",
    "    \n",
    "    # Graficamos la función de distribución de los residuos\n",
    "    plt.subplots(figsize=(12, 6))\n",
    "    plt.title('Distribución de los Residuos')\n",
    "    sns.distplot(df_results['Residuals'])\n",
    "    plt.show()\n",
    "    \n",
    "    # Comprobamos la normalidad a partir de un QQ-plot \n",
    "    smi.qqplot(df_results['Residuals'],line='r')\n",
    "    pylab.show()"
   ]
  },
  {
   "cell_type": "code",
   "execution_count": null,
   "metadata": {},
   "outputs": [],
   "source": [
    "normal_errors_assumption(linear_model, linear_X, linear_Y)"
   ]
  },
  {
   "cell_type": "code",
   "execution_count": null,
   "metadata": {},
   "outputs": [],
   "source": [
    "normal_errors_assumption(boston_model, boston.data, boston.target)"
   ]
  },
  {
   "cell_type": "markdown",
   "metadata": {},
   "source": [
    "Esta situación no es ideal, ya que nuestro modelo probablemente presentará un sesgo en la estimación."
   ]
  },
  {
   "cell_type": "markdown",
   "metadata": {},
   "source": [
    "### Ausencia de Multicolinearidad\n",
    "\n",
    "<p style=\"text-align: justify;\">El supuesto de ausencia de multicolinearidad asume que las regresoras no están correlacionadas entre sí. La multicolinearidad genera problemas con la interpretación de los coeficientes, ya que, cuando varía una regresora, no podemos mantener constantes a las variables explicativas que esta correlacionadas con está última. Además, la multicolinealidad incrementa el error estándar de los coeficientes, lo que puede llevar a que los test indiquen que las regresoras no son estadísticamente significativas, cuando en realidad sí lo son. </p>\n",
    "\n",
    "<p style=\"text-align: justify;\">Para comprobar este supuesto, examinaremos las correlaciones entre las variables regresoras y el factor de inflación de la varianza. En caso de no cumplirse el supuesto, la multicolinealidad puede ser resuelta removiendo regresoras que presenten un alto nivel de factor e inflación de la varianza o reduciendo la dimensionalidad de los datos.</p>"
   ]
  },
  {
   "cell_type": "code",
   "execution_count": null,
   "metadata": {},
   "outputs": [],
   "source": [
    "def multicollinearity_assumption(model, features, label, feature_names=None):\n",
    "\n",
    "    from statsmodels.stats.outliers_influence import variance_inflation_factor\n",
    "    print('Supuesto: Ausencia de multicolinealidad entre regresoras.')\n",
    "    \n",
    "    plt.figure(figsize = (22,9))\n",
    "    sns.heatmap(pd.DataFrame(features, columns=feature_names).corr(), annot = True, fmt=\".2f\", linewidths=.5, cmap=cmap, center=0, annot_kws=dict(fontsize=15))\n",
    "    plt.title('Matriz de Correlación entre Variables')\n",
    "    plt.show()\n",
    "        \n",
    "    print('Factores de Inflación de la Varianza')\n",
    "    print('> 10: Indicador de que puede haber multicolinearidad.')\n",
    "    print('> 100: Existe multicolinearidad entre las variables.')\n",
    "    print('-------------------------------------')\n",
    " \n",
    "    VIF = [variance_inflation_factor(features, i) for i in range(features.shape[1])]\n",
    "    for idx, vif in enumerate(VIF):\n",
    "        print('{0}: {1}'.format(feature_names[idx], vif))\n",
    "        \n",
    "    possible_multicollinearity = sum([1 for vif in VIF if vif > 10])\n",
    "    definite_multicollinearity = sum([1 for vif in VIF if vif > 100])\n",
    "    print()\n",
    "    print('{0} casos de posible multicolinearidad.'.format(possible_multicollinearity))\n",
    "    print('{0} casos de multicolinearidad definitiva.'.format(definite_multicollinearity))\n",
    "    print()\n",
    "\n",
    "    if definite_multicollinearity == 0:\n",
    "        if possible_multicollinearity == 0:\n",
    "            print('El supuesto de ausencia de multicolinearidad se satisface.')\n",
    "        else:\n",
    "            print('El supuesto de ausencia de multicolinearidad posiblemente se satisface.')\n",
    "    \n",
    "    else:\n",
    "        print('El supuesto de ausencia de multicolinearidad no se satisface.')"
   ]
  },
  {
   "cell_type": "code",
   "execution_count": 22,
   "metadata": {},
   "outputs": [
    {
     "ename": "NameError",
     "evalue": "name 'multicollinearity_assumption' is not defined",
     "output_type": "error",
     "traceback": [
      "\u001b[1;31m---------------------------------------------------------------------------\u001b[0m",
      "\u001b[1;31mNameError\u001b[0m                                 Traceback (most recent call last)",
      "\u001b[1;32m~\\AppData\\Local\\Temp/ipykernel_18324/1727907657.py\u001b[0m in \u001b[0;36m<module>\u001b[1;34m\u001b[0m\n\u001b[1;32m----> 1\u001b[1;33m \u001b[0mmulticollinearity_assumption\u001b[0m\u001b[1;33m(\u001b[0m\u001b[0mlinear_model\u001b[0m\u001b[1;33m,\u001b[0m \u001b[0mlinear_X\u001b[0m\u001b[1;33m,\u001b[0m \u001b[0mlinear_Y\u001b[0m\u001b[1;33m,\u001b[0m \u001b[0mlinear_feature_names\u001b[0m\u001b[1;33m)\u001b[0m\u001b[1;33m\u001b[0m\u001b[1;33m\u001b[0m\u001b[0m\n\u001b[0m",
      "\u001b[1;31mNameError\u001b[0m: name 'multicollinearity_assumption' is not defined"
     ]
    }
   ],
   "source": [
    "multicollinearity_assumption(linear_model, linear_X, linear_Y, linear_feature_names)"
   ]
  },
  {
   "cell_type": "code",
   "execution_count": null,
   "metadata": {},
   "outputs": [],
   "source": [
    "multicollinearity_assumption(boston_model, boston.data, boston.target, boston.feature_names)"
   ]
  },
  {
   "cell_type": "markdown",
   "metadata": {},
   "source": [
    "### Ausencia de Autocorrelación \n",
    "\n",
    "<p style=\"text-align: justify;\">El supuesto de ausencia de autocorrelación sostiene que no existe autocorrelación en el término de error. La autocorrelación puede surgir porque no estamos contemplando cierta información que debería ser captada por el modelo. En el caso de series de tiempo, puede haber información del pasado que no estamos teniendo en cuenta en el análisis, mientras que, en el caso de otro tipo de series de datos, el modelo podría estar sesgado de forma sistemátima para predecir los valores por encima o por debajo. También, la autocorrelación puede ser una consecuencia de la violación del supuesto de linealidad.\n",
    "\n",
    "<p style=\"text-align: justify;\">El autocorrelación impacta en las estimaciones del modelo, por lo cual, es de suma importancia detectarla. Para ello, aplicaremos el test de Durbin Watson, que se emplea para determinar si existe correlación negativa o positiva. En caso de que no se verifique el supuesto, una forma de solucionarlo es incorporar la misma variable pero valuada en períodos anteriores. De forma alternativa, se puede sumar términos donde las variables estén interactuando, variables adicionles u otro tipo de transformaciones. </p>"
   ]
  },
  {
   "cell_type": "code",
   "execution_count": null,
   "metadata": {},
   "outputs": [],
   "source": [
    "def autocorrelation_assumption(model, features, label):\n",
    "\n",
    "    from statsmodels.stats.stattools import durbin_watson\n",
    "    print('Supuesto 4: Ausencia de autocorrelation.', '\\n')\n",
    "    \n",
    "    # Calculamos los residuos \n",
    "    df_results = calculate_residuals(model, features, label)\n",
    "\n",
    "    print('\\nTest de Durbin-Watson')\n",
    "    print('El valor entre 1.5 y 2.5 en general muestran que no hay autocorrelación en los datos.')\n",
    "    print('Los valores entre 0 y 1.5 muestran la existencia de autocorrelation positiva.')\n",
    "    print('Los valores entre 2.5 y 4 muestran la existencia de autocorrelation negativa.')\n",
    "    print('-------------------------------------')\n",
    "    durbinWatson = durbin_watson(df_results['Residuals'])\n",
    "    print('Durbin-Watson:', durbinWatson,'\\n')\n",
    "    if durbinWatson < 1.5:\n",
    "        print('Evidencia de que existe autocorrelación positiva.', '\\n')\n",
    "        print('No se verifica el supuesto.')\n",
    "    elif durbinWatson > 2.5:\n",
    "        print('Evidencia de que existe autocorrelación negativa', '\\n')\n",
    "        print('No se verifica el supuesto')\n",
    "    else:\n",
    "        print('Poca o nula autocorrelación.', '\\n')\n",
    "        print('Se verifica el supuesto.')"
   ]
  },
  {
   "cell_type": "code",
   "execution_count": null,
   "metadata": {
    "scrolled": true
   },
   "outputs": [],
   "source": [
    "autocorrelation_assumption(linear_model, linear_X, linear_Y)"
   ]
  },
  {
   "cell_type": "code",
   "execution_count": null,
   "metadata": {
    "scrolled": true
   },
   "outputs": [],
   "source": [
    "autocorrelation_assumption(boston_model, boston.data, boston.target)"
   ]
  },
  {
   "cell_type": "markdown",
   "metadata": {},
   "source": [
    "### Homoscedasticidad\n",
    "\n",
    "<p style=\"text-align: justify;\">La homoscedasticidad asume que la varianza del término de error es constante. De modo contrario, existe heteroscedasticidad cuando la varianza del término de error no es constante. La hetoroscedasticidad impacta en los test de significancia de los coeficientes estimados, debido al sesgo que provoca en la medición del error estándar. Adicionalmente, los intervalos de confianza serán demasiado amplios o pequeños.</p> \n",
    "\n",
    "<p style=\"text-align: justify;\">La heterocedasticidad puede detectarse a partir del gráfico de residuos, observando si la varianza permanece uniforme. Es posible corregir la heteroscedasticidad utilizando otra técnica de regresión conocida como mínimos cuadrados generalizados, en vez de mínicos cuadrados ordinarios. También, se puede transformar las variables poco simétricas.</p>"
   ]
  },
  {
   "cell_type": "code",
   "execution_count": null,
   "metadata": {},
   "outputs": [],
   "source": [
    "def homoscedasticity_assumption(model, features, label):\n",
    "    \n",
    "    print('Supuesto: Homoscedasticidad del término de error.', '\\n')\n",
    "        \n",
    "    # Calculamos los residuos\n",
    "    df_results = calculate_residuals(model, features, label)\n",
    "\n",
    "    # Graficamos los residus\n",
    "    plt.subplots(figsize=(12, 6))\n",
    "    ax = plt.subplot(111) \n",
    "    plt.scatter(x=df_results.index, y=df_results.Residuals, alpha=0.5)\n",
    "    plt.plot(np.repeat(0, df_results.index.max()), color='black', linestyle='--')\n",
    "    ax.spines['right'].set_visible(False) \n",
    "    ax.spines['top'].set_visible(False)  \n",
    "    plt.title('Residuals')\n",
    "    plt.show()  "
   ]
  },
  {
   "cell_type": "code",
   "execution_count": 23,
   "metadata": {},
   "outputs": [
    {
     "ename": "NameError",
     "evalue": "name 'homoscedasticity_assumption' is not defined",
     "output_type": "error",
     "traceback": [
      "\u001b[1;31m---------------------------------------------------------------------------\u001b[0m",
      "\u001b[1;31mNameError\u001b[0m                                 Traceback (most recent call last)",
      "\u001b[1;32m~\\AppData\\Local\\Temp/ipykernel_18324/1321692240.py\u001b[0m in \u001b[0;36m<module>\u001b[1;34m\u001b[0m\n\u001b[1;32m----> 1\u001b[1;33m \u001b[0mhomoscedasticity_assumption\u001b[0m\u001b[1;33m(\u001b[0m\u001b[0mlinear_model\u001b[0m\u001b[1;33m,\u001b[0m \u001b[0mlinear_X\u001b[0m\u001b[1;33m,\u001b[0m \u001b[0mlinear_Y\u001b[0m\u001b[1;33m)\u001b[0m\u001b[1;33m\u001b[0m\u001b[1;33m\u001b[0m\u001b[0m\n\u001b[0m",
      "\u001b[1;31mNameError\u001b[0m: name 'homoscedasticity_assumption' is not defined"
     ]
    }
   ],
   "source": [
    "homoscedasticity_assumption(linear_model, linear_X, linear_Y)"
   ]
  },
  {
   "cell_type": "code",
   "execution_count": null,
   "metadata": {},
   "outputs": [],
   "source": [
    "homoscedasticity_assumption(boston_model, boston.data, boston.target)"
   ]
  },
  {
   "cell_type": "markdown",
   "metadata": {},
   "source": [
    "<p style=\"text-align: justify;\">En el ultimo caso, efectivamente no observamos una varianza completamente uniforme a lo largo de los residuos.</p>\n",
    "\n",
    "### Conclusión \n",
    "\n",
    "<p style=\"text-align: justify;\">El modelo de regresión lineal que emplea la base de datos del mundo real no cumple con varios de los supuestos mencionados, lo cual puede generar una serie de problemas en la interpretación del mismo. Al utilizar datos reales, en general, es común que no se verifiquen algunos supuestos del modelo de regresión lineal. Sin embargo, es importante chequear estos supuestos para poder solucionarnos o estar al tanto de las posibles fallas del modelo a la hora de presentar los resultados o tomar decisiones.</p>"
   ]
  },
  {
   "cell_type": "markdown",
   "metadata": {},
   "source": [
    "## Regresión Espúria\n",
    "\n",
    "<p style=\"text-align: justify;\">Una regresión espuria es una regresión que proporciona pruebas estadísticas engañosas de la existencia de una relación lineal entre variables independientes no estacionarias. En otras palabras, una regresión espúria da la impresión que existe un vínculo entre dos variables que es inválido cuando se examina objetivamente.</p>\n",
    "    \n",
    "<p style=\"text-align: justify;\">Cuando trabajamos con series de tiempo es muy facil encontrarnos con en este problema. Anteriormente mencionamos que, al trabajar con datos financieros, siempre se deben analizar los retornos y no los precios. Una de las razones que justifica esta decisión es que evita las regresiones espurias.</p>\n",
    "\n",
    "## Aplicación de Regresión Espúria\n",
    "\n",
    "<p style=\"text-align: justify;\">A continuación estudiaremos dos ejemplos: en el primero, analizaremos la relación entre los precios de las acciones de Amazon y Google; y, en el segundo, analizaremos la relación entre los retornos de las acciones de las mismas empresas.</p>"
   ]
  },
  {
   "cell_type": "code",
   "execution_count": null,
   "metadata": {},
   "outputs": [],
   "source": [
    "from statsmodels import regression"
   ]
  },
  {
   "cell_type": "code",
   "execution_count": null,
   "metadata": {},
   "outputs": [],
   "source": [
    "# Definimos una función que permite correr una regresión lineal simple y devuelve un resumen\n",
    "\n",
    "def linreg(X,Y):\n",
    "    \n",
    "    X = sm.add_constant(X)\n",
    "    model = regression.linear_model.OLS(Y, X).fit()\n",
    "    a = model.params[0]\n",
    "    b = model.params[1]\n",
    "    X = X[:, 1]\n",
    "    \n",
    "    X2 = np.linspace(X.min(), X.max(), 100)\n",
    "    Y_hat =  a+ X2 * b\n",
    "    plt.figure(figsize = (22,9))\n",
    "    plt.scatter(X, Y, alpha=0.3) \n",
    "    plt.plot(X2, Y_hat, color = 'black', alpha=0.9); \n",
    "    plt.xlabel('X')\n",
    "    plt.ylabel('Y')\n",
    "    plt.grid()\n",
    "    plt.legend(['Y = '+str(round(a,2))+' + '+str(round(b,2))+'X'], loc = 'lower right')\n",
    "    return model.summary()"
   ]
  },
  {
   "cell_type": "code",
   "execution_count": null,
   "metadata": {},
   "outputs": [],
   "source": [
    "X = rets['Google'].values*252\n",
    "Y = rets['Amazon'].values*252"
   ]
  },
  {
   "cell_type": "code",
   "execution_count": 24,
   "metadata": {},
   "outputs": [
    {
     "ename": "NameError",
     "evalue": "name 'X' is not defined",
     "output_type": "error",
     "traceback": [
      "\u001b[1;31m---------------------------------------------------------------------------\u001b[0m",
      "\u001b[1;31mNameError\u001b[0m                                 Traceback (most recent call last)",
      "\u001b[1;32m~\\AppData\\Local\\Temp/ipykernel_18324/2004641176.py\u001b[0m in \u001b[0;36m<module>\u001b[1;34m\u001b[0m\n\u001b[0;32m      1\u001b[0m \u001b[0mplt\u001b[0m\u001b[1;33m.\u001b[0m\u001b[0mfigure\u001b[0m\u001b[1;33m(\u001b[0m\u001b[0mfigsize\u001b[0m \u001b[1;33m=\u001b[0m \u001b[1;33m(\u001b[0m\u001b[1;36m22\u001b[0m\u001b[1;33m,\u001b[0m\u001b[1;36m9\u001b[0m\u001b[1;33m)\u001b[0m\u001b[1;33m)\u001b[0m\u001b[1;33m\u001b[0m\u001b[1;33m\u001b[0m\u001b[0m\n\u001b[1;32m----> 2\u001b[1;33m \u001b[0mplt\u001b[0m\u001b[1;33m.\u001b[0m\u001b[0mscatter\u001b[0m\u001b[1;33m(\u001b[0m\u001b[0mX\u001b[0m\u001b[1;33m,\u001b[0m\u001b[0mY\u001b[0m\u001b[1;33m)\u001b[0m\u001b[1;33m\u001b[0m\u001b[1;33m\u001b[0m\u001b[0m\n\u001b[0m\u001b[0;32m      3\u001b[0m \u001b[0mplt\u001b[0m\u001b[1;33m.\u001b[0m\u001b[0mgrid\u001b[0m\u001b[1;33m(\u001b[0m\u001b[1;33m)\u001b[0m\u001b[1;33m\u001b[0m\u001b[1;33m\u001b[0m\u001b[0m\n",
      "\u001b[1;31mNameError\u001b[0m: name 'X' is not defined"
     ]
    },
    {
     "data": {
      "text/plain": [
       "<Figure size 1584x648 with 0 Axes>"
      ]
     },
     "metadata": {},
     "output_type": "display_data"
    }
   ],
   "source": [
    "plt.figure(figsize = (22,9))\n",
    "plt.scatter(X,Y)\n",
    "plt.grid()"
   ]
  },
  {
   "cell_type": "code",
   "execution_count": null,
   "metadata": {},
   "outputs": [],
   "source": [
    "linreg(X,Y)"
   ]
  },
  {
   "cell_type": "code",
   "execution_count": null,
   "metadata": {},
   "outputs": [],
   "source": [
    "X = prices['Google'].values\n",
    "Y = prices['Amazon'].values\n",
    "linreg(X,Y)"
   ]
  },
  {
   "cell_type": "markdown",
   "metadata": {},
   "source": []
  },
  {
   "cell_type": "markdown",
   "metadata": {},
   "source": [
    "# Enlaces \n",
    "\n",
    "- Introducción a Jupyter Notebook: \n",
    "https://jupyter-notebook-beginner-guide.readthedocs.io/en/latest/what_is_jupyter.html\n",
    "\n",
    "- Introducción a Plotly Express en Python:\n",
    "https://plotly.com/python/plotly-express/#a-single-import-with-builtin-datasets   \n",
    "\n",
    "- Guía de Usuario de Pandas: https://pandas.pydata.org/pandas-docs/stable/user_guide/index.html\n",
    "\n",
    "- Introducción a Statsmodels: https://www.statsmodels.org/stable/index.html\n",
    "\n",
    "- Introducción a Números Aleatorios con NumPy: https://www.w3schools.com/python/numpy_random.asp\n",
    "\n",
    "- Documentación sobre la función linspace de la librería Numpy: \n",
    "https://numpy.org/doc/stable/reference/generated/numpy.linspace.html\n",
    "\n",
    "- Documentación sobre la función normaltest de la librería SciPy: https://docs.scipy.org/doc/scipy/reference/generated/scipy.stats.normaltest.html\n",
    "\n",
    "- Documentación sobre la función gaussian_kde de la librería SciPy: https://docs.scipy.org/doc/scipy/reference/generated/scipy.stats.gaussian_kde.html"
   ]
  },
  {
   "cell_type": "markdown",
   "metadata": {},
   "source": [
    "# Referencias \n",
    "\n",
    "- Gujarati, D.N. and Porter, D.C. (2009). *Basic Econometrics*. 5th Edition, McGraw Hill Inc., New York.\n",
    "- Tsay, Ruey S. (2010). *Analysis of Financial Time Series*. 3th Edition, John wiley & Sons Inc., New Jersey. \n"
   ]
  }
 ],
 "metadata": {
  "celltoolbar": "Raw Cell Format",
  "kernelspec": {
   "display_name": "Python 3 (ipykernel)",
   "language": "python",
   "name": "python3"
  },
  "language_info": {
   "codemirror_mode": {
    "name": "ipython",
    "version": 3
   },
   "file_extension": ".py",
   "mimetype": "text/x-python",
   "name": "python",
   "nbconvert_exporter": "python",
   "pygments_lexer": "ipython3",
   "version": "3.9.5"
  }
 },
 "nbformat": 4,
 "nbformat_minor": 4
}
