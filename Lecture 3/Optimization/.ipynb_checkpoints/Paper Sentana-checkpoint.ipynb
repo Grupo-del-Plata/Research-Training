{
 "cells": [
  {
   "cell_type": "markdown",
   "metadata": {},
   "source": [
    "# The econometrics of mean-variance efficiency tests: a survey - Enrique Sentana (2009)\n",
    "\n",
    "- - -"
   ]
  },
  {
   "cell_type": "code",
   "execution_count": 1,
   "metadata": {},
   "outputs": [
    {
     "data": {
      "text/html": [
       "<style>.container { width:90% !important; }</style>"
      ],
      "text/plain": [
       "<IPython.core.display.HTML object>"
      ]
     },
     "metadata": {},
     "output_type": "display_data"
    }
   ],
   "source": [
    "from IPython.core.display import display, HTML\n",
    "display(HTML(\"<style>.container { width:90% !important; }</style>\"))"
   ]
  },
  {
   "cell_type": "markdown",
   "metadata": {},
   "source": [
    "## 1. Introduction\n",
    "\n",
    "____\n",
    "\n",
    "Mean-variance analysis remains the most widely used asset allocation method, despite it simplicity. Some of the reasons for its popularity are:\n",
    "\n",
    " - It provides an intuitive assessment of the relative merits of alternative portfolios.\n",
    " - Mean-variance frontiers are spanned by only two funds, which simplifies calculations.\n",
    " - It becomes the natural approach if we assume Gausian or elliptical distributions for assets returns\n",
    " \n",
    "#### *Definition 1.* \n",
    "*A portfolio with excess returns $r_{1t}$ is mean-variance efficient with respect to a given set of $N_2$ assets with excess returns $r_{2t}$ if it is not possible to form another portfolio of those assets and $r_{1t}$ with the same expected return as $r_{1t}$ but a lower variance, or more appropriately, with the same variance but a higher expected return.*\n",
    "\n",
    "#### *Definition 2*\n",
    "*The incremental Sharpe ratio, or iSharpe, is a measure of the contribution of a position or sub-portfolio to the overall Sharpe ratio of a portfolio. If the iSharpe of a sub-portfolio is positive, then increasing the allocation to that sub-portfolio slightly will increase the overall Sharpe ratio of the portfolio. Likewise, if the iSharpe of a sub-portfolio is negative, then increasing the allocation to that sub-portfolio slightly will decrease the overall Sharpe ratio of the portfolio.  $r_{1t}$ is mean-variance efficient with respect to the set of $N_2$ assets if the incremental Sharpe ratio of $N_2$  is negative or equal zero.*\n",
    "\n",
    "\n",
    "If the first two moments of returns were known, then it would be straightforward to confirm or disprove the mean-variance efficiency of $r_{1t}$ by simply checking whether they lied on the portfolio frontier spanned by $r_t = (r_{1t} , r_{2t})$. In practice, of course, the mean and variance of portfolio returns are unknown. Therefore, a statistical hypothesis test provides a rather natural decision method in this context because it explicitly takes into account the sampling variability in the estimation of the first two moments of returns.\n",
    "\n",
    "The **purpose of this paper** is to survey mean-variance efficiency tests, with an emphasis on methodology rather than empirical findings, and paying more attention to some recent contributions and their econometric subtleties."
   ]
  },
  {
   "cell_type": "markdown",
   "metadata": {},
   "source": [
    "## 2. Theoretical set-up\n",
    "\n",
    "____\n",
    "\n",
    "Consider a word with one riskless asset and N risky assets in which:\n",
    "\n",
    "- $R_0$ $\\longrightarrow$ Gross return of the safe asset\n",
    "- $R = (R_1, R_2, \\dots, R_N)$ $\\longrightarrow$ returns on the N risky assets with mean and variance $v$ and $\\Sigma$\n",
    "- $w_0$ and $w = (w_1, \\dots, w_N)$ $\\longrightarrow$ weights of assets in the portfolio.\n",
    "- $p = w_0R_0 + w_1R_1 +\\dots, +w_NR_N$ $\\longrightarrow$ payoffs of the portfolio\n",
    "- $C(p) = w_0 + w'i_N$ where $i_N = [1, \\dots, 1]$ $\\longrightarrow$ Cost of the porfolio\n",
    "- $E(p) = w_0R_0 +w'v$ $\\longrightarrow$ Expected payoff\n",
    "- $V(p) = w'\\Sigma w$ $\\longrightarrow$ Variance of the portfolio\n",
    "\n",
    "Let $\\mathcal{P}$ be the  set of payoffs from all possible portfolios of the $N+1$ original assets, there are some subsets of  $\\mathcal{P}$ that deserve special attention.\n",
    "\n",
    "-  $\\mathcal{R} = \\{ p \\in  \\mathcal{P}: C(p) = 1 \\}$ $\\longrightarrow$ Unit-cost porfolio\n",
    "-  $\\mathcal{A} = \\{ p \\in  \\mathcal{P}: C(p) = 0 \\}$ $\\longrightarrow$ Arbitrage porfolio\n",
    "\n",
    "From now on we shall work with excess returns:\n",
    "\n",
    "- $r = R - R_0i_N$ $\\longrightarrow$ Excess returns vector\n",
    "- $\\mu = v - R_0i_N$ $\\longrightarrow$ Expected excess returns\n",
    "\n",
    "\n",
    "The usual practice is to find the frontier for unit-cost portfolios, but one could also find it for the arbitrage portfolio and then shift it upwards in parallel by the amount $R_0$.\n",
    "\n",
    "The trade-off between risk and return of any unit-cost portfolio in $\\mathcal{R}$ is usually measured as the ratio of its\n",
    "risk premium to its standard deviation. More formally, if $R_u \\in \\mathcal{R}$, then $s(r_u) = \\mu_u/\\sigma_u$, where\n",
    "$\\mu_u = E(r_u)$ , $\\sigma_u^2 = V (r_u)$ and $r_u = R_u − R_0$. \n",
    "\n",
    "This expression, known as the Sharpe ratio of the portfolio , remains constant for any portfolio whose mean excess return\n",
    "and standard deviation lie along the ray which, starting at the origin, passes through the point $\\mu_u, \\sigma_u$ because the Sharpe ratio coincides with the slope of this ray. \n",
    "As a result, the steeper (flatter) a ray is, the higher (lower) the corresponding Sharpe ratio.\n",
    "\n",
    "As the investor moves away from the origin, where she is holding all her wealth in the safe asset, the net total position invested in the riskless asset is steadily decreasing, and eventually becomes zero (in the tangency portfolio). Beyond that point, she begins to borrow in the money market to lever up her position in the financial markets. \n",
    "\n",
    "The main point here is that **a portfolio will span the mean-variance frontier if and only if its square Sharpe ratio is\n",
    "maximum**. This equivalence relationship underlies most mean-variance efficiency tests.\n",
    "\n",
    "From the mathematics of the mean-variance frontier, we know that $E(r_j) = cov(r_j, r_p)E(r_p)/V (r_p)$. Dividing by $\\sigma_j$ we get $s(r_j ) = cor(r_j,r_p)s(r_p) $.\n",
    "\n",
    "\n",
    "We can then relate the maximum Sharpe ratio to the Sharpe ratio of the N underlying assets.\n",
    "\n",
    "#### *Proposition 1.*\n",
    "*The Sharpe ratio of the optimal portfolio, $s(r_p)$, only depends on the vector of Sharpe ratios of the $N$ underlying assets, $s(r)$, and their correlation matrix, $\\rho_{rr}$*:\n",
    "\n",
    "$$s^2(r_p) = s(r)'\\rho_{rr}^{-1}s(r)$$\n",
    "\n",
    "\n",
    "We can use the partitioned inverse formula to alternatively write the above expression in the following convenient form:\n",
    "\n",
    "$$s^2(r_p) = s(r_1)'\\rho_{r_1r_1}^{-1}s(r_1) + s(z_2)' \\rho_{zz}^{-1}s(z_2)$$\n",
    "\n",
    "$$s^2(r_p) = s^2(r_{p_1}) + a' \\Sigma^{-1} a $$\n",
    "\n",
    "where $s(r_{p_1})$ is the Sharpe ratio of the tangency portfolio obtained from $r_1$ alone, the vector $z_2 = r_2 − \\Sigma_{21}\\Sigma_{11}^{-1}r_1$ contains the components of $r_2$ whose risk has been fully hedged against the risk of $r_1$, $a = E(z_2) = \\mu_2 − \\Sigma_{21}\\Sigma_{11}^{-1}\\mu_1$\n",
    "\n",
    "$r_1$ is regarded as a benchmark portfolio, $s(z_2)$ is often known as the information (or appraisal) ratio of $r_2$.\n",
    "\n",
    "\n",
    "Given that we can interpret a as the intercepts in the theoretical least-squares projection of $r_2$ on a constant and $r_1$, it trivially follows that **$r_1$ will be mean-variance efficient if and only if $a = 0$.** (Gibbons, Ross & Shanken (1989) approach, GSR hereinafter)"
   ]
  },
  {
   "cell_type": "markdown",
   "metadata": {},
   "source": [
    "### Some background\n",
    "\n",
    " - Gibbons, Ross & Shanken (1989)\n",
    " - Black, Jensen & Scholes (1972)\n",
    " - Cochrane (2001)"
   ]
  },
  {
   "cell_type": "markdown",
   "metadata": {},
   "source": [
    "## 3. The original tests\n",
    "\n",
    "____\n",
    "\n",
    "The framework described in the previous section has an implicit time dimension that corresponds to the investment horizon of the agents. To make it econometrically operational for a panel data of excess returns on $N1 + N2 = N$ assets over $T$ periods whose length supposedly coincides with the relevant investment horizon, GRS considered the following multivariate, conditionally homoscedastic, linear regression model:\n",
    "\n",
    "$$r_{2t} = a + B r_{1t} + u_t = a + B r_{1t} + \\Omega^{1/2}\\epsilon_t^∗$$\n",
    "\n",
    "The estimated parameters are:\n",
    "\n",
    "$$\\hat{a} = \\hat{\\mu_2} - \\hat{B}\\hat{\\mu_1}$$\n",
    "$$\\hat{B} = \\hat{\\Sigma}_{21}\\hat{\\Sigma}_{11}^{-1}$$\n",
    "$$\\hat{\\Omega} = \\hat{\\Sigma}_{22} - \\hat{\\Sigma}_{21} \\hat{\\Sigma}_{11}^{-1} \\hat{\\Sigma}_{21}'$$\n",
    "\n",
    "\n",
    "We are interested in testing the $H_0: a=0$\n",
    "\n",
    "If $\\Omega$ were known, the Wald ($W_T$), LM ($LM_T$) and LR ($LR_T$) tests would be the same.\n",
    "Since that is not the case, the tests no longer coincide.\n",
    "\n",
    "In fact, in finite samples, the test statistics satisfy the following inequalities:\n",
    "$$W_T \\leq LR_T \\leq LM_T$$\n",
    "\n",
    "which may lead to the conflict among criteria for testing hypotheses.\n",
    "\n",
    "In this context, the novel contribution of GRS was to exploit results from classic multivariate regression analysis to show that, conditional on the sufficient statistic $\\hat{\\mu_1}$ and $\\hat{\\Sigma}_{11}$, the test statistic \n",
    "\n",
    "$$F = \\dfrac{T-N_2-N_1}{N_2}\\dfrac{\\hat{a}'\\hat{\\Omega}^{-1}\\hat{a}}{1 + \\hat{\\mu_1}' \\hat{\\Sigma}_{11}^{-1} \\hat{\\mu_1}}$$\n",
    "\n",
    "will be distributed in finite samples as a non-central $F$ with $N_2$ and $T − N_1 − N_2$ degrees of freedom and non-centrality parameter;\n",
    "$$T \\dfrac{\\hat{a_0}'\\hat{\\Omega_0}^{-1}\\hat{a_0}}{1 + \\hat{\\mu_1}' \\hat{\\Sigma}_{11}^{-1} \\hat{\\mu_1}}$$.\n",
    "\n",
    "For $H_0: a=0$, we have a central $F$ distribution.\n",
    "\n",
    "GRS also showed that:\n",
    "\n",
    "$$\\hat{a}'\\hat{\\Omega}^{-1}\\hat{a} = \\hat{s}^2(\\hat{r}_p) - \\hat{s}^2(\\hat{r}_{p_1})$$\n",
    "\n",
    "where $\\hat{s}^2(\\hat{r}_p)$ is the (square) sample Sharpe ratio of the ex post tangency portfolio that combines $r_1$ and $r_2$, while $\\hat{s}^2(\\hat{r}_{p_1})$ is the (square) sample Sharpe ratio of the ex post tangency portfolio that uses data on $r_1$ only.\n",
    "\n",
    "\n",
    "### GMM methodology\n",
    "\n",
    "Although the existence of finite sample results is very attractive, particularly when $N_2$ is moderately large, many empirical studies with financial time-series data indicate that the distribution of asset returns is usually rather leptokurtic.\n",
    "The advantage of working within a GMM framework is that under fairly weak regularity conditions inference can be made robust to departures from the assumption of normality, conditional homoscedasticity, serial independence or identity of distribution.\n",
    "\n",
    "The orthogonality conditions considered are:\n",
    "\n",
    "$$ E [ m_R(R_t; \\theta)] = 0$$\n",
    "$$m_R(R_t; \\theta) = \\begin{bmatrix}{1}\\\\{r_{1t}}\\end{bmatrix} \\otimes \\epsilon_t(\\theta)$$\n",
    "$$ \\epsilon_t(\\theta) = r_{2t} - a - B r_{1t}$$\n",
    "\n",
    "From here, it is straightforward to obtain robust, efficient versions of the Wald and LM tests, which will continue to be asymptotically equivalent to each other under the null and sequences of local alternatives. However, the LR test will not be asymptotically valid unless $\\epsilon_t(\\theta)$  is i.i.d. conditional on $r_{1t}$ and $I_{t−1}$.  "
   ]
  },
  {
   "cell_type": "markdown",
   "metadata": {},
   "source": [
    "## 4. The effects of the number of assets and portfolio composition on test power\n",
    "\n",
    "- - - \n",
    "\n",
    "In practice, the substantive conclusions about the mean-variance efficiency of a candidate portfolio can be rather sensitive to the way in which tests are implemented.\n",
    "\n",
    "Let us start by considering a very simple practical situation. Black et al. (1972) proposed the use of the t-ratio of $a_i$ in the regression of $r_2$ on a constant and $r_1$ to test the mean-variance efficiency of $r_1$. However, when $r_2$ contains more than one element, it seems natural to follow GRS and conduct a joint test of $H_0 : a = 0$ in order to increase the probability of rejecting the null hypothesis when $r_1$ is not mean-variance efficient. Somewhat surprisingly, the answer is not so straightforward.\n",
    "\n",
    "For simplicity, let us initially assume that there are only two assets in $r_2$, $r_i$ and $r_j$. When we add $r_j$ to $r_i$for the purpose of testing the mean-variance efficiency of $r_1$, we must consider three effects:\n",
    "\n",
    "1. The increase in the so-called non-centrality parameter of the test statistic, which  ceteris paribus increases power.\n",
    "\n",
    "2. The increase in the number of degrees of freedom of the numerator, which ceteris paribus decreases power.\n",
    "\n",
    "3. The decrease in the number of degrees of freedom of the denominator resulting from the fact that there are additional parameters to be estimated, which ceteris paribus decreases power too, although not by much if T is reasonably large.\n",
    "\n",
    "Another important question is: If we want to increase the chances of rejecting the null hypothesis when $r_{1t}$ is not mean-variance efficient, should we group $r_{it}$ and $r_{jt}$ into a portfolio and carry out a single individual t-test, or should we consider them separately?\n",
    "\n",
    "All of this is studied in detail in Rada & Sentana (1997)."
   ]
  },
  {
   "cell_type": "markdown",
   "metadata": {},
   "source": [
    "## 5. More efficient test\n",
    "\n",
    "- - - "
   ]
  },
  {
   "cell_type": "code",
   "execution_count": null,
   "metadata": {},
   "outputs": [],
   "source": []
  }
 ],
 "metadata": {
  "kernelspec": {
   "display_name": "Python 3",
   "language": "python",
   "name": "python3"
  },
  "language_info": {
   "codemirror_mode": {
    "name": "ipython",
    "version": 3
   },
   "file_extension": ".py",
   "mimetype": "text/x-python",
   "name": "python",
   "nbconvert_exporter": "python",
   "pygments_lexer": "ipython3",
   "version": "3.7.6"
  }
 },
 "nbformat": 4,
 "nbformat_minor": 4
}
