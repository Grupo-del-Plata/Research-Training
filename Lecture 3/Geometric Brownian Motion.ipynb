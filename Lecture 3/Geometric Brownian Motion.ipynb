{
 "cells": [
  {
   "cell_type": "code",
   "execution_count": 1,
   "metadata": {},
   "outputs": [
    {
     "data": {
      "text/html": [
       "<style>.container { width:90% !important; }</style>"
      ],
      "text/plain": [
       "<IPython.core.display.HTML object>"
      ]
     },
     "metadata": {},
     "output_type": "display_data"
    }
   ],
   "source": [
    "import ipywidgets as widgets\n",
    "from IPython.display import display\n",
    "import pandas as pd\n",
    "import matplotlib.pyplot as plt\n",
    "import numpy as np\n",
    "from IPython.core.display import display, HTML\n",
    "display(HTML(\"<style>.container { width:90% !important; }</style>\"))"
   ]
  },
  {
   "cell_type": "code",
   "execution_count": 2,
   "metadata": {},
   "outputs": [],
   "source": [
    "def gbm(n_years = 10, n_scenarios=1000, mu=0.07, sigma=0.15, steps_per_year=12, s_0=100.0):\n",
    "    \"\"\"\n",
    "    Evolution of Geometric Brownian Motion trajectories, such as for Stock Prices\n",
    "    :param n_years:  The number of years to generate data for\n",
    "    :param n_paths: The number of scenarios/trajectories\n",
    "    :param mu: Annualized Drift, e.g. Market Return\n",
    "    :param sigma: Annualized Volatility\n",
    "    :param steps_per_year: granularity of the simulation\n",
    "    :param s_0: initial value\n",
    "    :return: a numpy array of n_paths columns and n_years*steps_per_year rows\n",
    "    \"\"\"\n",
    "    # Derive per-step Model Parameters from User Specifications\n",
    "    dt = 1/steps_per_year\n",
    "    n_steps = int(n_years*steps_per_year) + 1\n",
    "    rets_plus_1 = np.random.normal(loc=(mu*dt+1), scale=(sigma*np.sqrt(dt)), size=(n_steps, n_scenarios))\n",
    "    rets_plus_1[0] = 1\n",
    "    prices = s_0*pd.DataFrame(rets_plus_1).cumprod()\n",
    "    return prices"
   ]
  },
  {
   "cell_type": "code",
   "execution_count": 3,
   "metadata": {
    "scrolled": false
   },
   "outputs": [],
   "source": [
    "def plot_gbm(n_scenarios, mu, sigma):\n",
    "    simulations = gbm(n_years=10, n_scenarios= n_scenarios, mu=mu, sigma=sigma, steps_per_year=12, s_0=100)\n",
    "    fig, (ax1, ax2) = plt.subplots(nrows=1, ncols=2, sharey = True, figsize = (22,9))\n",
    "    plt.subplots_adjust(wspace=0)\n",
    "    ax1.plot(simulations, color = 'indianred', alpha = .5)\n",
    "    ax1.axhline(100, color = 'k', linestyle = 'dashed')\n",
    "    ax1.grid()\n",
    "    ax1.autoscale(tight = True, axis = 'x')\n",
    "    ax2.hist(simulations.iloc[-1], color = 'indianred', bins=50, orientation = 'horizontal', label = 'Final price')\n",
    "    ax2.axhline(simulations.iloc[-1].mean(), color = 'k', label = 'Mean', linestyle = 'dashed')\n",
    "    ax2.legend()\n",
    "    ax2.grid()\n",
    "    return plt.show()"
   ]
  },
  {
   "cell_type": "code",
   "execution_count": 4,
   "metadata": {},
   "outputs": [],
   "source": [
    "simulations = widgets.interactive(plot_gbm,\n",
    "                    n_scenarios = (1,300,5), \n",
    "                    mu = (0.01, 0.3, 0.02), \n",
    "                    sigma = (0.01, 0.3, 0.02)\n",
    "            )"
   ]
  },
  {
   "cell_type": "code",
   "execution_count": 5,
   "metadata": {},
   "outputs": [
    {
     "data": {
      "application/vnd.jupyter.widget-view+json": {
       "model_id": "f7098b9aa357466d85aa910ef0d62182",
       "version_major": 2,
       "version_minor": 0
      },
      "text/plain": [
       "interactive(children=(IntSlider(value=146, description='n_scenarios', max=300, min=1, step=5), FloatSlider(val…"
      ]
     },
     "metadata": {},
     "output_type": "display_data"
    }
   ],
   "source": [
    "simulations"
   ]
  },
  {
   "cell_type": "code",
   "execution_count": null,
   "metadata": {},
   "outputs": [],
   "source": []
  }
 ],
 "metadata": {
  "kernelspec": {
   "display_name": "Python 3",
   "language": "python",
   "name": "python3"
  },
  "language_info": {
   "codemirror_mode": {
    "name": "ipython",
    "version": 3
   },
   "file_extension": ".py",
   "mimetype": "text/x-python",
   "name": "python",
   "nbconvert_exporter": "python",
   "pygments_lexer": "ipython3",
   "version": "3.8.3"
  }
 },
 "nbformat": 4,
 "nbformat_minor": 4
}
