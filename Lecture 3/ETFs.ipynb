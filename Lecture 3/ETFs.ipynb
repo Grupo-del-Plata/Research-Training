{
 "cells": [
  {
   "cell_type": "code",
   "execution_count": 40,
   "metadata": {},
   "outputs": [],
   "source": [
    "from PyPDF4 import PdfFileReader\n",
    "import re\n",
    "import pandas as pd\n",
    "import yfinance as yf"
   ]
  },
  {
   "cell_type": "code",
   "execution_count": 49,
   "metadata": {},
   "outputs": [],
   "source": [
    "file = 'C:/Users/jsaul/Documents/ETF Lists.pdf'\n",
    "pdf = open(file, \"rb\")\n",
    "reader = PdfFileReader(pdf)\n",
    "number_of_pages = reader.getNumPages()\n",
    "tickers = []\n",
    "\n",
    "for i in range(number_of_pages):\n",
    "    page = reader.getPage(i)\n",
    "    page_content = page.extractText()\n",
    "    lines = re.split('\\n',page_content)\n",
    "    for l in lines :\n",
    "        if len(l)<5 and len(l)>1 and l != 'Name':\n",
    "            tickers.append(l)\n",
    "tickers.remove('ETF')            "
   ]
  },
  {
   "cell_type": "code",
   "execution_count": 50,
   "metadata": {},
   "outputs": [
    {
     "name": "stdout",
     "output_type": "stream",
     "text": [
      "[*********************100%***********************]  144 of 144 completed\n",
      "\n",
      "2 Failed downloads:\n",
      "- GLDW: No data found for this date range, symbol may be delisted\n",
      "- FONE: No data found for this date range, symbol may be delisted\n"
     ]
    }
   ],
   "source": [
    "prices = pd.DataFrame()\n",
    "prices = yf.download(tickers, start = '2020-01-01')"
   ]
  }
 ],
 "metadata": {
  "kernelspec": {
   "display_name": "Python 3",
   "language": "python",
   "name": "python3"
  },
  "language_info": {
   "codemirror_mode": {
    "name": "ipython",
    "version": 3
   },
   "file_extension": ".py",
   "mimetype": "text/x-python",
   "name": "python",
   "nbconvert_exporter": "python",
   "pygments_lexer": "ipython3",
   "version": "3.8.3"
  }
 },
 "nbformat": 4,
 "nbformat_minor": 4
}
